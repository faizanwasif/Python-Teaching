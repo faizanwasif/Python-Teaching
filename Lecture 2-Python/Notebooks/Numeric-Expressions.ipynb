{
 "cells": [
  {
   "cell_type": "code",
   "execution_count": 1,
   "id": "22cced93-5764-4eba-9596-a08c27d1a741",
   "metadata": {},
   "outputs": [],
   "source": [
    "area = 10 * 2"
   ]
  },
  {
   "cell_type": "code",
   "execution_count": 2,
   "id": "61fa3f9b-bf7d-488b-90b9-5e70d626841f",
   "metadata": {},
   "outputs": [
    {
     "name": "stdout",
     "output_type": "stream",
     "text": [
      "20\n"
     ]
    }
   ],
   "source": [
    "print(area)"
   ]
  },
  {
   "cell_type": "code",
   "execution_count": 3,
   "id": "fe76fb4b-42ab-486a-95ce-8335dd857a74",
   "metadata": {},
   "outputs": [],
   "source": [
    "division = 10/2"
   ]
  },
  {
   "cell_type": "code",
   "execution_count": 4,
   "id": "7551ac6c-e057-42d2-a02b-a85131b8c93f",
   "metadata": {},
   "outputs": [
    {
     "name": "stdout",
     "output_type": "stream",
     "text": [
      "5.0\n"
     ]
    }
   ],
   "source": [
    "print(division)"
   ]
  },
  {
   "cell_type": "code",
   "execution_count": 8,
   "id": "18bc86bc-fe7a-4215-a121-364e0c62dde3",
   "metadata": {},
   "outputs": [],
   "source": [
    "h = 20\n",
    "w = 3"
   ]
  },
  {
   "cell_type": "code",
   "execution_count": 9,
   "id": "d3b593e3-0dfd-4df5-8b40-43ffa2f7803d",
   "metadata": {},
   "outputs": [],
   "source": [
    "area = h * w"
   ]
  },
  {
   "cell_type": "code",
   "execution_count": 10,
   "id": "b314db0c-f418-460b-b2ca-2c378e8ec780",
   "metadata": {},
   "outputs": [
    {
     "name": "stdout",
     "output_type": "stream",
     "text": [
      "60\n"
     ]
    }
   ],
   "source": [
    "print(area)"
   ]
  },
  {
   "cell_type": "code",
   "execution_count": null,
   "id": "eb685d4a-1e03-4538-9d89-2852a8fdd000",
   "metadata": {},
   "outputs": [],
   "source": []
  }
 ],
 "metadata": {
  "kernelspec": {
   "display_name": "Python 3 (ipykernel)",
   "language": "python",
   "name": "python3"
  },
  "language_info": {
   "codemirror_mode": {
    "name": "ipython",
    "version": 3
   },
   "file_extension": ".py",
   "mimetype": "text/x-python",
   "name": "python",
   "nbconvert_exporter": "python",
   "pygments_lexer": "ipython3",
   "version": "3.8.10"
  }
 },
 "nbformat": 4,
 "nbformat_minor": 5
}
