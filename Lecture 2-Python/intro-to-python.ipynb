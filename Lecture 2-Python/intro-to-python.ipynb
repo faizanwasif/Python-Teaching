{
 "cells": [
  {
   "cell_type": "markdown",
   "id": "52cd6855-68d2-4fb8-bc9d-cbcc7723e81a",
   "metadata": {},
   "source": [
    "## Objectives\n",
    "\n",
    "*   Write basic code in Python"
   ]
  },
  {
   "cell_type": "code",
   "execution_count": 2,
   "id": "be992d40-7f7c-47f8-972c-87c89c103279",
   "metadata": {},
   "outputs": [
    {
     "name": "stdout",
     "output_type": "stream",
     "text": [
      "Hello world\n"
     ]
    }
   ],
   "source": [
    "print(\"Hello world\")"
   ]
  },
  {
   "cell_type": "code",
   "execution_count": 4,
   "id": "81010297-8010-48fc-9edf-89641933ef80",
   "metadata": {},
   "outputs": [
    {
     "data": {
      "text/plain": [
       "False"
      ]
     },
     "execution_count": 4,
     "metadata": {},
     "output_type": "execute_result"
    }
   ],
   "source": [
    "1 == 2"
   ]
  },
  {
   "cell_type": "code",
   "execution_count": null,
   "id": "4c56fecc-8a37-4147-8833-14b92528d42a",
   "metadata": {},
   "outputs": [],
   "source": [
    "=, ==, errors"
   ]
  },
  {
   "cell_type": "code",
   "execution_count": 5,
   "id": "ccbb264e-4b96-4ce6-8fde-31838af9bec8",
   "metadata": {},
   "outputs": [],
   "source": [
    "Faizan = \"Super Human\""
   ]
  },
  {
   "cell_type": "code",
   "execution_count": 6,
   "id": "d45cbcab-7185-4842-98ac-067ccba6999d",
   "metadata": {},
   "outputs": [
    {
     "name": "stdout",
     "output_type": "stream",
     "text": [
      "Super Human\n"
     ]
    }
   ],
   "source": [
    "print(Faizan)"
   ]
  },
  {
   "cell_type": "code",
   "execution_count": 7,
   "id": "aa878699-f8dc-4cd4-ab91-e0e830487fb1",
   "metadata": {},
   "outputs": [],
   "source": [
    "Faizan = \"Normal Human\""
   ]
  },
  {
   "cell_type": "code",
   "execution_count": 8,
   "id": "b1c3d13f-9693-471d-8d25-2c9cbf428aca",
   "metadata": {},
   "outputs": [
    {
     "name": "stdout",
     "output_type": "stream",
     "text": [
      "Normal Human\n"
     ]
    }
   ],
   "source": [
    "print(Faizan)"
   ]
  },
  {
   "cell_type": "code",
   "execution_count": null,
   "id": "7c32525f-4f51-4fe6-9928-79c10915ba6b",
   "metadata": {},
   "outputs": [],
   "source": []
  }
 ],
 "metadata": {
  "kernelspec": {
   "display_name": "Python 3 (ipykernel)",
   "language": "python",
   "name": "python3"
  },
  "language_info": {
   "codemirror_mode": {
    "name": "ipython",
    "version": 3
   },
   "file_extension": ".py",
   "mimetype": "text/x-python",
   "name": "python",
   "nbconvert_exporter": "python",
   "pygments_lexer": "ipython3",
   "version": "3.8.10"
  }
 },
 "nbformat": 4,
 "nbformat_minor": 5
}
