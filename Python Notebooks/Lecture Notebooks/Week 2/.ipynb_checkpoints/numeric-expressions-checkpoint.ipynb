{
 "cells": [
  {
   "cell_type": "markdown",
   "id": "82e4341b-c678-4285-96cc-e9ede529b90a",
   "metadata": {},
   "source": [
    "# Numeric Expressions and Operator Precedence"
   ]
  },
  {
   "cell_type": "code",
   "execution_count": 1,
   "id": "a5911d15-9e81-420c-a3e4-5f61eea095f5",
   "metadata": {},
   "outputs": [],
   "source": [
    "# BODMAS\n",
    "result1 = 4 + 7 * 2 - 5 / 3\n",
    "\n",
    "result2 = 10 / 2 + 3 ** 2 - 6\n",
    "\n",
    "result3 = 8 * 3 / 2 - 4 + 5 ** 2"
   ]
  },
  {
   "cell_type": "code",
   "execution_count": 2,
   "id": "9c5e9664-263b-46d0-987c-aa10486191bf",
   "metadata": {},
   "outputs": [
    {
     "name": "stdout",
     "output_type": "stream",
     "text": [
      "16.333333333333332\n"
     ]
    }
   ],
   "source": [
    "print(result1)"
   ]
  },
  {
   "cell_type": "code",
   "execution_count": 3,
   "id": "76ed2adb-e6bd-4516-85c3-368647b4fff9",
   "metadata": {},
   "outputs": [
    {
     "name": "stdout",
     "output_type": "stream",
     "text": [
      "8.0\n"
     ]
    }
   ],
   "source": [
    "print(result2)"
   ]
  },
  {
   "cell_type": "code",
   "execution_count": 4,
   "id": "51531583-305c-4f56-9a79-ef299d84e9c4",
   "metadata": {},
   "outputs": [
    {
     "name": "stdout",
     "output_type": "stream",
     "text": [
      "33.0\n"
     ]
    }
   ],
   "source": [
    "print(result3)"
   ]
  },
  {
   "cell_type": "code",
   "execution_count": null,
   "id": "d1f1fa6c-a5f8-4d03-916a-7f3a452a8598",
   "metadata": {},
   "outputs": [],
   "source": [
    "# Practice at least 3 more examples\n",
    "\n"
   ]
  },
  {
   "cell_type": "code",
   "execution_count": 4,
   "id": "0a2aa556-2b1e-4cf5-b705-d9cb634e3b25",
   "metadata": {},
   "outputs": [
    {
     "name": "stdout",
     "output_type": "stream",
     "text": [
      "1.2\n",
      "1\n"
     ]
    }
   ],
   "source": [
    "num = 6 / 5\n",
    "print(num)\n",
    "num1 = 6 // 5\n",
    "print(num1)"
   ]
  },
  {
   "cell_type": "code",
   "execution_count": null,
   "id": "8262140f-265d-42e6-9a4e-d1e64315e2e7",
   "metadata": {},
   "outputs": [],
   "source": []
  }
 ],
 "metadata": {
  "kernelspec": {
   "display_name": "Python 3 (ipykernel)",
   "language": "python",
   "name": "python3"
  },
  "language_info": {
   "codemirror_mode": {
    "name": "ipython",
    "version": 3
   },
   "file_extension": ".py",
   "mimetype": "text/x-python",
   "name": "python",
   "nbconvert_exporter": "python",
   "pygments_lexer": "ipython3",
   "version": "3.8.10"
  }
 },
 "nbformat": 4,
 "nbformat_minor": 5
}
