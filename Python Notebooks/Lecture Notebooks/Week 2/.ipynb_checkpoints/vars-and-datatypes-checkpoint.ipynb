{
 "cells": [
  {
   "cell_type": "markdown",
   "id": "e363c917-b729-4385-b244-d1c853ba3b10",
   "metadata": {},
   "source": [
    "# Variables, and Data Types"
   ]
  },
  {
   "cell_type": "markdown",
   "id": "3cff9317-b0fe-4f50-b53d-2a88f5be23be",
   "metadata": {},
   "source": [
    "### In this notebook you will find examples for Variable naming, Integers, Floats, Booleans and Strings"
   ]
  },
  {
   "cell_type": "markdown",
   "id": "e55448df-6333-4195-a0e8-5d5790f6aa94",
   "metadata": {},
   "source": [
    "#### Varaibles"
   ]
  },
  {
   "cell_type": "code",
   "execution_count": null,
   "id": "edfaeeb8-bf93-4bdd-bf7d-977686ee5415",
   "metadata": {},
   "outputs": [],
   "source": [
    "# The below exaples are for rule # 1"
   ]
  },
  {
   "cell_type": "code",
   "execution_count": null,
   "id": "a2bf7134-90d5-4ed2-ae78-f1227092db9f",
   "metadata": {},
   "outputs": [],
   "source": [
    "marks = 200\n",
    "print(marks)"
   ]
  },
  {
   "cell_type": "code",
   "execution_count": null,
   "id": "493d9ac3-ba6a-435a-b22e-81af02d78d4d",
   "metadata": {},
   "outputs": [],
   "source": [
    "1marks = 200\n",
    "print(marks)"
   ]
  },
  {
   "cell_type": "code",
   "execution_count": null,
   "id": "28857381-d4ff-4511-ac4b-633cafafcb62",
   "metadata": {},
   "outputs": [],
   "source": [
    "# This example is for rule # 2\n",
    "m12arks = 200\n",
    "print(marks)"
   ]
  },
  {
   "cell_type": "code",
   "execution_count": null,
   "id": "68164c79-b1f0-4315-ac74-1cafccfb1f39",
   "metadata": {},
   "outputs": [],
   "source": [
    "# The below examples are for Third Rule which says case matters"
   ]
  },
  {
   "cell_type": "code",
   "execution_count": 3,
   "id": "bce94135-496e-4cfd-9c1a-e7b20ccb9633",
   "metadata": {},
   "outputs": [
    {
     "name": "stdout",
     "output_type": "stream",
     "text": [
      "1st :  25\n",
      "2nd :  15\n",
      "3rd :  20\n",
      "4th :  25\n"
     ]
    }
   ],
   "source": [
    "age = 25\n",
    "print(\"1st : \", age)\n",
    "     \n",
    "Age = 15\n",
    "print(\"2nd : \", Age)\n",
    "\n",
    "aGe = 20\n",
    "print(\"3rd : \", aGe)\n",
    "\n",
    "AGE = 25\n",
    "print(\"4th : \", AGE)"
   ]
  },
  {
   "cell_type": "code",
   "execution_count": 1,
   "id": "34f4c2f7-b839-4d65-b398-239bfedd450a",
   "metadata": {},
   "outputs": [],
   "source": [
    "# try more examples for each rule\n",
    "\n"
   ]
  },
  {
   "cell_type": "markdown",
   "id": "3b7dfb79-3a68-489f-ad6a-9c212e880ca4",
   "metadata": {},
   "source": [
    "### Integers"
   ]
  },
  {
   "cell_type": "code",
   "execution_count": null,
   "id": "d1cc950b-7830-43b4-b19c-b813a18f5db4",
   "metadata": {},
   "outputs": [],
   "source": [
    "height = 10\n",
    "print(\"The type of Height is : \", type(height))\n",
    "print(\"The value of Height is : \", height)"
   ]
  },
  {
   "cell_type": "markdown",
   "id": "b7d8b584-0757-4e69-a4de-821ac247a77c",
   "metadata": {},
   "source": [
    "### Floats"
   ]
  },
  {
   "cell_type": "code",
   "execution_count": null,
   "id": "4e885520-6faf-4aab-8f7e-089d86f9c03e",
   "metadata": {},
   "outputs": [],
   "source": [
    "weight = 20.5\n",
    "print(\"The type of Weight is : \", type(weight))\n",
    "print(\"The value of Weight is : \", weight)"
   ]
  },
  {
   "cell_type": "markdown",
   "id": "babe9b04-ff8f-4f43-8e7b-23c23a744530",
   "metadata": {},
   "source": [
    "### Booleans"
   ]
  },
  {
   "cell_type": "code",
   "execution_count": null,
   "id": "9984ec48-40af-4f11-96cd-ae5ab287bc39",
   "metadata": {},
   "outputs": [],
   "source": [
    "good = True\n",
    "print(\"The type of good is : \", type(good))\n",
    "print(\"The value of good is : \", good)"
   ]
  },
  {
   "cell_type": "code",
   "execution_count": 6,
   "id": "7c442cef-2025-4af2-b8e0-0d43e1b5810d",
   "metadata": {},
   "outputs": [
    {
     "name": "stdout",
     "output_type": "stream",
     "text": [
      "1 is euqal to 1?:  True\n",
      "2 is euqal to 1?:  False\n"
     ]
    }
   ],
   "source": [
    "# This is a boolean statement\n",
    "print(\"1 is euqal to 1?: \", 1 == 1 )\n",
    "print(\"2 is euqal to 1?: \", 2 == 1 )\n",
    "\n",
    "# Remember the equvalence operator?"
   ]
  },
  {
   "cell_type": "markdown",
   "id": "7f15d214-0843-4811-a1f1-75d00d77e833",
   "metadata": {},
   "source": [
    "### Strings"
   ]
  },
  {
   "cell_type": "code",
   "execution_count": null,
   "id": "02de40ca-0594-4b8d-8f0a-c85da3fe42a4",
   "metadata": {},
   "outputs": [],
   "source": [
    "message = \"Hello World\"\n",
    "print(message)"
   ]
  },
  {
   "cell_type": "code",
   "execution_count": null,
   "id": "384b861b-d662-4afb-a59f-8403abf849f0",
   "metadata": {},
   "outputs": [],
   "source": [
    "# A string is anything written in quotes \" \", ' '"
   ]
  }
 ],
 "metadata": {
  "kernelspec": {
   "display_name": "Python 3 (ipykernel)",
   "language": "python",
   "name": "python3"
  },
  "language_info": {
   "codemirror_mode": {
    "name": "ipython",
    "version": 3
   },
   "file_extension": ".py",
   "mimetype": "text/x-python",
   "name": "python",
   "nbconvert_exporter": "python",
   "pygments_lexer": "ipython3",
   "version": "3.8.10"
  }
 },
 "nbformat": 4,
 "nbformat_minor": 5
}
