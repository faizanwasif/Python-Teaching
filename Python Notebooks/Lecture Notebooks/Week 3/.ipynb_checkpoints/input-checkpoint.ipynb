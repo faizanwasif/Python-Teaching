{
 "cells": [
  {
   "cell_type": "markdown",
   "id": "bb8b56cd-759a-4d78-9fe8-8f717b64b133",
   "metadata": {},
   "source": [
    "# Taking User Input in Python"
   ]
  },
  {
   "cell_type": "markdown",
   "id": "36957854-d054-461b-92c3-16ab6ec32960",
   "metadata": {},
   "source": [
    "## Introduction\n",
    "\n",
    "User input is a fundamental aspect of interactive programming. In Python, you can receive input from users through the input() function. This notebook will demonstrate how to use input() effectively, handle different types of input, and perform basic validation."
   ]
  },
  {
   "cell_type": "markdown",
   "id": "4aaf8802-e9be-4104-a0fc-2aabcccd71f0",
   "metadata": {},
   "source": [
    "## The input() Function\n",
    "\n",
    "The input() function is used to read a line of text from the user's input and returns it as a string. Its basic usage is as follows:"
   ]
  },
  {
   "cell_type": "code",
   "execution_count": 1,
   "id": "3ce74fa7-e274-41f4-affe-e0c70a0be61e",
   "metadata": {},
   "outputs": [
    {
     "name": "stdin",
     "output_type": "stream",
     "text": [
      "Prompt message:  Hello World\n"
     ]
    }
   ],
   "source": [
    "user_input = input(\"Prompt message: \")"
   ]
  },
  {
   "cell_type": "markdown",
   "id": "84c818eb-5a9d-4a0b-87d8-c0aff6a2dd33",
   "metadata": {},
   "source": [
    "### Example 1: Basic Input\n",
    "\n",
    "Let's start with a simple example:"
   ]
  },
  {
   "cell_type": "code",
   "execution_count": 1,
   "id": "02d07e78-4887-4dd2-8cba-fa6da56519f3",
   "metadata": {},
   "outputs": [
    {
     "name": "stdin",
     "output_type": "stream",
     "text": [
      "Enter your name:  faizan\n"
     ]
    },
    {
     "name": "stdout",
     "output_type": "stream",
     "text": [
      "Hello, faizan!\n"
     ]
    }
   ],
   "source": [
    "name = input(\"Enter your name: \")\n",
    "print(\"Hello, \" + name + \"!\")\n",
    "\n",
    "# whenever we take input from user that is a string"
   ]
  },
  {
   "cell_type": "markdown",
   "id": "c69759d3-4cca-4149-876c-537e8ac3b018",
   "metadata": {},
   "source": [
    "### Example 2: Numeric Input\n",
    "\n",
    "input() always returns a string, so if you expect a numeric input, you should convert it to the desired type (e.g., int or float):"
   ]
  },
  {
   "cell_type": "code",
   "execution_count": 4,
   "id": "eb4f81c8-4d40-4a23-b9e4-1ef6bb7c348f",
   "metadata": {},
   "outputs": [
    {
     "name": "stdin",
     "output_type": "stream",
     "text": [
      "Enter your age:  10\n"
     ]
    },
    {
     "name": "stdout",
     "output_type": "stream",
     "text": [
      "You will be 11 next year.\n"
     ]
    }
   ],
   "source": [
    "age = int(input(\"Enter your age: \"))\n",
    "print(\"You will be \" + str(age + 1) + \" next year.\")\n",
    "\n",
    "# Here, we use int() to convert the input to an integer before performing arithmetic."
   ]
  },
  {
   "cell_type": "code",
   "execution_count": null,
   "id": "0e02f859-fcf1-4123-89a9-98ac02c603db",
   "metadata": {},
   "outputs": [],
   "source": []
  }
 ],
 "metadata": {
  "kernelspec": {
   "display_name": "Python 3 (ipykernel)",
   "language": "python",
   "name": "python3"
  },
  "language_info": {
   "codemirror_mode": {
    "name": "ipython",
    "version": 3
   },
   "file_extension": ".py",
   "mimetype": "text/x-python",
   "name": "python",
   "nbconvert_exporter": "python",
   "pygments_lexer": "ipython3",
   "version": "3.8.10"
  }
 },
 "nbformat": 4,
 "nbformat_minor": 5
}
