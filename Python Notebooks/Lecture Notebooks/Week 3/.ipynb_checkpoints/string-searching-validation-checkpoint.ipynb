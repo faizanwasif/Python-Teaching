{
 "cells": [
  {
   "cell_type": "markdown",
   "id": "ce881293-9982-42a0-aee3-9bb8eef3bb67",
   "metadata": {},
   "source": [
    "# String Searching and Validation"
   ]
  },
  {
   "cell_type": "markdown",
   "id": "ec9659f1-4f54-4cb4-be6e-b4a6a0b4316c",
   "metadata": {},
   "source": [
    "#### str.find(substring): Searches for a substring and returns its index (or -1 if not found).\n",
    "#### str.startswith(prefix): Checks if the string starts with a specified prefix.\n",
    "#### str.endswith(suffix): Checks if the string ends with a specified suffix.\n",
    "#### str.isnumeric(): Checks if the string contains only numeric characters."
   ]
  },
  {
   "cell_type": "code",
   "execution_count": 8,
   "id": "fb2aa7d5-3c0c-4a68-990a-5f4bae679efb",
   "metadata": {},
   "outputs": [
    {
     "name": "stdout",
     "output_type": "stream",
     "text": [
      "Starts with 'user'\n"
     ]
    }
   ],
   "source": [
    "email = \"user@example.com\"\n",
    "if email.find(\"%\") != -1:\n",
    "    print(\"Valid email\")\n",
    "if email.startswith(\"user\"):\n",
    "    print(\"Starts with 'user'\")\n",
    "if email.endswith(\".com\"):\n",
    "    print(\"Ends with '.com'\")\n",
    "if email.isnumeric():\n",
    "    print(\"Numeric characters only\")\n"
   ]
  },
  {
   "cell_type": "code",
   "execution_count": null,
   "id": "3a2272de-f822-440f-9d43-402ade8aaf14",
   "metadata": {},
   "outputs": [],
   "source": []
  }
 ],
 "metadata": {
  "kernelspec": {
   "display_name": "Python 3 (ipykernel)",
   "language": "python",
   "name": "python3"
  },
  "language_info": {
   "codemirror_mode": {
    "name": "ipython",
    "version": 3
   },
   "file_extension": ".py",
   "mimetype": "text/x-python",
   "name": "python",
   "nbconvert_exporter": "python",
   "pygments_lexer": "ipython3",
   "version": "3.8.10"
  }
 },
 "nbformat": 4,
 "nbformat_minor": 5
}
