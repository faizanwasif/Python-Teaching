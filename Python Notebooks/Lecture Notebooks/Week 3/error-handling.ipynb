{
 "cells": [
  {
   "cell_type": "markdown",
   "id": "8157df01-4495-4204-9e08-ef287cf722d3",
   "metadata": {},
   "source": [
    "# Handling Errors in Python"
   ]
  },
  {
   "cell_type": "markdown",
   "id": "5aa95e34-1ee6-45d9-ba22-6f1883fecc11",
   "metadata": {},
   "source": [
    "## Introduction\n",
    "\n",
    "Errors are a natural part of programming. Python provides mechanisms to handle different types of errors that may occur during program execution. In this notebook, we will explore the three main categories of errors in Python: syntax errors, runtime errors, and logical errors, along with how to handle them effectively."
   ]
  },
  {
   "cell_type": "markdown",
   "id": "d467e340-3b0c-4c49-94f2-617b789c037b",
   "metadata": {},
   "source": [
    "## Syntax Errors\n",
    "\n",
    "Syntax errors occur when there is a violation of Python's syntax rules. These errors prevent the program from running at all. They are typically identified by the Python interpreter during the compilation phase."
   ]
  },
  {
   "cell_type": "code",
   "execution_count": 5,
   "id": "320b56f6-7f10-4d10-af72-5eba60fca600",
   "metadata": {},
   "outputs": [
    {
     "ename": "SyntaxError",
     "evalue": "EOL while scanning string literal (3760663132.py, line 1)",
     "output_type": "error",
     "traceback": [
      "\u001b[0;36m  Cell \u001b[0;32mIn[5], line 1\u001b[0;36m\u001b[0m\n\u001b[0;31m    print(\"Hello, world!)\u001b[0m\n\u001b[0m                         ^\u001b[0m\n\u001b[0;31mSyntaxError\u001b[0m\u001b[0;31m:\u001b[0m EOL while scanning string literal\n"
     ]
    }
   ],
   "source": [
    "print(\"Hello, world!\")"
   ]
  },
  {
   "cell_type": "markdown",
   "id": "754781c4-68a8-4714-9dbd-55996c5e6712",
   "metadata": {},
   "source": [
    "## Runtime Errors\n",
    "\n",
    "Runtime errors occur during the execution of the program and can be caused by various factors, such as invalid input or incorrect variable usage. They are often identified by Python at runtime.\n"
   ]
  },
  {
   "cell_type": "markdown",
   "id": "fe9ca0e1-557f-404d-98ad-5c93ecf6380e",
   "metadata": {},
   "source": [
    "### Example 2: Division by Zero"
   ]
  },
  {
   "cell_type": "code",
   "execution_count": 1,
   "id": "7f725937-233c-4841-ac55-12d011f44f0f",
   "metadata": {},
   "outputs": [
    {
     "ename": "ZeroDivisionError",
     "evalue": "division by zero",
     "output_type": "error",
     "traceback": [
      "\u001b[0;31m---------------------------------------------------------------------------\u001b[0m",
      "\u001b[0;31mZeroDivisionError\u001b[0m                         Traceback (most recent call last)",
      "Cell \u001b[0;32mIn[1], line 3\u001b[0m\n\u001b[1;32m      1\u001b[0m x \u001b[38;5;241m=\u001b[39m \u001b[38;5;241m5\u001b[39m\n\u001b[1;32m      2\u001b[0m y \u001b[38;5;241m=\u001b[39m \u001b[38;5;241m0\u001b[39m\n\u001b[0;32m----> 3\u001b[0m result \u001b[38;5;241m=\u001b[39m \u001b[43mx\u001b[49m\u001b[43m \u001b[49m\u001b[38;5;241;43m/\u001b[39;49m\u001b[43m \u001b[49m\u001b[43my\u001b[49m\n\u001b[1;32m      5\u001b[0m \u001b[38;5;66;03m# In this example, dividing by zero will result in a runtime error (ZeroDivisionError).\u001b[39;00m\n",
      "\u001b[0;31mZeroDivisionError\u001b[0m: division by zero"
     ]
    }
   ],
   "source": [
    "x = 5\n",
    "y = 0\n",
    "result = x / y\n",
    "\n",
    "# In this example, dividing by zero will result in a runtime error (ZeroDivisionError)."
   ]
  },
  {
   "cell_type": "markdown",
   "id": "6762d680-4db4-43ae-827f-5d0f4e6b9e33",
   "metadata": {},
   "source": [
    "## Handling Runtime Errors\n",
    "\n",
    "We can use try and except blocks to handle runtime errors gracefully."
   ]
  },
  {
   "cell_type": "code",
   "execution_count": 1,
   "id": "6b1223ef-fb8f-4066-a6b8-6a1f8ceabd9c",
   "metadata": {},
   "outputs": [
    {
     "name": "stdin",
     "output_type": "stream",
     "text": [
      "Enter age hello\n"
     ]
    },
    {
     "name": "stdout",
     "output_type": "stream",
     "text": [
      "You can can not enter that age\n"
     ]
    }
   ],
   "source": [
    "try:\n",
    "    age = int(input(\"Enter age\"))\n",
    "    print(age)\n",
    "    \n",
    "except:\n",
    "    print(\"You can can not enter that age\")"
   ]
  },
  {
   "cell_type": "markdown",
   "id": "1b1a66d1-19e7-4a8b-9929-332f22d6f050",
   "metadata": {},
   "source": [
    "## Logical Errors\n",
    "\n",
    "Logical errors, also known as \"bugs,\" occur when the program runs without any errors or exceptions, but the output is incorrect due to incorrect program logic."
   ]
  },
  {
   "cell_type": "markdown",
   "id": "5659c4d3-53c8-432d-a71a-22ffbad0f158",
   "metadata": {},
   "source": [
    "### Example 3: Logical Error"
   ]
  },
  {
   "cell_type": "code",
   "execution_count": 2,
   "id": "7acb0598-4cc2-421f-96d3-8ab4cd098bd7",
   "metadata": {},
   "outputs": [],
   "source": [
    "def calculate_area(radius):\n",
    "    return 2 * 3.14 * radius  # Incorrect formula\n",
    "\n",
    "area = calculate_area(5)\n"
   ]
  },
  {
   "cell_type": "code",
   "execution_count": 1,
   "id": "057be976-88e6-49c4-9dac-0e2c3f04e16d",
   "metadata": {},
   "outputs": [
    {
     "name": "stdout",
     "output_type": "stream",
     "text": [
      "Hwllo WArld\n"
     ]
    }
   ],
   "source": [
    "print(\"Hwllo WArld\")"
   ]
  },
  {
   "cell_type": "code",
   "execution_count": 13,
   "id": "0c571e45-6235-413d-8d02-e24eaa8a9b65",
   "metadata": {},
   "outputs": [
    {
     "name": "stdout",
     "output_type": "stream",
     "text": [
      "100\n"
     ]
    }
   ],
   "source": [
    "height = 10\n",
    "width = 5\n",
    "area_rectangle = height * height \n",
    "\n",
    "print(area_rectangle)"
   ]
  },
  {
   "cell_type": "markdown",
   "id": "0d92b630-3d61-4c43-995b-bb8d6b4c1d9f",
   "metadata": {},
   "source": [
    "### Debugging Logical Errors\n",
    "\n",
    "To debug logical errors, you can use print statements, debugging tools, or step through the code to identify and fix the issue."
   ]
  },
  {
   "cell_type": "markdown",
   "id": "68a1b8f9-8c4d-4670-a6c6-e7b643add382",
   "metadata": {},
   "source": [
    "## Example of input validation using try and except"
   ]
  },
  {
   "cell_type": "code",
   "execution_count": 3,
   "id": "0cf0cf6a-d80a-46b5-b0bd-41abc87b43f7",
   "metadata": {},
   "outputs": [
    {
     "name": "stdin",
     "output_type": "stream",
     "text": [
      "Enter a number:  a\n"
     ]
    },
    {
     "name": "stdout",
     "output_type": "stream",
     "text": [
      "Invalid input. Please enter a valid number.\n"
     ]
    },
    {
     "name": "stdin",
     "output_type": "stream",
     "text": [
      "Enter a number:  3\n"
     ]
    },
    {
     "name": "stdout",
     "output_type": "stream",
     "text": [
      "You entered: 3\n"
     ]
    }
   ],
   "source": [
    "while True:\n",
    "    try:\n",
    "        num = int(input(\"Enter a number: \"))\n",
    "        break  # Exit the loop if a valid integer is provided\n",
    "    except ValueError:\n",
    "        print(\"Invalid input. Please enter a valid number.\")\n",
    "\n",
    "print(\"You entered:\", num)\n"
   ]
  },
  {
   "cell_type": "markdown",
   "id": "aec46766-a2ea-429b-9761-9bc9782075c7",
   "metadata": {},
   "source": [
    "## Conclusion\n",
    "\n",
    "Understanding and handling errors is a crucial skill for Python programmers. In this notebook, we've explored syntax errors, runtime errors, and logical errors, along with how to handle runtime errors using try and except blocks.\n",
    "\n",
    "As you gain experience, you will become more proficient at identifying and resolving errors in your Python programs."
   ]
  },
  {
   "cell_type": "code",
   "execution_count": 15,
   "id": "44985eb6-736d-495a-a5f1-4fac45df24f3",
   "metadata": {},
   "outputs": [
    {
     "name": "stdout",
     "output_type": "stream",
     "text": [
      "hello world\n"
     ]
    }
   ],
   "source": [
    "print(\"hello world\")"
   ]
  },
  {
   "cell_type": "code",
   "execution_count": null,
   "id": "36e1f4b9-b328-41cf-a249-25692a1367f9",
   "metadata": {},
   "outputs": [],
   "source": []
  }
 ],
 "metadata": {
  "kernelspec": {
   "display_name": "Python 3 (ipykernel)",
   "language": "python",
   "name": "python3"
  },
  "language_info": {
   "codemirror_mode": {
    "name": "ipython",
    "version": 3
   },
   "file_extension": ".py",
   "mimetype": "text/x-python",
   "name": "python",
   "nbconvert_exporter": "python",
   "pygments_lexer": "ipython3",
   "version": "3.8.10"
  }
 },
 "nbformat": 4,
 "nbformat_minor": 5
}
