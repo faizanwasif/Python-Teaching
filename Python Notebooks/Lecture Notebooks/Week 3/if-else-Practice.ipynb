{
 "cells": [
  {
   "cell_type": "code",
   "execution_count": 3,
   "id": "8674253b-9f6a-4056-891c-a0248a22a707",
   "metadata": {},
   "outputs": [
    {
     "name": "stdout",
     "output_type": "stream",
     "text": [
      "x is less than or equal to 10\n"
     ]
    }
   ],
   "source": [
    "x = 10\n",
    "\n",
    "if x <= 10:\n",
    "    print(\"x is less than or equal to 10\")\n",
    "\n",
    "else:\n",
    "    print(\"x is not equal or less than 10\")\n"
   ]
  },
  {
   "cell_type": "code",
   "execution_count": 2,
   "id": "3c5b8821-c0ad-41d4-b210-5fe144cbd52d",
   "metadata": {},
   "outputs": [
    {
     "name": "stdout",
     "output_type": "stream",
     "text": [
      "Y is equal to 7\n"
     ]
    }
   ],
   "source": [
    "y = 7\n",
    "\n",
    "if y < 7:\n",
    "    print(\"Y is less than 7\")\n",
    "\n",
    "elif y > 7:\n",
    "    print(\"Y is greater than 7\")\n",
    "\n",
    "else:\n",
    "    print(\"Y is equal to 7\")"
   ]
  },
  {
   "cell_type": "code",
   "execution_count": 4,
   "id": "49988361-d0c7-4c5d-b2df-563ec24e90b0",
   "metadata": {},
   "outputs": [
    {
     "name": "stdout",
     "output_type": "stream",
     "text": [
      "a is a positive number\n"
     ]
    }
   ],
   "source": [
    "a = 2\n",
    "\n",
    "if a < 0:\n",
    "    print(\"a is a negative number\")\n",
    "\n",
    "elif a > 0:\n",
    "    print(\"a is a positive number\")\n",
    "\n",
    "else:\n",
    "    print(\"a is zero\")"
   ]
  },
  {
   "cell_type": "code",
   "execution_count": null,
   "id": "ae779bcd-9911-42b8-b4de-f9659fca528a",
   "metadata": {},
   "outputs": [],
   "source": []
  }
 ],
 "metadata": {
  "kernelspec": {
   "display_name": "Python 3 (ipykernel)",
   "language": "python",
   "name": "python3"
  },
  "language_info": {
   "codemirror_mode": {
    "name": "ipython",
    "version": 3
   },
   "file_extension": ".py",
   "mimetype": "text/x-python",
   "name": "python",
   "nbconvert_exporter": "python",
   "pygments_lexer": "ipython3",
   "version": "3.8.10"
  }
 },
 "nbformat": 4,
 "nbformat_minor": 5
}
