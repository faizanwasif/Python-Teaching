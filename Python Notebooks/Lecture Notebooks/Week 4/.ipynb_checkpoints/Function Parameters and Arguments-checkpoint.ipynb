{
 "cells": [
  {
   "cell_type": "markdown",
   "id": "5ab8ef6b-56c4-4e46-93db-204158bd6ccd",
   "metadata": {},
   "source": [
    "# Function Parameters and Arguments\n",
    "\n",
    "## What are Function Parameters?\n",
    "\n",
    "    Function parameters are placeholders for values that a function can receive when it's called.\n",
    "    Parameters make functions flexible and allow them to work with different inputs.\n",
    "\n",
    "### Syntax for Function with Parameters"
   ]
  },
  {
   "cell_type": "code",
   "execution_count": null,
   "id": "3869023a-7893-4712-a351-cd2d44441d95",
   "metadata": {},
   "outputs": [],
   "source": [
    "def greet(name):\n",
    "    print(\"Hello, \" + name + \"!\")"
   ]
  },
  {
   "cell_type": "markdown",
   "id": "2b44488c-37b5-4ce0-97e4-6e37e09d246d",
   "metadata": {},
   "source": [
    "### Example 1: Function with Parameters"
   ]
  },
  {
   "cell_type": "code",
   "execution_count": null,
   "id": "cb5153d0-d740-4e05-bb9b-d54b0f1ac199",
   "metadata": {},
   "outputs": [],
   "source": [
    "def greet(name):\n",
    "    print(\"Hello, \" + name + \"!\")\n",
    "\n",
    "# Calling the function with an argument\n",
    "greet(\"Alice\")"
   ]
  },
  {
   "cell_type": "markdown",
   "id": "a584a0ff-41d8-4efb-8ec6-a561f4decd5a",
   "metadata": {},
   "source": [
    "### Example 2: Function with Default Parameters"
   ]
  },
  {
   "cell_type": "code",
   "execution_count": 7,
   "id": "8469cfbc-6f8f-4b19-8309-a8deb7e90a9f",
   "metadata": {},
   "outputs": [
    {
     "name": "stdout",
     "output_type": "stream",
     "text": [
      "Hello, Guest!\n"
     ]
    }
   ],
   "source": [
    "def greet(name=\"Guest\"):\n",
    "    print(\"Hello, \" + name + \"!\")\n",
    "\n",
    "# Calling the function without an argument\n",
    "greet(\"Name\")"
   ]
  },
  {
   "cell_type": "markdown",
   "id": "ef328263-799f-4560-8371-ae4674d44165",
   "metadata": {},
   "source": [
    "### Example 3: Function with Variable Number of Arguments"
   ]
  },
  {
   "cell_type": "code",
   "execution_count": 14,
   "id": "7b64dc56-b0e1-4983-a020-a0a0c4a717e8",
   "metadata": {},
   "outputs": [
    {
     "name": "stdout",
     "output_type": "stream",
     "text": [
      "1\n",
      "15\n"
     ]
    }
   ],
   "source": [
    "# multiple arguments using one parameter\n",
    "\n",
    "def sum_values(*args): # args = arguments\n",
    "    \n",
    "    total = sum(args)\n",
    "    \n",
    "    print(total)\n",
    "\n",
    "sum_values(1, 2, 3, 4, 5)"
   ]
  },
  {
   "cell_type": "code",
   "execution_count": null,
   "id": "fd42dd47-25fc-4b6d-bf6f-19074031ad93",
   "metadata": {},
   "outputs": [],
   "source": [
    "# multiple arguments with multiple parameters\n",
    "def add(x, y):\n",
    "    result = x + y\n",
    "    print(result)\n",
    "\n",
    "print(\"Not inside the function\")\n",
    "\n",
    "# Calling the function and storing the result\n",
    "add(5, 3)"
   ]
  }
 ],
 "metadata": {
  "kernelspec": {
   "display_name": "Python 3 (ipykernel)",
   "language": "python",
   "name": "python3"
  },
  "language_info": {
   "codemirror_mode": {
    "name": "ipython",
    "version": 3
   },
   "file_extension": ".py",
   "mimetype": "text/x-python",
   "name": "python",
   "nbconvert_exporter": "python",
   "pygments_lexer": "ipython3",
   "version": "3.8.10"
  }
 },
 "nbformat": 4,
 "nbformat_minor": 5
}
