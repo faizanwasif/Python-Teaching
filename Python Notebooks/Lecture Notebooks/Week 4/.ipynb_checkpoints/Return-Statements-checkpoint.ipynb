{
 "cells": [
  {
   "cell_type": "markdown",
   "id": "4d48d2c2-b3c6-48ae-81d5-c137d5de2f95",
   "metadata": {},
   "source": [
    "# Return Statements\n",
    "\n",
    "## What is a Return Statement?\n",
    "\n",
    "    A return statement is used to specify the value that a function should return to the caller.\n",
    "    It allows a function to produce a result that can be used elsewhere in your program.\n",
    "\n",
    "### Syntax of a Return Statement\n"
   ]
  },
  {
   "cell_type": "code",
   "execution_count": 7,
   "id": "e116380b-fc8a-4c0a-a3ff-dfd416ece092",
   "metadata": {},
   "outputs": [
    {
     "data": {
      "text/plain": [
       "5"
      ]
     },
     "execution_count": 7,
     "metadata": {},
     "output_type": "execute_result"
    }
   ],
   "source": [
    "def add(x, y):\n",
    "    result = x + y\n",
    "    return result\n",
    "\n",
    "add(2, 3)"
   ]
  },
  {
   "cell_type": "code",
   "execution_count": 8,
   "id": "115b1f6b-f9d6-4a24-bc25-96d7da27eba7",
   "metadata": {},
   "outputs": [
    {
     "name": "stdout",
     "output_type": "stream",
     "text": [
      "15\n"
     ]
    }
   ],
   "source": [
    "print(10 + add(2,3))"
   ]
  },
  {
   "cell_type": "code",
   "execution_count": 2,
   "id": "30b46483-f7e5-42cc-adef-acd3badf9eb6",
   "metadata": {},
   "outputs": [
    {
     "data": {
      "text/plain": [
       "10"
      ]
     },
     "execution_count": 2,
     "metadata": {},
     "output_type": "execute_result"
    }
   ],
   "source": [
    "add(4, 6)"
   ]
  },
  {
   "cell_type": "code",
   "execution_count": 3,
   "id": "b3bbbcf6-0bcc-47ac-8570-033c75398211",
   "metadata": {},
   "outputs": [
    {
     "data": {
      "text/plain": [
       "3"
      ]
     },
     "execution_count": 3,
     "metadata": {},
     "output_type": "execute_result"
    }
   ],
   "source": [
    "add(2, 1)"
   ]
  },
  {
   "cell_type": "code",
   "execution_count": 12,
   "id": "06215e16-f1be-4871-9896-85cd7dadd40a",
   "metadata": {},
   "outputs": [
    {
     "name": "stdout",
     "output_type": "stream",
     "text": [
      "room 1:  15 Room 2:  16\n"
     ]
    }
   ],
   "source": [
    "# Example 1: Using return to Calculate Area\n",
    "\n",
    "def calculate_area(length, width):\n",
    "    \n",
    "    result = length * width\n",
    "\n",
    "    return result\n",
    "\n",
    "\n",
    "room1 = calculate_area(5, 3)\n",
    "\n",
    "room2 = calculate_area(4, 4)\n",
    "print(\"room 1: \", room1, \"Room 2: \" ,room2)"
   ]
  },
  {
   "cell_type": "code",
   "execution_count": 13,
   "id": "fe113981-e17d-4aec-bca7-9796e8872676",
   "metadata": {},
   "outputs": [
    {
     "name": "stdout",
     "output_type": "stream",
     "text": [
      "Negative\n"
     ]
    }
   ],
   "source": [
    "# Example 2: Function with Multiple Return Statements\n",
    "\n",
    "def check_number(number):\n",
    "    \n",
    "    if number > 0:\n",
    "        return \"Positive\"\n",
    "        \n",
    "    elif number < 0:\n",
    "        return \"Negative\"\n",
    "        \n",
    "    else:\n",
    "        return \"Zero\"\n",
    "\n",
    "result = check_number(-5)\n",
    "\n",
    "print(result)"
   ]
  },
  {
   "cell_type": "code",
   "execution_count": 14,
   "id": "98186e0e-c0af-4f1f-82fd-eed995486c9e",
   "metadata": {},
   "outputs": [
    {
     "name": "stdout",
     "output_type": "stream",
     "text": [
      "Alice 30\n"
     ]
    }
   ],
   "source": [
    "# Example 3: Returning Multiple Values\n",
    "\n",
    "def get_name_and_age():\n",
    "    name = \"Alice\"\n",
    "    age = 30\n",
    "    return name, age\n",
    "\n",
    "name, age = get_name_and_age()\n",
    "print(name, age)"
   ]
  },
  {
   "cell_type": "code",
   "execution_count": null,
   "id": "c518b0a1-d3ae-4d8e-9a9b-366b47d3f0bd",
   "metadata": {},
   "outputs": [],
   "source": []
  }
 ],
 "metadata": {
  "kernelspec": {
   "display_name": "Python 3 (ipykernel)",
   "language": "python",
   "name": "python3"
  },
  "language_info": {
   "codemirror_mode": {
    "name": "ipython",
    "version": 3
   },
   "file_extension": ".py",
   "mimetype": "text/x-python",
   "name": "python",
   "nbconvert_exporter": "python",
   "pygments_lexer": "ipython3",
   "version": "3.8.10"
  }
 },
 "nbformat": 4,
 "nbformat_minor": 5
}
