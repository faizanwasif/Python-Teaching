{
 "cells": [
  {
   "cell_type": "markdown",
   "id": "45191ef1-6d00-4490-bd27-4b28637309ef",
   "metadata": {},
   "source": [
    "# Scope of Variables in Functions\n",
    "\n",
    "## What is Variable Scope?\n",
    "\n",
    "    Variable scope refers to the region of code where a variable can be accessed.\n",
    "    In Python, variables can have local scope (inside a function) or global scope (outside functions).\n",
    "\n",
    "### Example 1: Variable Scope"
   ]
  },
  {
   "cell_type": "code",
   "execution_count": 2,
   "id": "cd51bee3-7de8-48b0-9a7d-f1c39a2ba9d8",
   "metadata": {},
   "outputs": [
    {
     "name": "stdout",
     "output_type": "stream",
     "text": [
      "0\n",
      "5\n",
      "0\n"
     ]
    }
   ],
   "source": [
    "global_var = 0\n",
    "\n",
    "def func():\n",
    "    local_var = 5\n",
    "    \n",
    "    print(global_var)  # Access global variable\n",
    "    \n",
    "    print(local_var)   # Access local variable\n",
    "\n",
    "\n",
    "func()\n",
    "\n",
    "print(global_var)"
   ]
  },
  {
   "cell_type": "code",
   "execution_count": 18,
   "id": "cad6e38d-b160-4a4f-9f96-774a51b6ba54",
   "metadata": {},
   "outputs": [
    {
     "name": "stdout",
     "output_type": "stream",
     "text": [
      "1\n",
      "1\n"
     ]
    }
   ],
   "source": [
    "# Example 2: Modifying Global Variable from Function\n",
    "\n",
    "count = 0\n",
    "\n",
    "def increment_count():\n",
    "    \n",
    "    global count  # Declare count as global\n",
    "\n",
    "    count += 1\n",
    "\n",
    "    print(count)\n",
    "\n",
    "increment_count()\n",
    "\n",
    "print(count)"
   ]
  },
  {
   "cell_type": "code",
   "execution_count": 3,
   "id": "e5a94dce-8a58-45cc-a393-60e9303eb8d4",
   "metadata": {},
   "outputs": [
    {
     "name": "stdout",
     "output_type": "stream",
     "text": [
      "4\n",
      "0\n"
     ]
    }
   ],
   "source": [
    "# Example 2: Modifying Global Variable from Function\n",
    "\n",
    "count = 0\n",
    "\n",
    "def increment_count():\n",
    "    \n",
    "    count = 3  \n",
    "\n",
    "    count += 1\n",
    "\n",
    "    print(count)\n",
    "\n",
    "increment_count()\n",
    "\n",
    "print(count)"
   ]
  },
  {
   "cell_type": "code",
   "execution_count": 15,
   "id": "73334995-1099-4cd3-a9f3-424659e493d9",
   "metadata": {},
   "outputs": [
    {
     "name": "stdout",
     "output_type": "stream",
     "text": [
      "5\n",
      "10\n"
     ]
    }
   ],
   "source": [
    "# Example 3: Variable Shadowing\n",
    "\n",
    "x = 10\n",
    "\n",
    "def shadow_example():\n",
    "    \n",
    "    x = 5  # This 'x' shadows the global 'x' within this function\n",
    "    \n",
    "    print(x)\n",
    "\n",
    "shadow_example()\n",
    "\n",
    "print(x)  # Global 'x' is not affected"
   ]
  },
  {
   "cell_type": "code",
   "execution_count": 16,
   "id": "15983144-2f1c-4995-9e88-dc8264ad2a31",
   "metadata": {},
   "outputs": [
    {
     "name": "stdout",
     "output_type": "stream",
     "text": [
      "5\n",
      "5\n"
     ]
    }
   ],
   "source": [
    "# Example 3: Variable Shadowing\n",
    "\n",
    "x = 10\n",
    "\n",
    "def shadow_example():\n",
    "\n",
    "    global x\n",
    "    \n",
    "    x = 5  \n",
    "    \n",
    "    print(x)\n",
    "\n",
    "shadow_example()\n",
    "\n",
    "print(x)  "
   ]
  },
  {
   "cell_type": "code",
   "execution_count": null,
   "id": "c664846e-3665-407c-a63c-9214ab693d89",
   "metadata": {},
   "outputs": [],
   "source": []
  }
 ],
 "metadata": {
  "kernelspec": {
   "display_name": "Python 3 (ipykernel)",
   "language": "python",
   "name": "python3"
  },
  "language_info": {
   "codemirror_mode": {
    "name": "ipython",
    "version": 3
   },
   "file_extension": ".py",
   "mimetype": "text/x-python",
   "name": "python",
   "nbconvert_exporter": "python",
   "pygments_lexer": "ipython3",
   "version": "3.8.10"
  }
 },
 "nbformat": 4,
 "nbformat_minor": 5
}
