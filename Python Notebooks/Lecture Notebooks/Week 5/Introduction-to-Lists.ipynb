{
 "cells": [
  {
   "cell_type": "markdown",
   "id": "794b068a-af32-48fc-a9d6-cf85f09e595d",
   "metadata": {},
   "source": [
    "# Lists and Data Structures\n",
    "## Introduction to Lists\n",
    "### What is a List?\n",
    "\n",
    "    A list is a fundamental data structure in Python used to store a collection of items.\n",
    "    Lists are versatile and can hold various types of data, including numbers, strings, and even other lists.\n",
    "\n",
    "#### Creating a List\n",
    "\n",
    "To create a list, enclose items within square brackets [] and separate them with commas.\n",
    "\n",
    "fruits = [\"apple\", \"banana\", \"cherry\"]"
   ]
  },
  {
   "cell_type": "markdown",
   "id": "b229ede8-3d1d-454f-8a8b-cd8c27f54e01",
   "metadata": {},
   "source": [
    "### Accessing List Elements\n",
    "\n",
    "You can access elements of a list using their index. Indexing starts from 0."
   ]
  },
  {
   "cell_type": "code",
   "execution_count": 16,
   "id": "d5a2baf5-51aa-456e-854a-01d107487445",
   "metadata": {},
   "outputs": [
    {
     "ename": "IndexError",
     "evalue": "list index out of range",
     "output_type": "error",
     "traceback": [
      "\u001b[0;31m---------------------------------------------------------------------------\u001b[0m",
      "\u001b[0;31mIndexError\u001b[0m                                Traceback (most recent call last)",
      "Cell \u001b[0;32mIn[16], line 6\u001b[0m\n\u001b[1;32m      3\u001b[0m a \u001b[38;5;241m=\u001b[39m fruits[\u001b[38;5;241m0\u001b[39m]  \u001b[38;5;66;03m# Access the first element\u001b[39;00m\n\u001b[1;32m      4\u001b[0m b \u001b[38;5;241m=\u001b[39m fruits[\u001b[38;5;241m1\u001b[39m] \u001b[38;5;66;03m# Access the second element\u001b[39;00m\n\u001b[0;32m----> 6\u001b[0m c \u001b[38;5;241m=\u001b[39m \u001b[43mfruits\u001b[49m\u001b[43m[\u001b[49m\u001b[38;5;241;43m30\u001b[39;49m\u001b[43m]\u001b[49m\n\u001b[1;32m      9\u001b[0m \u001b[38;5;66;03m# max items - 1 =  max index value\u001b[39;00m\n\u001b[1;32m     10\u001b[0m \u001b[38;5;28mprint\u001b[39m(first_fruit)\n",
      "\u001b[0;31mIndexError\u001b[0m: list index out of range"
     ]
    }
   ],
   "source": [
    "fruits = [\"apple\", \"banana\", \"cherry\"]\n",
    "\n",
    "a = fruits[0]  # Access the first element\n",
    "b = fruits[1] # Access the second element\n",
    "\n",
    "c = fruits[30]\n",
    "\n",
    "\n",
    "# max items - 1 =  max index value\n",
    "print(first_fruit)\n",
    "print(second_fruit)"
   ]
  },
  {
   "cell_type": "markdown",
   "id": "bef27f6b-628a-44f0-a20a-44624eb60fb0",
   "metadata": {},
   "source": [
    "### List Length\n",
    "\n",
    "You can find the number of items in a list using the **len()** function."
   ]
  },
  {
   "cell_type": "code",
   "execution_count": 10,
   "id": "a6f6bec8-0dcd-4b89-898d-95b2db43ef02",
   "metadata": {},
   "outputs": [
    {
     "name": "stdout",
     "output_type": "stream",
     "text": [
      "3\n"
     ]
    }
   ],
   "source": [
    "num_fruits = len(fruits)\n",
    "print(num_fruits)"
   ]
  },
  {
   "cell_type": "code",
   "execution_count": 24,
   "id": "07d3d810-eebe-4abb-a17b-69be0a5f4327",
   "metadata": {},
   "outputs": [
    {
     "name": "stdout",
     "output_type": "stream",
     "text": [
      "grape\n",
      "grape\n",
      "cherry\n",
      "orange\n"
     ]
    }
   ],
   "source": [
    "print(fruits[0])\n",
    "\n",
    "for i in fruits:\n",
    "    print(i)"
   ]
  },
  {
   "cell_type": "markdown",
   "id": "185d6962-9097-4975-b6ed-1fa6b4c468e5",
   "metadata": {},
   "source": [
    "### Modifying Lists\n",
    "\n",
    "    Lists are mutable, meaning you can change their content.\n",
    "    \n",
    "    You can update, add, or remove elements from a list."
   ]
  },
  {
   "cell_type": "code",
   "execution_count": 25,
   "id": "5232a137-ec15-4eb2-8f8a-4c37d6a4cbe3",
   "metadata": {},
   "outputs": [
    {
     "data": {
      "text/plain": [
       "'grape'"
      ]
     },
     "execution_count": 25,
     "metadata": {},
     "output_type": "execute_result"
    }
   ],
   "source": [
    "fruits.pop(0)  # Remove the first element"
   ]
  },
  {
   "cell_type": "markdown",
   "id": "f3265a4f-1e62-42fa-ac96-3c5a716b3ee2",
   "metadata": {},
   "source": [
    "### Example: Creating and Manipulating a List"
   ]
  },
  {
   "cell_type": "code",
   "execution_count": 28,
   "id": "85a317cf-056c-4ac3-8403-3ca8116e7bdc",
   "metadata": {},
   "outputs": [
    {
     "name": "stdout",
     "output_type": "stream",
     "text": [
      "green\n",
      "3\n",
      "['red', 'green', 'blue', 'yellow']\n",
      "['red', 'green', 'purple', 'yellow']\n"
     ]
    },
    {
     "data": {
      "text/plain": [
       "'yellow'"
      ]
     },
     "execution_count": 28,
     "metadata": {},
     "output_type": "execute_result"
    }
   ],
   "source": [
    "# Creating a list of colors\n",
    "colors = [\"red\", \"green\", \"blue\"]\n",
    "\n",
    "# Accessing the second color\n",
    "second_color = colors[1]\n",
    "\n",
    "print(second_color)\n",
    "\n",
    "# Finding the number of colors\n",
    "num_colors = len(colors)\n",
    "\n",
    "print(num_colors)\n",
    "\n",
    "# Adding a new color\n",
    "colors.append(\"yellow\")\n",
    "\n",
    "print(colors)\n",
    "\n",
    "# Modifying the third color\n",
    "colors[2] = \"purple\"\n",
    "\n",
    "print(colors)\n",
    "\n",
    "# Removing the last color\n",
    "colors.pop()\n"
   ]
  },
  {
   "cell_type": "code",
   "execution_count": null,
   "id": "6ebc82b5-10f2-4236-aee4-150040fe7801",
   "metadata": {},
   "outputs": [],
   "source": []
  }
 ],
 "metadata": {
  "kernelspec": {
   "display_name": "Python 3 (ipykernel)",
   "language": "python",
   "name": "python3"
  },
  "language_info": {
   "codemirror_mode": {
    "name": "ipython",
    "version": 3
   },
   "file_extension": ".py",
   "mimetype": "text/x-python",
   "name": "python",
   "nbconvert_exporter": "python",
   "pygments_lexer": "ipython3",
   "version": "3.8.10"
  }
 },
 "nbformat": 4,
 "nbformat_minor": 5
}
