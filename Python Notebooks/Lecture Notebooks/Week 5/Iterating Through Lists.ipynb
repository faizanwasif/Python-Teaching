{
 "cells": [
  {
   "cell_type": "markdown",
   "id": "49777f86-6c24-4181-ab06-fc00260b77c3",
   "metadata": {},
   "source": [
    "# Iterating Through Lists in Python\n",
    "\n",
    "In Python, lists are versatile data structures that allow you to store and manage collections of items. Iterating through lists is a fundamental operation when working with them. This Jupyter Notebook explains various methods to iterate through lists and provides practical examples.\n",
    "1. Using For Loops\n",
    "\n",
    "For loops are the most common way to iterate through a list in Python. They allow you to access each element one by one.\n",
    "Example 1.1: Iterating through a list using a for loop"
   ]
  },
  {
   "cell_type": "code",
   "execution_count": 2,
   "id": "28e3fa54-64df-4a4e-9dcf-7a96b7c2143a",
   "metadata": {},
   "outputs": [
    {
     "name": "stdout",
     "output_type": "stream",
     "text": [
      "apple\n",
      "banana\n",
      "cherry\n"
     ]
    }
   ],
   "source": [
    "fruits = [\"apple\", \"banana\", \"cherry\"]\n",
    "\n",
    "for fruit in fruits:\n",
    "    print(fruit)"
   ]
  },
  {
   "cell_type": "markdown",
   "id": "b5ccb48b-d04d-4d73-bcc2-ea9cf13e507f",
   "metadata": {},
   "source": [
    "In this example, the for loop iterates through the fruits list and, for each iteration, assigns the current element to the fruit variable, which is then printed.\n",
    "### Example 1.2: Enumerating elements (getting both index and value)\n",
    "\n",
    "Here, the enumerate() function is used to get both the index and value of each element, making it useful when you need to keep track of the element's position in the list.\n",
    "\n",
    "\n"
   ]
  },
  {
   "cell_type": "code",
   "execution_count": 4,
   "id": "6c742ef5-d167-4db5-90dd-843aed135c98",
   "metadata": {},
   "outputs": [
    {
     "name": "stdout",
     "output_type": "stream",
     "text": [
      "0 1\n",
      "1 2\n",
      "2 3\n"
     ]
    }
   ],
   "source": [
    "fruits = [\"apple\", \"banana\", \"cherry\"]\n",
    "\n",
    "for index, fruit in enumerate(fruits):\n",
    "    print(index, fruit)"
   ]
  },
  {
   "cell_type": "markdown",
   "id": "ddf52f71-8f08-4b57-8270-2aa8bce46de1",
   "metadata": {},
   "source": [
    "## 2. Using While Loops\n",
    "\n",
    "While loops can also be used to iterate through a list. They require manual index management.\n",
    "\n",
    "### Example 2.1: Iterating through a list using a while loop\n",
    "\n",
    "\n",
    "\n",
    "In this example, an index variable is initialized, and a while loop is used to iterate through the list. The loop continues until the index reaches the length of the list.\n"
   ]
  },
  {
   "cell_type": "code",
   "execution_count": 19,
   "id": "29339aef-c347-4401-810a-5c601720225c",
   "metadata": {},
   "outputs": [
    {
     "name": "stdout",
     "output_type": "stream",
     "text": [
      "apple\n",
      "banana\n",
      "cherry\n"
     ]
    }
   ],
   "source": [
    "fruits = [\"apple\", \"banana\", \"cherry\"]\n",
    "\n",
    "index = 0\n",
    "\n",
    "while index < len(fruits):\n",
    "    \n",
    "    print(fruits[index])\n",
    "    \n",
    "    index += 1"
   ]
  },
  {
   "cell_type": "markdown",
   "id": "6bba782a-1d64-422d-911f-09d3b96b1895",
   "metadata": {},
   "source": [
    "## 3. Using List Comprehensions\n",
    "\n",
    "List comprehensions provide a concise way to create new lists based on existing lists. They are both efficient and expressive.\n",
    "### Example 3.1: Creating a new list from an existing list\n",
    "\n",
    "\n",
    "\n",
    "\n",
    "In this example, a list comprehension is used to create a new list squared_numbers containing the squares of elements from the numbers list.\n"
   ]
  },
  {
   "cell_type": "code",
   "execution_count": 11,
   "id": "c8e0c318-5956-4077-9f50-3752cf49eca4",
   "metadata": {},
   "outputs": [
    {
     "name": "stdout",
     "output_type": "stream",
     "text": [
      "[1, 4, 9, 16, 25]\n"
     ]
    }
   ],
   "source": [
    "numbers = [1, 2, 3, 4, 5]\n",
    "\n",
    "squared_numbers = [n ** 2 for n in numbers]\n",
    "\n",
    "print(squared_numbers)"
   ]
  },
  {
   "cell_type": "markdown",
   "id": "48eafc0a-ae5d-4df6-bd93-d0e4cc2034bb",
   "metadata": {},
   "source": [
    "## Example 3.2: Filtering elements in a list\n",
    "\n",
    "\n",
    "List comprehensions can also be used to filter elements. Here, a list even_numbers is created containing only the even elements from numbers.\n"
   ]
  },
  {
   "cell_type": "code",
   "execution_count": 12,
   "id": "47e8de69-f98b-4941-9627-fd6053895527",
   "metadata": {},
   "outputs": [
    {
     "name": "stdout",
     "output_type": "stream",
     "text": [
      "[2, 4, 6, 8]\n"
     ]
    }
   ],
   "source": [
    "numbers = [1, 2, 3, 4, 5, 6, 7, 8, 9]\n",
    "\n",
    "even_numbers = [n for n in numbers if n % 2 == 0]\n",
    "\n",
    "print(even_numbers)"
   ]
  },
  {
   "cell_type": "markdown",
   "id": "2ee5558f-12c7-467d-8feb-4908e2d35843",
   "metadata": {},
   "source": [
    "## 4. Using Built-in Functions\n",
    "\n",
    "Python provides built-in functions for common list operations, making them simple to use.\n",
    "### Example 4.1: Finding the sum of all numbers in a list\n",
    "\n",
    "\n",
    "\n",
    "The sum() function calculates the sum of all numbers in the list and assigns it to the total variable.\n",
    "\n"
   ]
  },
  {
   "cell_type": "code",
   "execution_count": 14,
   "id": "e616ac0f-5a2b-46a2-8c8b-c9319343589b",
   "metadata": {},
   "outputs": [
    {
     "name": "stdout",
     "output_type": "stream",
     "text": [
      "121225643561\n"
     ]
    }
   ],
   "source": [
    "numbers = [10,121212121221,99999,4455555,77777,8888999]\n",
    "\n",
    "total = sum(numbers)\n",
    "\n",
    "print(total)"
   ]
  },
  {
   "cell_type": "markdown",
   "id": "9e4564f9-595f-471d-89d3-d1622f6a00e0",
   "metadata": {},
   "source": [
    "## Example 4.2: Finding the maximum and minimum values in a list\n",
    "\n",
    "\n",
    "\n",
    "The max() and min() functions find the maximum and minimum values in the list, respectively."
   ]
  },
  {
   "cell_type": "code",
   "execution_count": 17,
   "id": "7178d4d5-7245-4cf2-9314-9696988cf97e",
   "metadata": {},
   "outputs": [
    {
     "name": "stdout",
     "output_type": "stream",
     "text": [
      "5\n",
      "1\n"
     ]
    }
   ],
   "source": [
    "numbers = [1, 2, 3, 4, 5]\n",
    "\n",
    "\n",
    "max_value = max(numbers)\n",
    "min_value = min(numbers)\n",
    "\n",
    "print(max_value)\n",
    "print(min_value)"
   ]
  },
  {
   "cell_type": "markdown",
   "id": "7e9832f6-710f-48ab-af88-a48fa803d982",
   "metadata": {},
   "source": [
    "## 5. Nested Lists\n",
    "\n",
    "Lists can also contain other lists, creating a nested structure. You can iterate through elements in nested lists.\n",
    "### Example 5.1: Iterating through elements of a nested list\n",
    "\n",
    "\n",
    "\n",
    "\n",
    "In this example, a matrix is represented as a nested list. Nested loops are used to iterate through each element in the matrix.\n"
   ]
  },
  {
   "cell_type": "code",
   "execution_count": 20,
   "id": "347d290e-2998-4926-9201-6ce8ecc5435b",
   "metadata": {},
   "outputs": [
    {
     "name": "stdout",
     "output_type": "stream",
     "text": [
      "1\n",
      "2\n",
      "3\n",
      "4\n",
      "5\n",
      "6\n",
      "7\n",
      "8\n",
      "9\n"
     ]
    }
   ],
   "source": [
    "matrix = [[1, 2, 3], [4, 5, 6], [7, 8, 9]]\n",
    "\n",
    "for row in matrix:\n",
    "    for element in row:\n",
    "        print(element)"
   ]
  },
  {
   "cell_type": "markdown",
   "id": "bdb05e71-b9cc-4d83-9430-fda16d70d545",
   "metadata": {},
   "source": [
    "## 6. Using Iterators\n",
    "\n",
    "Iterators provide a way to access elements in a list sequentially.\n",
    "### Example 6.1: Iterating through a list using an iterator\n",
    "\n",
    "\n",
    "\n",
    "\n",
    "Here, an iterator is created using the iter() function, and a for loop is used to iterate through the elements.\n"
   ]
  },
  {
   "cell_type": "code",
   "execution_count": 10,
   "id": "6f364317-a4db-49b3-8630-212217a966ae",
   "metadata": {},
   "outputs": [
    {
     "name": "stdout",
     "output_type": "stream",
     "text": [
      "apple\n",
      "banana\n",
      "cherry\n"
     ]
    }
   ],
   "source": [
    "fruits = [\"apple\", \"banana\", \"cherry\"]\n",
    "\n",
    "iterator = iter(fruits)\n",
    "\n",
    "for fruit in iterator:\n",
    "    print(fruit)"
   ]
  },
  {
   "cell_type": "markdown",
   "id": "2bd4e255-1ea0-421f-bd93-9b5d5dd8503d",
   "metadata": {},
   "source": [
    "## 7. Looping with a Range\n",
    "\n",
    "You can also use the range() function to loop through a list by index.\n",
    "### Example 7.1: Using range() to loop through a list by index\n",
    "\n",
    "\n",
    "\n",
    "In this example, the range() function is used to generate indices, and elements in the list are accessed."
   ]
  },
  {
   "cell_type": "code",
   "execution_count": 11,
   "id": "85433e3f-ecc5-4745-af2a-402ce99ab1c9",
   "metadata": {},
   "outputs": [
    {
     "name": "stdout",
     "output_type": "stream",
     "text": [
      "apple\n",
      "banana\n",
      "cherry\n"
     ]
    }
   ],
   "source": [
    "fruits = [\"apple\", \"banana\", \"cherry\"]\n",
    "\n",
    "for i in range(len(fruits)):\n",
    "    print(fruits[i])"
   ]
  }
 ],
 "metadata": {
  "kernelspec": {
   "display_name": "Python 3 (ipykernel)",
   "language": "python",
   "name": "python3"
  },
  "language_info": {
   "codemirror_mode": {
    "name": "ipython",
    "version": 3
   },
   "file_extension": ".py",
   "mimetype": "text/x-python",
   "name": "python",
   "nbconvert_exporter": "python",
   "pygments_lexer": "ipython3",
   "version": "3.8.10"
  }
 },
 "nbformat": 4,
 "nbformat_minor": 5
}
