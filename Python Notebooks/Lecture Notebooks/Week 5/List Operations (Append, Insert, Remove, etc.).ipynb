{
 "cells": [
  {
   "cell_type": "markdown",
   "id": "cdd3f13d-41b2-4f6c-9b55-4f97af67c093",
   "metadata": {},
   "source": [
    "# List Operations: Append, Insert, Remove, and More\n",
    "\n",
    "In Python, lists are versatile data structures that allow you to perform various operations on their elements. This notebook explores common list operations with practical examples.\n",
    "\n",
    "## 1. Appending Elements\n",
    "\n",
    "Appending an element means adding it to the end of a list. You can use the append() method for this.\n",
    "Example:"
   ]
  },
  {
   "cell_type": "code",
   "execution_count": 4,
   "id": "4145de15-b19c-4281-a2be-fb4d4512b0e5",
   "metadata": {},
   "outputs": [
    {
     "name": "stdout",
     "output_type": "stream",
     "text": [
      "['apple', 'banana', 'cherry']\n",
      "['apple', 'banana', 'cherry', 3000000000000]\n"
     ]
    }
   ],
   "source": [
    "fruits = [\"apple\", \"banana\", \"cherry\"]\n",
    "print(fruits) \n",
    "fruits.append(3000000000000)  # Add \"orange\" to the end\n",
    "print(fruits)  "
   ]
  },
  {
   "cell_type": "markdown",
   "id": "fe0eafe3-c410-466b-88d3-6b28ae3dbd74",
   "metadata": {},
   "source": [
    "## 2. Inserting Elements\n",
    "\n",
    "You can insert an element at a specific position using the insert() method. Provide the index where you want to insert and the element to be inserted.\n",
    "\n",
    "Example:"
   ]
  },
  {
   "cell_type": "code",
   "execution_count": 8,
   "id": "4ad3cb6d-fab7-4a5c-978f-ebe559afe710",
   "metadata": {},
   "outputs": [
    {
     "name": "stdout",
     "output_type": "stream",
     "text": [
      "['red', 'green', 'blue']\n",
      "['red', 'yellow', 'green', 'blue']\n"
     ]
    }
   ],
   "source": [
    "colors = [\"red\", \"green\", \"blue\"]\n",
    "\n",
    "print(colors)\n",
    "\n",
    "colors.insert(1, \"yellow\")  # Insert \"yellow\" at index 1\n",
    "\n",
    "print(colors) \n"
   ]
  },
  {
   "cell_type": "markdown",
   "id": "0596cc69-cc53-4e8c-8a4a-365a9214c087",
   "metadata": {},
   "source": [
    "## 3. Removing Elements\n",
    "\n",
    "You can remove elements from a list using the remove() method. Provide the value you want to remove.\n",
    "Example:"
   ]
  },
  {
   "cell_type": "code",
   "execution_count": 18,
   "id": "ca6b06d9-9efb-4329-82e1-43014d2c107a",
   "metadata": {},
   "outputs": [
    {
     "name": "stdout",
     "output_type": "stream",
     "text": [
      "['apple', 'cherry', 'banana', 'banana']\n",
      "['apple', 'cherry', 'banana']\n"
     ]
    }
   ],
   "source": [
    "fruits = [\"apple\", \"banana\", \"cherry\", \"banana\", \"banana\"]\n",
    "\n",
    "fruits.remove(\"banana\")  # Removes the first \"banana\" found\n",
    "\n",
    "print(fruits)  # Output: [\"apple\", \"cherry\", \"banana\"]\n",
    "\n",
    "fruits.remove(\"banana\")\n",
    "\n",
    "print(fruits)"
   ]
  },
  {
   "cell_type": "markdown",
   "id": "e08ede3e-fafb-4bef-aaf7-94c704c55898",
   "metadata": {},
   "source": [
    "## 4. Popping Elements\n",
    "\n",
    "The pop() method removes and returns an element at a specified index. If no index is provided, it removes the last element.\n",
    "Example:"
   ]
  },
  {
   "cell_type": "code",
   "execution_count": 35,
   "id": "12eed5d7-1764-4a79-90e3-f73fa9a8bfdb",
   "metadata": {},
   "outputs": [
    {
     "name": "stdout",
     "output_type": "stream",
     "text": [
      "[1, 2, 4, 5]\n",
      "Popped: 3\n"
     ]
    }
   ],
   "source": [
    "numbers = [1, 2, 3, 4, 5]\n",
    "\n",
    "\n",
    "numbers.pop(2)  # Remove and return element at index 2 (3)\n",
    "\n",
    "print(numbers)  # Output: [1, 2, 4, 5]\n",
    "\n",
    "\n",
    "print(\"Popped:\", popped)  # Output: Popped: 3"
   ]
  },
  {
   "cell_type": "markdown",
   "id": "ec0ebc7c-6e30-4911-b250-35349cd4d46f",
   "metadata": {},
   "source": [
    "### Difference Between pop() and remove():\n",
    "\n",
    "    pop() removes an element by index and returns the removed value.\n",
    "    \n",
    "    remove() removes an element by value and doesn't return the removed value.\n",
    "    \n",
    "    If you need the removed value, use pop(). If you only want to remove a specific value, use remove()."
   ]
  },
  {
   "cell_type": "markdown",
   "id": "4267305a-3616-4d3d-baa3-8ece59f8a07c",
   "metadata": {},
   "source": [
    "## 5. Extending Lists\n",
    "\n",
    "To add the elements of one list to another, you can use the extend() method.\n",
    "\n",
    "Example:"
   ]
  },
  {
   "cell_type": "code",
   "execution_count": 22,
   "id": "4f2b4293-cff6-425f-a979-0f59ff50d268",
   "metadata": {},
   "outputs": [
    {
     "name": "stdout",
     "output_type": "stream",
     "text": [
      "['apple', 'banana', 'cherry', 'orange']\n"
     ]
    }
   ],
   "source": [
    "fruits = [\"apple\", \"banana\"]\n",
    "\n",
    "more_fruits = [\"cherry\", \"orange\"]\n",
    "\n",
    "fruits.extend(more_fruits)\n",
    "\n",
    "print(fruits)  # Output: [\"apple\", \"banana\", \"cherry\", \"orange\"]\n"
   ]
  },
  {
   "cell_type": "markdown",
   "id": "8697b350-faeb-423c-9bcc-c7ac6cd3df87",
   "metadata": {},
   "source": [
    "## 6. Sorting Lists\n",
    "\n",
    "You can sort a list using the sort() method, either in ascending (default) or descending order.\n",
    "\n",
    "Example:"
   ]
  },
  {
   "cell_type": "code",
   "execution_count": 23,
   "id": "2fbc38da-c806-4255-bd54-b57081a668cc",
   "metadata": {},
   "outputs": [
    {
     "name": "stdout",
     "output_type": "stream",
     "text": [
      "[1, 2, 5, 5, 9]\n"
     ]
    }
   ],
   "source": [
    "numbers = [5, 2, 9, 1, 5]\n",
    "\n",
    "numbers.sort()  # Sort in ascending order\n",
    "\n",
    "print(numbers)  # Output: [1, 2, 5, 5, 9]"
   ]
  },
  {
   "cell_type": "code",
   "execution_count": 25,
   "id": "43ba70e6-8b00-4979-9af7-3de9be70d142",
   "metadata": {},
   "outputs": [
    {
     "name": "stdout",
     "output_type": "stream",
     "text": [
      "[1, 2, 5, 5, 9]\n"
     ]
    }
   ],
   "source": [
    "# Sort in descending order\n",
    "\n",
    "numbers.sort(reverse=True)\n",
    "\n",
    "print(numbers)  # Output: [9, 5, 5, 2, 1]"
   ]
  },
  {
   "cell_type": "code",
   "execution_count": 28,
   "id": "26eb635d-ca1a-49ca-921e-b0a03b7001e8",
   "metadata": {},
   "outputs": [
    {
     "name": "stdout",
     "output_type": "stream",
     "text": [
      "['apple', 'azple', 'banana', 'banana', 'banana', 'cherry']\n"
     ]
    }
   ],
   "source": [
    "fruits = [\"azple\", \"apple\", \"banana\", \"cherry\", \"banana\", \"banana\"]\n",
    "\n",
    "fruits.sort() \n",
    "\n",
    "print(fruits) "
   ]
  },
  {
   "cell_type": "markdown",
   "id": "29d8011e-a67b-4cc5-b30a-c876fca2e254",
   "metadata": {},
   "source": [
    "## 7. Counting Elements\n",
    "\n",
    "To count the occurrences of an element in a list, use the count() method.\n",
    "Example:"
   ]
  },
  {
   "cell_type": "code",
   "execution_count": 29,
   "id": "0bd2991f-083a-4cca-868a-1989959bf3d5",
   "metadata": {},
   "outputs": [
    {
     "name": "stdout",
     "output_type": "stream",
     "text": [
      "3\n"
     ]
    }
   ],
   "source": [
    "numbers = [1, 2, 3, 2, 4, 2]\n",
    "\n",
    "count = numbers.count(2)  # Count occurrences of 2\n",
    "\n",
    "print(count)  # Output: 3\n"
   ]
  },
  {
   "cell_type": "code",
   "execution_count": 34,
   "id": "559ca79d-5927-4e01-bc85-4359c0ee528b",
   "metadata": {},
   "outputs": [
    {
     "name": "stdout",
     "output_type": "stream",
     "text": [
      "4\n"
     ]
    }
   ],
   "source": [
    "fruits = [\"azple\", \"apple\", \"banana\", \"cherry\", \"banana\", \"banana\",\"banana\"]\n",
    "\n",
    "fruits = fruits.count(\"banana\")\n",
    "\n",
    "print(fruits)"
   ]
  },
  {
   "cell_type": "code",
   "execution_count": null,
   "id": "bd54fdd0-2d86-4d71-ad60-d11adfdadb26",
   "metadata": {},
   "outputs": [],
   "source": []
  }
 ],
 "metadata": {
  "kernelspec": {
   "display_name": "Python 3 (ipykernel)",
   "language": "python",
   "name": "python3"
  },
  "language_info": {
   "codemirror_mode": {
    "name": "ipython",
    "version": 3
   },
   "file_extension": ".py",
   "mimetype": "text/x-python",
   "name": "python",
   "nbconvert_exporter": "python",
   "pygments_lexer": "ipython3",
   "version": "3.8.10"
  }
 },
 "nbformat": 4,
 "nbformat_minor": 5
}
