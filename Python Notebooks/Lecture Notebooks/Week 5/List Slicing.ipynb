{
 "cells": [
  {
   "cell_type": "markdown",
   "id": "7d46064b-b8d1-4aad-a11f-bdf2080f5c7d",
   "metadata": {},
   "source": [
    "# Slicing Lists\n",
    "\n",
    "    List slicing allows you to create a new list by extracting a portion of an existing list.\n",
    "    The syntax for slicing is list[start:stop:step], where:\n",
    "        start is the index where the slice begins (inclusive).\n",
    "        stop is the index where the slice ends (exclusive).\n",
    "        step is the interval between elements.\n",
    "\n",
    "### Example 1: Basic Slicing\n",
    "\n",
    "\n"
   ]
  },
  {
   "cell_type": "code",
   "execution_count": 1,
   "id": "5ef367b5-ed23-4083-9411-f8fc46e566f2",
   "metadata": {},
   "outputs": [
    {
     "name": "stdout",
     "output_type": "stream",
     "text": [
      "['banana', 'cherry', 'date']\n"
     ]
    }
   ],
   "source": [
    "fruits = [\"apple\", \"banana\", \"cherry\", \"date\", \"fig\", \"grape\"]\n",
    "slice1 = fruits[1:4]  # Elements at index 1, 2, and 3\n",
    "\n",
    "print(slice1)"
   ]
  },
  {
   "cell_type": "markdown",
   "id": "0da7f886-339a-4376-84fe-97e7e71f37a3",
   "metadata": {},
   "source": [
    "### Example 2: Slicing with Steps\n"
   ]
  },
  {
   "cell_type": "code",
   "execution_count": 13,
   "id": "3046ca4e-546e-410c-8bbb-3bd4bdf308d4",
   "metadata": {},
   "outputs": [
    {
     "name": "stdout",
     "output_type": "stream",
     "text": [
      "[1, 3, 5, 7]\n"
     ]
    }
   ],
   "source": [
    "numbers = [0, 1, 2, 3, 4, 5, 6, 7, 8, 9]\n",
    "slice2 = numbers[1: 9 : 2]  \n",
    "\n",
    "print(slice2)"
   ]
  },
  {
   "cell_type": "code",
   "execution_count": 18,
   "id": "94c7d6f5-dc5a-4cc8-ba48-a24dc3b78844",
   "metadata": {},
   "outputs": [
    {
     "name": "stdout",
     "output_type": "stream",
     "text": [
      "['banana', 'date']\n"
     ]
    }
   ],
   "source": [
    "fruits = [\"apple\", \"banana\", \"cherry\", \"date\", \"fig\", \"grape\"]\n",
    "s3 = fruits[1: 4 : 2]\n",
    "\n",
    "print(s3)"
   ]
  },
  {
   "cell_type": "markdown",
   "id": "9c27f055-784f-46c5-ba1f-a5181f797911",
   "metadata": {},
   "source": [
    "### Example 3: Omitting Start, Stop, or Step\n",
    "\n",
    "    If start is omitted, it defaults to the beginning of the list.\n",
    "    If stop is omitted, it defaults to the end of the list.\n",
    "    If step is omitted, it defaults to 1 (every element).\n",
    "\n",
    "\n"
   ]
  },
  {
   "cell_type": "code",
   "execution_count": 19,
   "id": "d30299eb-2295-41c4-88fd-6514835de962",
   "metadata": {},
   "outputs": [
    {
     "name": "stdout",
     "output_type": "stream",
     "text": [
      "['apple', 'banana', 'cherry', 'date']\n",
      "['cherry', 'date', 'fig', 'grape']\n",
      "['apple', 'cherry', 'fig']\n"
     ]
    }
   ],
   "source": [
    "fruits = [\"apple\", \"banana\", \"cherry\", \"date\", \"fig\", \"grape\"]\n",
    "slice3a = fruits[:4]  # Elements at index 0, 1, 2, and 3\n",
    "slice3b = fruits[2:]  # Elements at index 2 and beyond\n",
    "slice3c = fruits[ : : 2]  # Every second element\n",
    "\n",
    "print(slice3a)\n",
    "print(slice3b)\n",
    "print(slice3c)"
   ]
  },
  {
   "cell_type": "markdown",
   "id": "95f3fa33-7ebb-458c-a565-86a9899f0d38",
   "metadata": {},
   "source": [
    "### Example 4: Negative Indexing\n",
    "\n",
    "    Negative indices count from the end of the list.\n",
    "    -1 represents the last element, -2 the second-to-last, and so on.\n"
   ]
  },
  {
   "cell_type": "code",
   "execution_count": 26,
   "id": "bfb835f1-9a7c-4d00-bb0a-42a615e29b3e",
   "metadata": {},
   "outputs": [
    {
     "name": "stdout",
     "output_type": "stream",
     "text": [
      "banana\n"
     ]
    }
   ],
   "source": [
    "fruits = [\"apple\", \"banana\", \"cherry\", \"date\", \"fig\", \"grape\"]\n",
    "\n",
    "slice4 = fruits[-5] \n",
    "\n",
    "print(slice4)"
   ]
  },
  {
   "cell_type": "code",
   "execution_count": 15,
   "id": "c6824613-2704-4774-940d-3697e4540ff1",
   "metadata": {},
   "outputs": [
    {
     "name": "stdout",
     "output_type": "stream",
     "text": [
      "[]\n"
     ]
    }
   ],
   "source": [
    "fruits = [\"apple\", \"banana\", \"cherry\", \"date\", \"fig\", \"grape\"]\n",
    "\n",
    "slice5 = fruits[-5:-3]  \n",
    "\n",
    "print(slice5)"
   ]
  },
  {
   "cell_type": "markdown",
   "id": "50a985a3-6626-4dad-b943-55e4b476e57b",
   "metadata": {},
   "source": [
    "### Example 5: Reversing a List\n",
    "\n",
    "    You can reverse a list by using slicing with a negative step.\n"
   ]
  },
  {
   "cell_type": "code",
   "execution_count": 25,
   "id": "1effe0cf-872c-4085-9822-94371786c4f1",
   "metadata": {},
   "outputs": [
    {
     "name": "stdout",
     "output_type": "stream",
     "text": [
      "[9, 7, 5]\n"
     ]
    }
   ],
   "source": [
    "numbers = [0, 1, 2, 3, 4, 5, 6, 7, 8, 9]\n",
    "\n",
    "reversed_numbers = numbers[: :-2]  # Reverse the list\n",
    "\n",
    "print(reversed_numbers)"
   ]
  },
  {
   "cell_type": "code",
   "execution_count": 24,
   "id": "85d5c040-23dd-4800-b382-c9379ec7d58c",
   "metadata": {},
   "outputs": [
    {
     "name": "stdout",
     "output_type": "stream",
     "text": [
      "['banana']\n"
     ]
    }
   ],
   "source": []
  },
  {
   "cell_type": "markdown",
   "id": "a937be29-2534-4a1a-8a28-032c0b04f925",
   "metadata": {},
   "source": [
    "### Example 6: Modifying a Slice\n",
    "\n",
    "    Slices are mutable, meaning you can modify the elements within a slice.\n"
   ]
  },
  {
   "cell_type": "code",
   "execution_count": 29,
   "id": "db74b1c5-fee3-4a47-96bb-ae004cda100f",
   "metadata": {},
   "outputs": [
    {
     "name": "stdout",
     "output_type": "stream",
     "text": [
      "['apple', 'kiwi', 'lemon', 'mango', 'fig', 'grape']\n"
     ]
    }
   ],
   "source": [
    "fruits = [\"apple\", \"banana\", \"cherry\", \"date\", \"fig\", \"grape\"]\n",
    "\n",
    "fruits[1:4] = [\"kiwi\", \"lemon\", \"mango\"]\n",
    "\n",
    "print(fruits)"
   ]
  },
  {
   "cell_type": "markdown",
   "id": "16dfe0ac-9de2-4507-b265-50c0cc5e02c5",
   "metadata": {},
   "source": [
    "### Example 7: Copying a List\n",
    "\n",
    "    You can create a copy of a list using slicing.\n",
    "\n"
   ]
  },
  {
   "cell_type": "code",
   "execution_count": 30,
   "id": "10cceb06-4b4c-4c92-96c3-980e17404a2c",
   "metadata": {},
   "outputs": [
    {
     "name": "stdout",
     "output_type": "stream",
     "text": [
      "[1, 2, 3, 4, 5]\n"
     ]
    }
   ],
   "source": [
    "original = [1, 2, 3, 4, 5]\n",
    "\n",
    "copy = original[:]\n",
    "\n",
    "print(copy)"
   ]
  },
  {
   "cell_type": "code",
   "execution_count": null,
   "id": "02c6ebb9-a08b-403b-8230-16456200092a",
   "metadata": {},
   "outputs": [],
   "source": []
  }
 ],
 "metadata": {
  "kernelspec": {
   "display_name": "Python 3 (ipykernel)",
   "language": "python",
   "name": "python3"
  },
  "language_info": {
   "codemirror_mode": {
    "name": "ipython",
    "version": 3
   },
   "file_extension": ".py",
   "mimetype": "text/x-python",
   "name": "python",
   "nbconvert_exporter": "python",
   "pygments_lexer": "ipython3",
   "version": "3.8.10"
  }
 },
 "nbformat": 4,
 "nbformat_minor": 5
}
