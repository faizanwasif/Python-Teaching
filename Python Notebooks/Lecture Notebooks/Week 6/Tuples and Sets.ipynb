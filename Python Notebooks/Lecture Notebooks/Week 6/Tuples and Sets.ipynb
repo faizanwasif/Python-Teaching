{
 "cells": [
  {
   "cell_type": "markdown",
   "id": "83797457-fc5d-4ce8-ac9c-62f0bbec452e",
   "metadata": {},
   "source": [
    "# Title: Understanding Tuples and Sets in Python\n",
    "\n",
    "## Introduction\n",
    "\n",
    "In Python, `tuples` and `sets` are important data structures used to store collections of items. They serve different purposes and have unique characteristics. This Jupyter Notebook aims to provide a comprehensive understanding of tuples and sets, including their properties, creation, manipulation, and common operations.\n",
    "\n",
    "## Part 1: Tuples\n",
    "\n",
    "### What is a Tuple?\n",
    "\n",
    "A tuple is an ordered and immutable collection of elements. This means that once you create a tuple, you cannot change its contents, and it can hold elements of different data types.\n",
    "\n",
    "### Creating Tuples\n",
    "\n",
    "Tuples are created by enclosing elements within parentheses `()`. For example:\n",
    "\n",
    "\n",
    "\n"
   ]
  },
  {
   "cell_type": "code",
   "execution_count": 1,
   "id": "fa029104-f7c0-4826-8fc5-394879c6272c",
   "metadata": {},
   "outputs": [],
   "source": [
    "my_tuple = (1, \"apple\", 3.14)"
   ]
  },
  {
   "cell_type": "markdown",
   "id": "5d6d99f6-2194-495e-b5d6-b51f9efc7f7c",
   "metadata": {},
   "source": [
    "\n",
    "### Accessing Tuple Elements\n",
    "\n",
    "You can access tuple elements using indexing, similar to lists. Tuple indices start from 0.\n",
    "\n"
   ]
  },
  {
   "cell_type": "code",
   "execution_count": 2,
   "id": "46bdfe2f-9d26-4359-bbd6-b027fd51596b",
   "metadata": {},
   "outputs": [
    {
     "name": "stdout",
     "output_type": "stream",
     "text": [
      "1\n"
     ]
    }
   ],
   "source": [
    "first_element = my_tuple[0]\n",
    "second_element = my_tuple[1]\n",
    "print(first_element)"
   ]
  },
  {
   "cell_type": "markdown",
   "id": "fa80333d-c017-40ce-84e0-f45df8cacf98",
   "metadata": {},
   "source": [
    "\n",
    "### Immutability\n",
    "\n",
    "Tuples are immutable, which means you cannot modify their elements after creation.\n",
    "\n"
   ]
  },
  {
   "cell_type": "code",
   "execution_count": 3,
   "id": "2b7d5e6f-8781-4e7a-8fce-95994b1be459",
   "metadata": {},
   "outputs": [
    {
     "ename": "TypeError",
     "evalue": "'tuple' object does not support item assignment",
     "output_type": "error",
     "traceback": [
      "\u001b[0;31m---------------------------------------------------------------------------\u001b[0m",
      "\u001b[0;31mTypeError\u001b[0m                                 Traceback (most recent call last)",
      "Cell \u001b[0;32mIn[3], line 1\u001b[0m\n\u001b[0;32m----> 1\u001b[0m \u001b[43mmy_tuple\u001b[49m\u001b[43m[\u001b[49m\u001b[38;5;241;43m0\u001b[39;49m\u001b[43m]\u001b[49m \u001b[38;5;241m=\u001b[39m \u001b[38;5;241m2\u001b[39m  \u001b[38;5;66;03m# This will raise a TypeError\u001b[39;00m\n",
      "\u001b[0;31mTypeError\u001b[0m: 'tuple' object does not support item assignment"
     ]
    }
   ],
   "source": [
    "my_tuple[0] = 2  # This will raise a TypeError"
   ]
  },
  {
   "cell_type": "markdown",
   "id": "aa9a99d2-99bd-40cf-b519-d8b432dcf456",
   "metadata": {},
   "source": [
    "\n",
    "### Common Tuple Operations\n",
    "\n",
    "    Tuple Packing and Unpacking: Multiple values can be assigned to a tuple at once, and tuple elements can be unpacked into separate variables.\n",
    "    Concatenation and Repetition: Tuples can be combined, and their elements can be repeated.\n",
    "    Slicing: You can extract a subset of elements from a tuple.\n",
    "    Tuple Methods: Methods like count and index are available for tuple manipulation.\n",
    "\n"
   ]
  },
  {
   "cell_type": "code",
   "execution_count": 2,
   "id": "b3f6b8d4-6f64-4e95-ad88-2b276e4f3ffb",
   "metadata": {},
   "outputs": [
    {
     "name": "stdout",
     "output_type": "stream",
     "text": [
      "('apple', 'banana', 'cherry')\n"
     ]
    }
   ],
   "source": [
    "# Tuple Packing and Unpacking\n",
    "fruit_tuple = \"apple\", \"banana\", \"cherry\"  # Tuple packing\n",
    "print(fruit_tuple)\n",
    "\n"
   ]
  },
  {
   "cell_type": "code",
   "execution_count": 3,
   "id": "4d9abe59-b988-46d1-af95-f719fa1ecb73",
   "metadata": {},
   "outputs": [
    {
     "name": "stdout",
     "output_type": "stream",
     "text": [
      "Tuple Packing and Unpacking:\n",
      "apple banana cherry\n"
     ]
    }
   ],
   "source": [
    "a, b, c = fruit_tuple  # Tuple unpacking\n",
    "\n",
    "print(\"Tuple Packing and Unpacking:\")\n",
    "print(a, b,c)"
   ]
  },
  {
   "cell_type": "code",
   "execution_count": 25,
   "id": "82fbeb9e-c9e1-45ac-8831-fdcbe14e683a",
   "metadata": {},
   "outputs": [
    {
     "name": "stdout",
     "output_type": "stream",
     "text": [
      "Concatenation and Repetition: (1, 2, 3, 4, 5, 6) (1, 2, 3, 4, 5, 6, 1, 2, 3, 4, 5, 6, 1, 2, 3, 4, 5, 6)\n",
      "(1, 2, 3, 4, 5, 6)\n"
     ]
    }
   ],
   "source": [
    "# Concatenation and Repetition\n",
    "tuple1 = (1, 2, 3)\n",
    "tuple2 = (4, 5, 6)\n",
    "\n",
    "combined_tuple = tuple1 + tuple2  # Concatenation\n",
    "\n",
    "repeated_tuple = tuple1 * 3  # Repetition\n",
    "\n",
    "print(\"Concatenation and Repetition:\",combined_tuple,repeated_tuple)\n",
    "print(tuple1)"
   ]
  },
  {
   "cell_type": "code",
   "execution_count": 9,
   "id": "3b5b1cdc-68d1-4bf0-a2b8-7057f35468b8",
   "metadata": {},
   "outputs": [
    {
     "name": "stdout",
     "output_type": "stream",
     "text": [
      "(3, 4, 5)\n"
     ]
    }
   ],
   "source": [
    "# Slicing\n",
    "my_tuple = (1, 2, 3, 4, 5, 6, 7, 8, 9)\n",
    "subset_tuple = my_tuple[2:5]  # Extract elements from index 2 to 4 (exclusive)\n",
    "even_indices = my_tuple[::2]  # Extract every second element\n",
    "\n",
    "\n",
    "print(\"\\nSlicing:\")\n",
    "print(subset_tuple)\n",
    "print(even_indices)"
   ]
  },
  {
   "cell_type": "code",
   "execution_count": 11,
   "id": "361712b2-1da1-402b-bfdf-114742e852f3",
   "metadata": {},
   "outputs": [
    {
     "name": "stdout",
     "output_type": "stream",
     "text": [
      "\n",
      "Tuple Methods:\n",
      "Count of a: 2\n"
     ]
    }
   ],
   "source": [
    "# Tuple Methods\n",
    "my_tuple = (1, 2, \"a\",\"a\", 3, 4, 2)\n",
    "count_of_2 = my_tuple.count(\"a\")  # Count the occurrences of 2\n",
    "\n",
    "\n",
    "print(\"\\nTuple Methods:\")\n",
    "print(\"Count of a:\", count_of_2)"
   ]
  },
  {
   "cell_type": "code",
   "execution_count": 12,
   "id": "b6465bc8-ac1d-43a2-bd79-3889217043c3",
   "metadata": {},
   "outputs": [
    {
     "name": "stdout",
     "output_type": "stream",
     "text": [
      "Index of a: 2\n"
     ]
    }
   ],
   "source": [
    "index_of_3 = my_tuple.index(\"a\")  # Find the index of the first occurrence of n\n",
    "\n",
    "print(\"Index of a:\", index_of_3)"
   ]
  },
  {
   "cell_type": "markdown",
   "id": "c555a053-6a90-4e17-b511-d2788f0cfd8d",
   "metadata": {},
   "source": [
    "## Part 2: Sets\n",
    "What is a Set?\n",
    "\n",
    "A set is an unordered collection of unique elements. It is defined by enclosing elements within curly braces {} or by using the set() constructor.\n",
    "Creating Sets"
   ]
  },
  {
   "cell_type": "code",
   "execution_count": 13,
   "id": "52d2193e-e67d-45c5-b3f4-283f8e191cf8",
   "metadata": {},
   "outputs": [],
   "source": [
    "my_set = {1, 2, 3}"
   ]
  },
  {
   "cell_type": "code",
   "execution_count": 14,
   "id": "612dea3a-644a-42b3-a7c5-5df3363768f6",
   "metadata": {},
   "outputs": [],
   "source": [
    "fruits1 = {\"apple\", \"banana\", \"cherry\"}"
   ]
  },
  {
   "cell_type": "markdown",
   "id": "83ba1c0e-7fdd-4d92-9dbc-16bd7a492df1",
   "metadata": {},
   "source": [
    "### Accessing Set Elements\n",
    "\n",
    "Since sets are unordered, you cannot access elements by index. You can only check for membership.\n",
    "\n"
   ]
  },
  {
   "cell_type": "code",
   "execution_count": 18,
   "id": "28c28eb6-59dd-4c41-9ef9-5a7054cf7be2",
   "metadata": {},
   "outputs": [
    {
     "name": "stdout",
     "output_type": "stream",
     "text": [
      "False\n"
     ]
    }
   ],
   "source": [
    "is_present = \"apple\" in fruits1  # True\n",
    "\n",
    "print(is_present)"
   ]
  },
  {
   "cell_type": "markdown",
   "id": "6a7f05cb-3a44-4efe-8733-50bc0a57239b",
   "metadata": {},
   "source": [
    "\n",
    "\n",
    "### Uniqueness\n",
    "\n",
    "Sets automatically remove duplicate elements.\n",
    "\n"
   ]
  },
  {
   "cell_type": "code",
   "execution_count": 19,
   "id": "11bf26ef-fd95-47cd-87e1-08b9ab1c9e85",
   "metadata": {},
   "outputs": [
    {
     "name": "stdout",
     "output_type": "stream",
     "text": [
      "{1, 2, 3}\n"
     ]
    }
   ],
   "source": [
    "my_set = {1, 2, 2, 3, 3, 3}\n",
    "print(my_set)  # Outputs: {1, 2, 3}"
   ]
  },
  {
   "cell_type": "markdown",
   "id": "ca8ce5bc-6edd-4325-801d-18d8827f4fdb",
   "metadata": {},
   "source": [
    "\n",
    "### Common Set Operations\n",
    "\n",
    "    Set Operations (union, intersection, difference): Sets can perform operations like union, intersection, and difference with other sets.\n",
    "    Adding and Removing Elements: Elements can be added using the add method and removed using the remove method.\n",
    "    Set Methods: Various set methods are available for manipulation.\n"
   ]
  },
  {
   "cell_type": "markdown",
   "id": "dbfb15a5-f88f-4d4a-a369-4172fcccb128",
   "metadata": {},
   "source": [
    "### Example: Using Sets to Find Common Elements\n",
    "\n",
    "\n"
   ]
  },
  {
   "cell_type": "code",
   "execution_count": 21,
   "id": "1d8061df-1a91-40a5-9367-b851cf4879f6",
   "metadata": {},
   "outputs": [
    {
     "name": "stdout",
     "output_type": "stream",
     "text": [
      "{'cherry', 'banana'}\n"
     ]
    }
   ],
   "source": [
    "fruits1 = {\"apple\", \"banana\", \"cherry\"}\n",
    "fruits2 = {\"banana\", \"cherry\", \"orange\"}\n",
    "fruits3= {\"banana\", \"cherry\", \"abc\"}\n",
    "common_fruits = fruits1.intersection(fruits2)\n",
    "x = fruits3.intersection(common_fruits)\n",
    "\n",
    "print(common_fruits)"
   ]
  },
  {
   "cell_type": "code",
   "execution_count": 13,
   "id": "90c09a7e-4504-40bd-bf53-9200ac014cc2",
   "metadata": {},
   "outputs": [
    {
     "name": "stdout",
     "output_type": "stream",
     "text": [
      "1\n",
      "2\n",
      "3\n",
      "4\n",
      "5\n"
     ]
    }
   ],
   "source": [
    "my_set = {1, 2, 3, 4, 5}\n",
    "\n",
    "for element in my_set:\n",
    "    print(element)"
   ]
  },
  {
   "cell_type": "code",
   "execution_count": 14,
   "id": "9e794b8d-ca63-443f-a102-712a007f1b47",
   "metadata": {},
   "outputs": [
    {
     "name": "stdout",
     "output_type": "stream",
     "text": [
      "3 is in the set.\n"
     ]
    }
   ],
   "source": [
    "my_set = {1, 2, 3, 4, 5}\n",
    "\n",
    "element_to_find = 3\n",
    "if element_to_find in my_set:\n",
    "    print(f\"{element_to_find} is in the set.\")\n"
   ]
  },
  {
   "cell_type": "markdown",
   "id": "387c476d-b8d8-436e-8146-51ed58c129ff",
   "metadata": {},
   "source": [
    "\n",
    "\n",
    "## Part 3: When to Use Tuples and Sets\n",
    "\n",
    "    Use tuples when you need an immutable collection of elements with a specific order, such as coordinates or record structures.\n",
    "    Use sets when you need a collection of unique elements, and order is not important, or when you need to perform set operations like union and intersection.\n",
    "\n",
    "Conclusion\n",
    "\n",
    "Tuples and sets are essential data structures in Python with distinct characteristics and use cases. Understanding when and how to use them is crucial for effective Python programming."
   ]
  },
  {
   "cell_type": "code",
   "execution_count": null,
   "id": "c0825286-3fda-4d02-a1e0-6ff7b75ee134",
   "metadata": {},
   "outputs": [],
   "source": []
  }
 ],
 "metadata": {
  "kernelspec": {
   "display_name": "Python 3 (ipykernel)",
   "language": "python",
   "name": "python3"
  },
  "language_info": {
   "codemirror_mode": {
    "name": "ipython",
    "version": 3
   },
   "file_extension": ".py",
   "mimetype": "text/x-python",
   "name": "python",
   "nbconvert_exporter": "python",
   "pygments_lexer": "ipython3",
   "version": "3.8.10"
  }
 },
 "nbformat": 4,
 "nbformat_minor": 5
}
