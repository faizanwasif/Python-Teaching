{
 "cells": [
  {
   "cell_type": "code",
   "execution_count": 1,
   "id": "34e4a1df-10b7-42fd-b1f4-5ae70880bbe8",
   "metadata": {},
   "outputs": [
    {
     "name": "stdout",
     "output_type": "stream",
     "text": [
      "Question 1:\n",
      "What is a list in Python?\n",
      "1. A data type to store a single value\n",
      "2. A data structure to store multiple values\n",
      "3. A function to print text\n"
     ]
    },
    {
     "name": "stdin",
     "output_type": "stream",
     "text": [
      "Enter the number of your answer:  1\n"
     ]
    },
    {
     "name": "stdout",
     "output_type": "stream",
     "text": [
      "Wrong! The correct answer is A data structure to store multiple values\n",
      "\n",
      "Question 2:\n",
      "Which of the following is the correct way to create an empty list?\n",
      "1. list = []\n",
      "2. list = {}\n"
     ]
    },
    {
     "name": "stdin",
     "output_type": "stream",
     "text": [
      "Enter the number of your answer:  2\n"
     ]
    },
    {
     "name": "stdout",
     "output_type": "stream",
     "text": [
      "Wrong! The correct answer is list = []\n",
      "\n",
      "Question 3:\n",
      "What is a list comprehension used for in Python?\n",
      "1. To create a list of strings\n",
      "2. To generate a new list based on an existing list\n",
      "3. To combine multiple lists\n"
     ]
    },
    {
     "name": "stdin",
     "output_type": "stream",
     "text": [
      "Enter the number of your answer:  0\n"
     ]
    },
    {
     "name": "stdout",
     "output_type": "stream",
     "text": [
      "Wrong! The correct answer is To generate a new list based on an existing list\n",
      "\n",
      "Question 4:\n",
      "What is the result of slicing a list using myList[1:4] if myList = [10, 20, 30, 40, 50]?\n",
      "1. [20, 30]\n",
      "2. [10, 20, 30, 40]\n",
      "3. [30, 40, 50]\n"
     ]
    },
    {
     "name": "stdin",
     "output_type": "stream",
     "text": [
      "Enter the number of your answer:  1\n"
     ]
    },
    {
     "name": "stdout",
     "output_type": "stream",
     "text": [
      "Correct!\n",
      "\n",
      "Question 5:\n",
      "How do you add an element to the end of a list?\n",
      "1. append()\n",
      "2. insert()\n",
      "3. add()\n"
     ]
    },
    {
     "name": "stdin",
     "output_type": "stream",
     "text": [
      "Enter the number of your answer:  2\n"
     ]
    },
    {
     "name": "stdout",
     "output_type": "stream",
     "text": [
      "Wrong! The correct answer is append()\n",
      "\n",
      "Question 6:\n",
      "How can you iterate through a list using a for loop?\n",
      "1. for i in myList:\n",
      "2. for i from 1 to len(myList):\n",
      "3. for i in range(myList):\n"
     ]
    },
    {
     "name": "stdin",
     "output_type": "stream",
     "text": [
      "Enter the number of your answer:  3\n"
     ]
    },
    {
     "name": "stdout",
     "output_type": "stream",
     "text": [
      "Wrong! The correct answer is for i in myList:\n",
      "\n",
      "Your score is 1/6\n",
      "You may want to review the topic. Keep learning!\n"
     ]
    }
   ],
   "source": [
    "import random\n",
    "\n",
    "questions = [\n",
    "    {\n",
    "        \"question\": \"What is a list in Python?\",\n",
    "        \"options\": [\"A data type to store a single value\", \"A data structure to store multiple values\", \"A function to print text\"],\n",
    "        \"answer\": 1,\n",
    "    },\n",
    "    {\n",
    "        \"question\": \"Which of the following is the correct way to create an empty list?\",\n",
    "        \"options\": [\"list = []\", \"list = {}\"],\n",
    "        \"answer\": 0,\n",
    "    },\n",
    "    {\n",
    "        \"question\": \"How do you add an element to the end of a list?\",\n",
    "        \"options\": [\"append()\", \"insert()\", \"add()\"],\n",
    "        \"answer\": 0,\n",
    "    },\n",
    "    {\n",
    "        \"question\": \"What is the result of slicing a list using myList[1:4] if myList = [10, 20, 30, 40, 50]?\",\n",
    "        \"options\": [\"[20, 30]\", \"[10, 20, 30, 40]\", \"[30, 40, 50]\"],\n",
    "        \"answer\": 0,\n",
    "    },\n",
    "    {\n",
    "        \"question\": \"How can you iterate through a list using a for loop?\",\n",
    "        \"options\": [\"for i in myList:\", \"for i from 1 to len(myList):\", \"for i in range(myList):\"],\n",
    "        \"answer\": 0,\n",
    "    },\n",
    "    {\n",
    "        \"question\": \"What is a list comprehension used for in Python?\",\n",
    "        \"options\": [\"To create a list of strings\", \"To generate a new list based on an existing list\", \"To combine multiple lists\"],\n",
    "        \"answer\": 1,\n",
    "    },\n",
    "]\n",
    "\n",
    "random.shuffle(questions)\n",
    "\n",
    "\n",
    "score = 0\n",
    "\n",
    "\n",
    "def ask_question(question, options, answer):\n",
    "    print(question)\n",
    "    for i, option in enumerate(options):\n",
    "        print(f\"{i + 1}. {option}\")\n",
    "    user_answer = input(\"Enter the number of your answer: \")\n",
    "    if user_answer.isdigit():\n",
    "        user_answer = int(user_answer) - 1\n",
    "        if user_answer == answer:\n",
    "            print(\"Correct!\\n\")\n",
    "            return True\n",
    "    print(f\"Wrong! The correct answer is {options[answer]}\\n\")\n",
    "    return False\n",
    "\n",
    "\n",
    "for i, question in enumerate(questions):\n",
    "    print(f\"Question {i + 1}:\")\n",
    "    result = ask_question(question[\"question\"], question[\"options\"], question[\"answer\"])\n",
    "    if result:\n",
    "        score += 1\n",
    "\n",
    "\n",
    "print(f\"Your score is {score}/{len(questions)}\")\n",
    "\n",
    "\n",
    "if score == len(questions):\n",
    "    print(\"Congratulations! You got a perfect score!\")\n",
    "elif score >= len(questions) / 2:\n",
    "    print(\"Not bad! You did well.\")\n",
    "else:\n",
    "    print(\"You may want to review the topic. Keep learning!\")\n"
   ]
  },
  {
   "cell_type": "code",
   "execution_count": null,
   "id": "56c796c4-101d-4972-a06d-b692f20cc126",
   "metadata": {},
   "outputs": [],
   "source": []
  },
  {
   "cell_type": "code",
   "execution_count": null,
   "id": "e7ae10de-6ce6-4988-9c11-edcbd6ca28d5",
   "metadata": {},
   "outputs": [],
   "source": []
  }
 ],
 "metadata": {
  "kernelspec": {
   "display_name": "Python 3 (ipykernel)",
   "language": "python",
   "name": "python3"
  },
  "language_info": {
   "codemirror_mode": {
    "name": "ipython",
    "version": 3
   },
   "file_extension": ".py",
   "mimetype": "text/x-python",
   "name": "python",
   "nbconvert_exporter": "python",
   "pygments_lexer": "ipython3",
   "version": "3.8.10"
  }
 },
 "nbformat": 4,
 "nbformat_minor": 5
}
