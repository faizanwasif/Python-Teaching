{
 "cells": [
  {
   "cell_type": "markdown",
   "id": "bb3514ee-5fc7-410c-8c20-f353290563a9",
   "metadata": {},
   "source": [
    "# Jupyter Notebook on Dictionaries and Key-Value Pairs\n",
    "\n",
    "## Introduction to Dictionaries\n",
    "\n",
    "Dictionaries are a fundamental data structure in Python used to store and manipulate key-value pairs. Each key in a dictionary maps to a specific value.\n",
    "\n",
    "### Creating a Dictionary\n",
    "\n",
    "Let's start by creating a dictionary.\n",
    "\n",
    "# Creating a dictionary"
   ]
  },
  {
   "cell_type": "code",
   "execution_count": 26,
   "id": "c47b0f99-0773-4b1b-a345-d3386682ddd2",
   "metadata": {},
   "outputs": [],
   "source": [
    "my_dict = {\n",
    "    \n",
    "    \"name\": \"John\",\n",
    "    \n",
    "    \"age\" : 30,\n",
    "    \n",
    "    \"city\": \"New York\",\n",
    "\n",
    "    \"city\" : \"Pesh\",\n",
    "\n",
    "}"
   ]
  },
  {
   "cell_type": "code",
   "execution_count": 27,
   "id": "7404956f-e160-4d65-b864-27a99decb84d",
   "metadata": {},
   "outputs": [
    {
     "name": "stdout",
     "output_type": "stream",
     "text": [
      "{'name': 'John', 'age': 30, 'city': 'Pesh'}\n"
     ]
    }
   ],
   "source": [
    "# Display the dictionary\n",
    "print(my_dict)"
   ]
  },
  {
   "cell_type": "markdown",
   "id": "0b3a27ed-b670-44d5-8923-352bf0576db9",
   "metadata": {},
   "source": [
    "# Accessing values\n",
    "You can access values in a dictionary by using the associated keys.\n"
   ]
  },
  {
   "cell_type": "code",
   "execution_count": 4,
   "id": "8fd147a0-2b55-401f-8a19-5ccd80d450d9",
   "metadata": {},
   "outputs": [
    {
     "name": "stdout",
     "output_type": "stream",
     "text": [
      "Name: John, Age: 30\n"
     ]
    }
   ],
   "source": [
    "name = my_dict['name']\n",
    "age = my_dict[\"age\"]\n",
    "\n",
    "print(f\"Name: {name}, Age: {age}\")"
   ]
  },
  {
   "cell_type": "code",
   "execution_count": 20,
   "id": "09042d6e-81e7-4773-a235-029db9a08d75",
   "metadata": {},
   "outputs": [
    {
     "data": {
      "text/plain": [
       "30"
      ]
     },
     "execution_count": 20,
     "metadata": {},
     "output_type": "execute_result"
    }
   ],
   "source": [
    "my_dict.get('age')"
   ]
  },
  {
   "cell_type": "markdown",
   "id": "5cbb4888-b470-4b19-b5c1-cd07a188c482",
   "metadata": {},
   "source": [
    "# Modifying values\n",
    "\n",
    "Dictionaries are mutable, meaning you can change their values."
   ]
  },
  {
   "cell_type": "code",
   "execution_count": 5,
   "id": "7a9eef02-54cb-4ab9-add5-cc6878958a3f",
   "metadata": {},
   "outputs": [],
   "source": [
    "my_dict[\"age\"] = 31"
   ]
  },
  {
   "cell_type": "code",
   "execution_count": 19,
   "id": "c540ad10-82c5-4d29-8736-04d2ce74b0e3",
   "metadata": {},
   "outputs": [
    {
     "data": {
      "text/plain": [
       "{'name': 'John', 'age': 30, 'city': 'New York'}"
      ]
     },
     "execution_count": 19,
     "metadata": {},
     "output_type": "execute_result"
    }
   ],
   "source": [
    "# Display the modified dictionary\n",
    "my_dict"
   ]
  },
  {
   "cell_type": "code",
   "execution_count": null,
   "id": "a0b12f4f-55bc-446d-b4ed-95ddfa2690c6",
   "metadata": {},
   "outputs": [],
   "source": [
    "my_dict.get('age')"
   ]
  },
  {
   "cell_type": "markdown",
   "id": "4955b6e8-b89a-4d8f-9e9b-bcf0f2621955",
   "metadata": {},
   "source": [
    "# Adding an item\n",
    "You can add and remove key-value pairs in a dictionary.\n"
   ]
  },
  {
   "cell_type": "code",
   "execution_count": 22,
   "id": "3cb2a942-3658-4e1f-9049-7cd7432c5d43",
   "metadata": {},
   "outputs": [
    {
     "name": "stdout",
     "output_type": "stream",
     "text": [
      "{'name': 'John', 'age': 30, 'city': 'New York', 'country': 'PAK'}\n"
     ]
    }
   ],
   "source": [
    "my_dict[\"country\"] = \"PAK\"\n",
    "\n",
    "print(my_dict)"
   ]
  },
  {
   "cell_type": "markdown",
   "id": "756ad842-3e24-4249-b6f0-3c26e33ec400",
   "metadata": {},
   "source": [
    "# Removing an item\n"
   ]
  },
  {
   "cell_type": "code",
   "execution_count": 23,
   "id": "97e828a7-becd-45a2-8c95-65774db64bc3",
   "metadata": {},
   "outputs": [],
   "source": [
    "del my_dict[\"city\"]"
   ]
  },
  {
   "cell_type": "code",
   "execution_count": 24,
   "id": "07ce881c-0e80-4337-8dd1-074390c92bee",
   "metadata": {},
   "outputs": [
    {
     "data": {
      "text/plain": [
       "{'name': 'John', 'age': 30, 'country': 'PAK'}"
      ]
     },
     "execution_count": 24,
     "metadata": {},
     "output_type": "execute_result"
    }
   ],
   "source": [
    "# Display the updated dictionary\n",
    "\n",
    "my_dict"
   ]
  },
  {
   "cell_type": "markdown",
   "id": "f99d8e91-91b1-468f-b0c1-ae5079742fa9",
   "metadata": {},
   "source": [
    "# Iterating Through a Dictionary\n",
    "\n",
    "You can loop through the keys, values, or key-value pairs in a dictionary using for loops.\n",
    "\n"
   ]
  },
  {
   "cell_type": "code",
   "execution_count": 10,
   "id": "8bfc0923-2693-4197-8627-650290c81090",
   "metadata": {},
   "outputs": [
    {
     "name": "stdout",
     "output_type": "stream",
     "text": [
      "name\n",
      "age\n",
      "country\n"
     ]
    }
   ],
   "source": [
    "for key in my_dict:\n",
    "    print(key)"
   ]
  },
  {
   "cell_type": "code",
   "execution_count": 11,
   "id": "fc3c37ce-952d-4d41-84bb-b9ea3e86b7ea",
   "metadata": {},
   "outputs": [
    {
     "name": "stdout",
     "output_type": "stream",
     "text": [
      "John\n",
      "31\n",
      "PAK\n"
     ]
    }
   ],
   "source": [
    "# Looping through values\n",
    "for value in my_dict.values():\n",
    "    print(value)\n"
   ]
  },
  {
   "cell_type": "code",
   "execution_count": 12,
   "id": "5ab56646-3220-4213-adb0-f4e03caf208c",
   "metadata": {},
   "outputs": [
    {
     "name": "stdout",
     "output_type": "stream",
     "text": [
      "name: John\n",
      "age: 31\n",
      "country: PAK\n"
     ]
    }
   ],
   "source": [
    "# Looping through key-value pairs\n",
    "for key, value in my_dict.items():\n",
    "    print(f\"{key} : {value}\")"
   ]
  },
  {
   "cell_type": "markdown",
   "id": "97a8b02a-8132-4e57-9dbe-9b3d7c371357",
   "metadata": {},
   "source": [
    "# Checking for key existence\n",
    "\n",
    "You can check if a key exists in a dictionary using the in operator."
   ]
  },
  {
   "cell_type": "code",
   "execution_count": 13,
   "id": "d1a3d3c5-c164-4760-bcce-72b3316eec32",
   "metadata": {},
   "outputs": [
    {
     "name": "stdout",
     "output_type": "stream",
     "text": [
      "The key 'name' exists in the dictionary.\n"
     ]
    }
   ],
   "source": [
    "if \"name\" in my_dict:\n",
    "    print(\"The key 'name' exists in the dictionary.\")"
   ]
  },
  {
   "cell_type": "code",
   "execution_count": 25,
   "id": "ed148533-1343-4138-9662-a3d2994bf2a5",
   "metadata": {},
   "outputs": [],
   "source": [
    "if \"Faizan\" in my_dict.values():\n",
    "    print(\"The key 'John' exists in the dictionary.\")"
   ]
  },
  {
   "cell_type": "code",
   "execution_count": null,
   "id": "214d08ce-d8dc-48e4-b790-e76c204e49a6",
   "metadata": {},
   "outputs": [],
   "source": []
  }
 ],
 "metadata": {
  "kernelspec": {
   "display_name": "Python 3 (ipykernel)",
   "language": "python",
   "name": "python3"
  },
  "language_info": {
   "codemirror_mode": {
    "name": "ipython",
    "version": 3
   },
   "file_extension": ".py",
   "mimetype": "text/x-python",
   "name": "python",
   "nbconvert_exporter": "python",
   "pygments_lexer": "ipython3",
   "version": "3.8.10"
  }
 },
 "nbformat": 4,
 "nbformat_minor": 5
}
