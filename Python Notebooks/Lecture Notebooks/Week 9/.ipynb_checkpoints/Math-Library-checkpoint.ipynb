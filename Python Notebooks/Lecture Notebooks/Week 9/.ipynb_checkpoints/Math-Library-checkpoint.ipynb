{
 "cells": [
  {
   "cell_type": "markdown",
   "id": "979e231e-527f-4fd4-b97b-f24c7db3e862",
   "metadata": {},
   "source": [
    "# Title: Exploring Python's Math Library\n",
    "\n",
    "## Introduction\n",
    "\n",
    "Python's `math` library is a powerful module that provides a wide range of mathematical functions and constants for performing various mathematical operations. This Jupyter Notebook will explore the capabilities of the `math` library, including common functions and constants.\n",
    "\n"
   ]
  },
  {
   "cell_type": "markdown",
   "id": "7736fe73-d1fc-40bb-9940-cf1480274f25",
   "metadata": {},
   "source": [
    "## Part 1: Importing the math Library\n",
    "\n",
    "To use the `math` library, you need to import it first. You can do this using the `import` statement:\n",
    "\n",
    "\n",
    "**import math**\n",
    "\n",
    "Common Mathematical Functions\n",
    "1. Square Root\n",
    "\n",
    "You can use math.sqrt() to calculate the square root of a number.\n"
   ]
  },
  {
   "cell_type": "code",
   "execution_count": 4,
   "id": "d62b74d0-6545-41c7-9579-8b8a65972907",
   "metadata": {},
   "outputs": [
    {
     "name": "stdout",
     "output_type": "stream",
     "text": [
      "5.477225575051661\n"
     ]
    }
   ],
   "source": [
    "import math\n",
    "\n",
    "number = 25\n",
    "square_root = math.sqrt(30)\n",
    "print(square_root)"
   ]
  },
  {
   "cell_type": "markdown",
   "id": "8139a0a7-5731-441a-9dc7-86098c67ddb5",
   "metadata": {},
   "source": [
    "2. Trigonometric Functions\n",
    "\n",
    "The math library provides trigonometric functions like sin(), cos(), and tan()."
   ]
  },
  {
   "cell_type": "code",
   "execution_count": 12,
   "id": "056e06a8-04fa-4cff-87b7-e998559cd0f6",
   "metadata": {},
   "outputs": [],
   "source": [
    "import math\n",
    "\n",
    "angle = 45  \n",
    "\n",
    "sine_value = math.sin(angle)\n",
    "cosine_value = math.cos(angle)\n",
    "tangent_value = math.tan(angle)"
   ]
  },
  {
   "cell_type": "code",
   "execution_count": 13,
   "id": "184891be-1be2-421c-b3a2-58a955373c04",
   "metadata": {},
   "outputs": [
    {
     "name": "stdout",
     "output_type": "stream",
     "text": [
      "0.8509035245341184\n"
     ]
    }
   ],
   "source": [
    "print(sine_value)"
   ]
  },
  {
   "cell_type": "code",
   "execution_count": 14,
   "id": "6a2794c8-e629-4938-afdf-0451202fc6b9",
   "metadata": {},
   "outputs": [
    {
     "name": "stdout",
     "output_type": "stream",
     "text": [
      "0.5253219888177297\n"
     ]
    }
   ],
   "source": [
    "print(cosine_value)"
   ]
  },
  {
   "cell_type": "code",
   "execution_count": 11,
   "id": "81a333ed-dd28-4efe-87b7-cf5b3d626c6c",
   "metadata": {},
   "outputs": [
    {
     "name": "stdout",
     "output_type": "stream",
     "text": [
      "0.9999999999999999\n"
     ]
    }
   ],
   "source": [
    "print(tangent_value)"
   ]
  },
  {
   "cell_type": "markdown",
   "id": "deebc6e3-8dd2-4402-8e6a-f0bdb7719125",
   "metadata": {},
   "source": [
    "3. Exponential and Logarithmic Functions\n",
    "\n",
    "Use math.exp() for exponentiation and math.log() for natural logarithms."
   ]
  },
  {
   "cell_type": "code",
   "execution_count": 7,
   "id": "ce562f4b-6bba-40b6-98cf-4bcfe79ea103",
   "metadata": {},
   "outputs": [
    {
     "name": "stdout",
     "output_type": "stream",
     "text": [
      "7.38905609893065\n",
      "2.718281828459045\n",
      "0.6931471805599453\n"
     ]
    }
   ],
   "source": [
    "import math\n",
    "\n",
    "x = 2\n",
    "exponential_value = math.exp(x)\n",
    "\n",
    "e_value = math.e\n",
    "\n",
    "natural_log_value = math.log(x)\n",
    "\n",
    "print(exponential_value)\n",
    "print(e_value)\n",
    "print(natural_log_value)"
   ]
  },
  {
   "cell_type": "markdown",
   "id": "abdef7df-548c-4901-8510-87615af060e5",
   "metadata": {},
   "source": [
    "4. Power and Absolute Value\n",
    "\n",
    "math.pow() is used to raise a number to a specified power, and math.fabs() returns the absolute value of a number.\n"
   ]
  },
  {
   "cell_type": "code",
   "execution_count": 2,
   "id": "d030b8d9-8d5b-43d9-adbf-5e0eca13a808",
   "metadata": {},
   "outputs": [
    {
     "name": "stdout",
     "output_type": "stream",
     "text": [
      "8.0\n",
      "5.0\n"
     ]
    }
   ],
   "source": [
    "import math\n",
    "\n",
    "base = 2\n",
    "exponent = 3\n",
    "\n",
    "result = math.pow(base, exponent) \n",
    "\n",
    "absolute_value = math.fabs(-5)\n",
    "\n",
    "print(result)\n",
    "print(absolute_value)"
   ]
  },
  {
   "cell_type": "markdown",
   "id": "ddbfa96f-7c2f-43b6-a1f5-7c5b89b65d67",
   "metadata": {},
   "source": [
    "5. Rounding and Ceiling/Floor Functions\n",
    "\n",
    "You can round a number using round(), obtain the floor value using math.floor(), and the ceiling value using math.ceil().\n"
   ]
  },
  {
   "cell_type": "code",
   "execution_count": 8,
   "id": "e087cbb8-671a-4574-92ae-86fb8a66c00d",
   "metadata": {},
   "outputs": [
    {
     "name": "stdout",
     "output_type": "stream",
     "text": [
      "4\n",
      "3\n",
      "4\n"
     ]
    }
   ],
   "source": [
    "number = 3.5\n",
    "\n",
    "rounded_number = round(number)\n",
    "\n",
    "floor_value = math.floor(number)\n",
    "\n",
    "ceiling_value = math.ceil(number)\n",
    "\n",
    "print(rounded_number)\n",
    "print(floor_value)\n",
    "print(ceiling_value)"
   ]
  },
  {
   "cell_type": "markdown",
   "id": "495f4d96-b576-46aa-9b1b-badfbf927a70",
   "metadata": {},
   "source": [
    "6. Constants\n",
    "\n",
    "The math library provides important mathematical constants like pi and e.\n",
    "\n",
    "import math\n"
   ]
  },
  {
   "cell_type": "code",
   "execution_count": 4,
   "id": "8ee32591-2b31-492d-aa11-b12e9c308232",
   "metadata": {},
   "outputs": [
    {
     "name": "stdout",
     "output_type": "stream",
     "text": [
      "3.141592653589793\n",
      "2.718281828459045\n"
     ]
    }
   ],
   "source": [
    "pi_value = math.pi\n",
    "\n",
    "\n",
    "print(pi_value)\n",
    "print(e_value)"
   ]
  },
  {
   "cell_type": "markdown",
   "id": "2a36c0da-1d1f-419a-96cb-7b8f5f3e9cc3",
   "metadata": {},
   "source": [
    "Part 3: Using the math Library in Calculations\n",
    "\n",
    "Let's put the math library to practical use in mathematical calculations:\n"
   ]
  },
  {
   "cell_type": "code",
   "execution_count": 5,
   "id": "bd6a021a-3222-4a92-b29c-5b1225784d92",
   "metadata": {},
   "outputs": [
    {
     "name": "stdout",
     "output_type": "stream",
     "text": [
      "78.53981633974483\n"
     ]
    }
   ],
   "source": [
    "# Calculate the area of a circle\n",
    "radius = 5\n",
    "circle_area = math.pi * math.pow(radius, 2)\n",
    "print(circle_area)"
   ]
  },
  {
   "cell_type": "code",
   "execution_count": 6,
   "id": "78d1f65d-9ae6-4a13-b3f7-b677a7f53574",
   "metadata": {},
   "outputs": [
    {
     "name": "stdout",
     "output_type": "stream",
     "text": [
      "120\n"
     ]
    }
   ],
   "source": [
    "# Calculate the factorial of a number\n",
    "n = 5\n",
    "factorial = math.factorial(n)\n",
    "print(factorial)"
   ]
  },
  {
   "cell_type": "markdown",
   "id": "f0578ef0-d1cc-489d-ae73-3ec18fa68172",
   "metadata": {},
   "source": [
    " math.isqrt(n)\n",
    "\n",
    "    Return the integer square root of the nonnegative integer n. This is the floor of the exact square root of n, or equivalently the greatest integer a such that a² ≤ n."
   ]
  },
  {
   "cell_type": "code",
   "execution_count": null,
   "id": "70c0ae0e-d9f9-4cb6-a7b5-707b75a6a156",
   "metadata": {},
   "outputs": [],
   "source": []
  }
 ],
 "metadata": {
  "kernelspec": {
   "display_name": "Python 3 (ipykernel)",
   "language": "python",
   "name": "python3"
  },
  "language_info": {
   "codemirror_mode": {
    "name": "ipython",
    "version": 3
   },
   "file_extension": ".py",
   "mimetype": "text/x-python",
   "name": "python",
   "nbconvert_exporter": "python",
   "pygments_lexer": "ipython3",
   "version": "3.8.10"
  }
 },
 "nbformat": 4,
 "nbformat_minor": 5
}
