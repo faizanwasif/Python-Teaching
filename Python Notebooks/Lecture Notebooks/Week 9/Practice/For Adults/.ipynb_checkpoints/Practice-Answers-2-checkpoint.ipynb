{
 "cells": [
  {
   "cell_type": "code",
   "execution_count": 1,
   "id": "19c56e08-da38-4b42-8e45-869c804d1dc8",
   "metadata": {},
   "outputs": [
    {
     "name": "stdout",
     "output_type": "stream",
     "text": [
      "20\n"
     ]
    }
   ],
   "source": [
    "# Question 1\n",
    "def sum_of_even_numbers(n):\n",
    "    result = 0\n",
    "    for i in range(2, n + 1, 2):\n",
    "        result += i\n",
    "    print(result)\n",
    "\n",
    "# Example usage\n",
    "sum_of_even_numbers(8)\n"
   ]
  },
  {
   "cell_type": "code",
   "execution_count": 2,
   "id": "dacee49f-e116-4fd1-820b-221225a332b8",
   "metadata": {},
   "outputs": [
    {
     "name": "stdout",
     "output_type": "stream",
     "text": [
      "5 x 1 = 5\n",
      "5 x 2 = 10\n",
      "5 x 3 = 15\n",
      "5 x 4 = 20\n",
      "5 x 5 = 25\n",
      "5 x 6 = 30\n",
      "5 x 7 = 35\n",
      "5 x 8 = 40\n",
      "5 x 9 = 45\n",
      "5 x 10 = 50\n"
     ]
    }
   ],
   "source": [
    "# Question 2\n",
    "def multiplication_table(n):\n",
    "    for i in range(1, 11):\n",
    "        print(f\"{n} x {i} = {n * i}\")\n",
    "\n",
    "# Example usage\n",
    "multiplication_table(5)\n"
   ]
  },
  {
   "cell_type": "code",
   "execution_count": 3,
   "id": "23db864f-b54b-4977-9cf2-2daa35cf0a94",
   "metadata": {},
   "outputs": [
    {
     "name": "stdout",
     "output_type": "stream",
     "text": [
      "24\n"
     ]
    }
   ],
   "source": [
    "# Question 3\n",
    "def factorial_with_while(n):\n",
    "    result = 1\n",
    "    while n > 0:\n",
    "        result *= n\n",
    "        n -= 1\n",
    "    print(result)\n",
    "\n",
    "# Example usage\n",
    "factorial_with_while(4)\n"
   ]
  },
  {
   "cell_type": "code",
   "execution_count": 1,
   "id": "bd86fb8d-87f5-4f99-a74e-a391a97402dd",
   "metadata": {},
   "outputs": [
    {
     "name": "stdout",
     "output_type": "stream",
     "text": [
      "Sum of even numbers up to 8 is: 20\n"
     ]
    }
   ],
   "source": [
    "# Q1) Using Recursion\n",
    "\n",
    "def sum_even_recursive(n):\n",
    "    if n <= 0:\n",
    "        return 0\n",
    "    elif n % 2 == 0:\n",
    "        return n + sum_even_recursive(n - 2)\n",
    "    else:\n",
    "        return sum_even_recursive(n - 1)\n",
    "\n",
    "# Example usage:\n",
    "num = 8\n",
    "result = sum_even_recursive(num)\n",
    "print(\"Sum of even numbers up to\", num, \"is:\", result)\n"
   ]
  },
  {
   "cell_type": "code",
   "execution_count": 3,
   "id": "3f3f55ed-0bba-49c9-8448-e4f5d7a51fcc",
   "metadata": {},
   "outputs": [
    {
     "name": "stdout",
     "output_type": "stream",
     "text": [
      "Multiplication table for 5 is:\n",
      "5 x 1 = 5\n",
      "5 x 2 = 10\n",
      "5 x 3 = 15\n",
      "5 x 4 = 20\n",
      "5 x 5 = 25\n",
      "5 x 6 = 30\n",
      "5 x 7 = 35\n",
      "5 x 8 = 40\n",
      "5 x 9 = 45\n",
      "5 x 10 = 50\n"
     ]
    }
   ],
   "source": [
    "# Q2) Using Recursion\n",
    "\n",
    "def print_multiplication_table(n, times=1):\n",
    "    if times > 10:\n",
    "        return\n",
    "    print(f\"{n} x {times} = {n * times}\")\n",
    "    print_multiplication_table(n, times + 1)\n",
    "\n",
    "# Example usage:\n",
    "number = 5\n",
    "print(\"Multiplication table for\", number, \"is:\")\n",
    "print_multiplication_table(number)\n"
   ]
  },
  {
   "cell_type": "code",
   "execution_count": null,
   "id": "fb3e9463-fa4c-40ae-bdc1-3f86053a8a08",
   "metadata": {},
   "outputs": [],
   "source": []
  }
 ],
 "metadata": {
  "kernelspec": {
   "display_name": "Python 3 (ipykernel)",
   "language": "python",
   "name": "python3"
  },
  "language_info": {
   "codemirror_mode": {
    "name": "ipython",
    "version": 3
   },
   "file_extension": ".py",
   "mimetype": "text/x-python",
   "name": "python",
   "nbconvert_exporter": "python",
   "pygments_lexer": "ipython3",
   "version": "3.8.10"
  }
 },
 "nbformat": 4,
 "nbformat_minor": 5
}
