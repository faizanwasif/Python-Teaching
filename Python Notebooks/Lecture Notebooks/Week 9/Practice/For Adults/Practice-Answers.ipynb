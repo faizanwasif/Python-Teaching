{
 "cells": [
  {
   "cell_type": "code",
   "execution_count": 1,
   "id": "d0b86160-3fb1-4d6b-a81d-f607957e34f7",
   "metadata": {},
   "outputs": [
    {
     "name": "stdout",
     "output_type": "stream",
     "text": [
      "10\n",
      "15\n"
     ]
    }
   ],
   "source": [
    "# Question 1\n",
    "def math_operation(a, b):\n",
    "    if a % 2 == 0 and b % 2 == 0:\n",
    "        print(a + b)\n",
    "    else:\n",
    "        print(a * b)\n",
    "\n",
    "# Example usage\n",
    "math_operation(4, 6)\n",
    "math_operation(3, 5)\n"
   ]
  },
  {
   "cell_type": "code",
   "execution_count": null,
   "id": "79d90e85-4120-4a07-b427-e43783d94dde",
   "metadata": {},
   "outputs": [],
   "source": []
  },
  {
   "cell_type": "code",
   "execution_count": 2,
   "id": "ae85c3ea-395b-4616-a8aa-46ac768d2977",
   "metadata": {},
   "outputs": [
    {
     "name": "stdout",
     "output_type": "stream",
     "text": [
      "24\n"
     ]
    }
   ],
   "source": [
    "# Question 2\n",
    "def calculate_rectangle_area(length, width):\n",
    "    if length == width:\n",
    "        print(\"It's a square, not a rectangle!\")\n",
    "    else:\n",
    "        area = length * width\n",
    "        print(area)\n",
    "\n",
    "# Example usage\n",
    "calculate_rectangle_area(4, 6)\n"
   ]
  },
  {
   "cell_type": "code",
   "execution_count": 3,
   "id": "a34c4ef1-4102-47d6-a02f-feea49f86010",
   "metadata": {},
   "outputs": [
    {
     "name": "stdout",
     "output_type": "stream",
     "text": [
      "Positive, Even\n",
      "Negative, Odd\n",
      "Zero\n"
     ]
    }
   ],
   "source": [
    "# Question 3\n",
    "def classify_number(number):\n",
    "    if number > 0:\n",
    "        print(\"Positive\", end=\", \")\n",
    "        if number % 2 == 0:\n",
    "            print(\"Even\")\n",
    "        else:\n",
    "            print(\"Odd\")\n",
    "    elif number < 0:\n",
    "        print(\"Negative, Odd\")\n",
    "    else:\n",
    "        print(\"Zero\")\n",
    "\n",
    "# Example usage\n",
    "classify_number(8)\n",
    "classify_number(-3)\n",
    "classify_number(0)\n"
   ]
  },
  {
   "cell_type": "code",
   "execution_count": 4,
   "id": "3ae4a6df-1739-4a21-aa78-7933d72494f9",
   "metadata": {},
   "outputs": [
    {
     "name": "stdout",
     "output_type": "stream",
     "text": [
      "120\n",
      "Error! Please enter a positive integer.\n"
     ]
    }
   ],
   "source": [
    "# Question 4\n",
    "def factorial(n):\n",
    "    if n < 0:\n",
    "        print(\"Error! Please enter a positive integer.\")\n",
    "    else:\n",
    "        result = 1\n",
    "        for i in range(1, n + 1):\n",
    "            result *= i\n",
    "        print(result)\n",
    "\n",
    "# Example usage\n",
    "factorial(5)\n",
    "factorial(-2)\n"
   ]
  },
  {
   "cell_type": "code",
   "execution_count": 5,
   "id": "e55479d1-7927-4a0d-a4d1-6b45fcbae681",
   "metadata": {},
   "outputs": [
    {
     "name": "stdout",
     "output_type": "stream",
     "text": [
      "Leap Year\n",
      "Not a Leap Year\n"
     ]
    }
   ],
   "source": [
    "# Question 5\n",
    "def is_leap_year(year):\n",
    "    if (year % 4 == 0 and year % 100 != 0) or (year % 400 == 0):\n",
    "        print(\"Leap Year\")\n",
    "    else:\n",
    "        print(\"Not a Leap Year\")\n",
    "\n",
    "# Example usage\n",
    "is_leap_year(2020)\n",
    "is_leap_year(1900)\n"
   ]
  },
  {
   "cell_type": "code",
   "execution_count": null,
   "id": "7df37bca-05fe-46c9-b954-2f64d9fe9fff",
   "metadata": {},
   "outputs": [],
   "source": []
  }
 ],
 "metadata": {
  "kernelspec": {
   "display_name": "Python 3 (ipykernel)",
   "language": "python",
   "name": "python3"
  },
  "language_info": {
   "codemirror_mode": {
    "name": "ipython",
    "version": 3
   },
   "file_extension": ".py",
   "mimetype": "text/x-python",
   "name": "python",
   "nbconvert_exporter": "python",
   "pygments_lexer": "ipython3",
   "version": "3.8.10"
  }
 },
 "nbformat": 4,
 "nbformat_minor": 5
}
