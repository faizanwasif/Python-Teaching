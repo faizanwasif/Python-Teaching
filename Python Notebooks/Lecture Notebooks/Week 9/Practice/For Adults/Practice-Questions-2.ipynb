{
 "cells": [
  {
   "cell_type": "markdown",
   "id": "6cf57546-98e1-4a9c-8ca1-f904665b020e",
   "metadata": {},
   "source": [
    "Question 1:\n",
    "\n",
    "Write a program to calculate the sum of all even numbers between 1 and a given positive integer n. Use a for loop.\n",
    "\n",
    "Example:\n",
    "\n",
    "Input: 8\n",
    "\n",
    "Output: 20  # (2 + 4 + 6 + 8)\n",
    "\n",
    "Question 2:\n",
    "\n",
    "Create a program that prints the multiplication table for a given positive integer n. Use a for loop to iterate from 1 to 10.\n",
    "\n",
    "Example:\n",
    "\n",
    "Input: 5\n",
    "\n",
    "Output:\n",
    "\n",
    "5 x 1 = 5\n",
    "\n",
    "5 x 2 = 10\n",
    "\n",
    "    .\n",
    "    .\n",
    "    .\n",
    "    \n",
    "5 x 10 = 50\n",
    "\n",
    "\n",
    "Question 3:\n",
    "\n",
    "Create a program that calculates the average of a list of numbers. Prompt the user to enter the number of elements in the list and then the elements themselves.\n",
    "\n",
    "Example:\n",
    "\n",
    "Input:\n",
    "\n",
    "Number of elements: 5\n",
    "\n",
    "Enter element 1: 10\n",
    "\n",
    "Enter element 2: 15\n",
    "\n",
    "Enter element 3: 20\n",
    "\n",
    "Enter element 4: 25\n",
    "\n",
    "Enter element 5: 30\n",
    "\n",
    "Output: 20.0\n"
   ]
  },
  {
   "cell_type": "markdown",
   "id": "0404c5f3-6cb1-41cd-896d-61a5ffe112b3",
   "metadata": {},
   "source": [
    "**Now Implement the first two questions using Recursion**"
   ]
  },
  {
   "cell_type": "code",
   "execution_count": null,
   "id": "08b6f01c-6327-4f95-8871-2efcbb43804b",
   "metadata": {},
   "outputs": [],
   "source": []
  }
 ],
 "metadata": {
  "kernelspec": {
   "display_name": "Python 3 (ipykernel)",
   "language": "python",
   "name": "python3"
  },
  "language_info": {
   "codemirror_mode": {
    "name": "ipython",
    "version": 3
   },
   "file_extension": ".py",
   "mimetype": "text/x-python",
   "name": "python",
   "nbconvert_exporter": "python",
   "pygments_lexer": "ipython3",
   "version": "3.8.10"
  }
 },
 "nbformat": 4,
 "nbformat_minor": 5
}
