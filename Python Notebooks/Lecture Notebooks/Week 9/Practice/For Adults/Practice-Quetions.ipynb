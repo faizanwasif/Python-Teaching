{
 "cells": [
  {
   "cell_type": "markdown",
   "id": "6aeae203-2ff3-4834-b9b6-adcd18727f5b",
   "metadata": {},
   "source": [
    "Question 1:\n",
    "\n",
    "Write a program that takes two integers as input and prints their sum if they are both even. If at least one of them is odd, print their product.\n",
    "\n",
    "Example:\n",
    "\n",
    "Input: 4, 6\n",
    "\n",
    "Output: 10\n",
    "\n",
    "Input: 3, 5\n",
    "\n",
    "Output: 15\n",
    "\n",
    "Question 2:\n",
    "\n",
    "Create a program that calculates the area of a rectangle. Prompt the user for the length and width. If the length is equal to the width, print \"It's a square, not a rectangle!\" Otherwise, print the area.\n",
    "\n",
    "Example:\n",
    "\n",
    "Input:\n",
    "\n",
    "Length: 4\n",
    "\n",
    "Width: 6\n",
    "\n",
    "Output: 24\n",
    "\n",
    "Question 3:\n",
    "\n",
    "Write a program to determine whether a given number is positive, negative, or zero. Additionally, if the number is not zero, check if it is even or odd.\n",
    "\n",
    "Example:\n",
    "\n",
    "Input: 8\n",
    "\n",
    "Output: Positive, Even\n",
    "\n",
    "Input: -3\n",
    "\n",
    "Output: Negative, Odd\n",
    "\n",
    "Input: 0\n",
    "\n",
    "Output: Zero\n",
    "\n",
    "Question 4:\n",
    "\n",
    "Write a program to check if a given year is a leap year. If it is a leap year, print \"Leap Year\"; otherwise, print \"Not a Leap Year.\" A leap year is divisible by 4, but not divisible by 100 unless it is divisible by 400.\n",
    "\n",
    "Example:\n",
    "\n",
    "Input: 2020\n",
    "\n",
    "Output: Leap Year\n",
    "\n",
    "Input: 1900\n",
    "\n",
    "Output: Not a Leap Year\n"
   ]
  },
  {
   "cell_type": "code",
   "execution_count": null,
   "id": "30a059e3-e535-41a4-8fa5-167fa33ef571",
   "metadata": {},
   "outputs": [],
   "source": []
  }
 ],
 "metadata": {
  "kernelspec": {
   "display_name": "Python 3 (ipykernel)",
   "language": "python",
   "name": "python3"
  },
  "language_info": {
   "codemirror_mode": {
    "name": "ipython",
    "version": 3
   },
   "file_extension": ".py",
   "mimetype": "text/x-python",
   "name": "python",
   "nbconvert_exporter": "python",
   "pygments_lexer": "ipython3",
   "version": "3.8.10"
  }
 },
 "nbformat": 4,
 "nbformat_minor": 5
}
