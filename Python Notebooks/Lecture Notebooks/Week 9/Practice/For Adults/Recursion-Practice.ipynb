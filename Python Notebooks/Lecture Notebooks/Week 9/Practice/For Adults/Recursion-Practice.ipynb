{
 "cells": [
  {
   "cell_type": "markdown",
   "id": "daef0f2c-48ab-47b8-bbee-b934f48c08a6",
   "metadata": {},
   "source": [
    "Question 1:Write a recursive function to print numbers from 1 to n.\n",
    "\n",
    "Question 2: Write a recursive function to calculate the sum of numbers from 1 to n.\n",
    "\n",
    "\n",
    "Question 3: Write a recursive function to calculate the factorial of a given non-negative integer n.\n",
    "\n",
    "Question 4: Write a recursive function to reverse a string."
   ]
  },
  {
   "cell_type": "code",
   "execution_count": 7,
   "id": "234364d2-0ea7-41d1-9592-ec00b106a376",
   "metadata": {},
   "outputs": [
    {
     "name": "stdout",
     "output_type": "stream",
     "text": [
      "1\n",
      "2\n",
      "3\n",
      "4\n",
      "5\n",
      "6\n",
      "7\n",
      "8\n"
     ]
    }
   ],
   "source": [
    "# Question 1:Write a recursive function to print numbers from 1 to n.\n",
    "\n",
    "def print_numbers(n):\n",
    "    if n > 0:\n",
    "        print_numbers(n - 1)\n",
    "        print(n)\n",
    "\n",
    "# Example usage:\n",
    "print_numbers(8)"
   ]
  },
  {
   "cell_type": "code",
   "execution_count": 1,
   "id": "0fcd4ed9-9a26-4f02-971f-6f90506623d0",
   "metadata": {},
   "outputs": [
    {
     "name": "stdout",
     "output_type": "stream",
     "text": [
      "Sum: 10\n"
     ]
    }
   ],
   "source": [
    "# Question 2: Write a recursive function to calculate the sum of numbers from 1 to n.\n",
    "\n",
    "def sum_numbers(n):\n",
    "    if n == 1:\n",
    "        return 1\n",
    "    else:\n",
    "        return n + sum_numbers(n - 1)\n",
    "\n",
    "# Example usage:\n",
    "result = sum_numbers(4)\n",
    "print(\"Sum:\", result)"
   ]
  },
  {
   "cell_type": "code",
   "execution_count": 3,
   "id": "f5d0f1d3-2a0c-48a7-84ba-c9ffc7fa2865",
   "metadata": {},
   "outputs": [
    {
     "name": "stdout",
     "output_type": "stream",
     "text": [
      "Factorial: 120\n"
     ]
    }
   ],
   "source": [
    "# Question 3: Write a recursive function to calculate the factorial of a given non-negative integer n.\n",
    "def factorial(n):\n",
    "    if n == 0 or n == 1:\n",
    "        return 1\n",
    "    else:\n",
    "        return n * factorial(n - 1)\n",
    "\n",
    "# Example usage:\n",
    "result = factorial(5)\n",
    "print(\"Factorial:\", result)"
   ]
  },
  {
   "cell_type": "code",
   "execution_count": null,
   "id": "68ad73ca-dfa5-45e8-970b-2d49220e55a3",
   "metadata": {},
   "outputs": [],
   "source": []
  },
  {
   "cell_type": "code",
   "execution_count": 4,
   "id": "561e24fa-ce23-400d-a1c7-65ef37055d67",
   "metadata": {},
   "outputs": [
    {
     "name": "stdout",
     "output_type": "stream",
     "text": [
      "Reversed String: olleh\n"
     ]
    }
   ],
   "source": [
    "# Question 4: Write a recursive function to reverse a string.\n",
    "\n",
    "def reverse_string(s):\n",
    "    if len(s) == 0:\n",
    "        return s\n",
    "        \n",
    "    else:\n",
    "        return reverse_string(s[1:]) + s[0]\n",
    "\n",
    "# Example usage:\n",
    "result = reverse_string(\"hello\")\n",
    "print(\"Reversed String:\", result)"
   ]
  },
  {
   "cell_type": "code",
   "execution_count": null,
   "id": "83c57d6a-0a8d-4c1d-b2ab-3582ff9b2f2a",
   "metadata": {},
   "outputs": [],
   "source": []
  },
  {
   "cell_type": "code",
   "execution_count": 13,
   "id": "ad199b75-6cf2-4aa8-88cc-185b38392fdf",
   "metadata": {},
   "outputs": [
    {
     "name": "stdout",
     "output_type": "stream",
     "text": [
      "olleh\n"
     ]
    }
   ],
   "source": [
    "x = \"hello\"\n",
    "print(x[::-1])"
   ]
  },
  {
   "cell_type": "code",
   "execution_count": null,
   "id": "4c67e9ff-fd8a-4a86-bff0-696550719f3a",
   "metadata": {},
   "outputs": [],
   "source": [
    "# Khalid's Code"
   ]
  },
  {
   "cell_type": "code",
   "execution_count": 11,
   "id": "35d1aa6a-753e-4322-81d2-0c25b6b136b9",
   "metadata": {},
   "outputs": [
    {
     "name": "stdout",
     "output_type": "stream",
     "text": [
      "0\n",
      "1\n",
      "2\n",
      "3\n",
      "4\n",
      "5\n"
     ]
    }
   ],
   "source": [
    "def num(n):\n",
    "    \n",
    "    if n != 0:\n",
    "        num(n-1) \n",
    "    print(n)\n",
    "\n",
    "num(5)"
   ]
  },
  {
   "cell_type": "code",
   "execution_count": 10,
   "id": "214eede8-9bd6-4090-bc91-666c053ca307",
   "metadata": {},
   "outputs": [
    {
     "name": "stdout",
     "output_type": "stream",
     "text": [
      "5\n",
      "4\n",
      "3\n",
      "2\n",
      "1\n",
      "0\n"
     ]
    },
    {
     "data": {
      "text/plain": [
       "0"
      ]
     },
     "execution_count": 10,
     "metadata": {},
     "output_type": "execute_result"
    }
   ],
   "source": [
    "def num(n):\n",
    "    print(n)\n",
    "    if n == 0:\n",
    "        return 0\n",
    "    return num(n-1)\n",
    "\n",
    "num(5)"
   ]
  },
  {
   "cell_type": "code",
   "execution_count": null,
   "id": "cdffa1a3-be90-42f6-b5be-d82ae21f41fb",
   "metadata": {},
   "outputs": [],
   "source": []
  }
 ],
 "metadata": {
  "kernelspec": {
   "display_name": "Python 3 (ipykernel)",
   "language": "python",
   "name": "python3"
  },
  "language_info": {
   "codemirror_mode": {
    "name": "ipython",
    "version": 3
   },
   "file_extension": ".py",
   "mimetype": "text/x-python",
   "name": "python",
   "nbconvert_exporter": "python",
   "pygments_lexer": "ipython3",
   "version": "3.8.10"
  }
 },
 "nbformat": 4,
 "nbformat_minor": 5
}
