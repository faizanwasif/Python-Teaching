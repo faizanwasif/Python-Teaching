{
 "cells": [
  {
   "cell_type": "markdown",
   "id": "33a1000f-68df-40f2-a9c7-2a5e15bc51e3",
   "metadata": {},
   "source": [
    "Q1) Write a function that takes two integers as arguments and returns their sum."
   ]
  },
  {
   "cell_type": "markdown",
   "id": "4198e2d1-1ec4-4997-b890-edc9ff17e269",
   "metadata": {},
   "source": [
    "Q2) Write a function that multipies three numbers together, and return their result."
   ]
  },
  {
   "cell_type": "markdown",
   "id": "235daaaf-8dbd-4aca-81be-70941de8531f",
   "metadata": {},
   "source": [
    "Q3) Write a function that divides two numbers."
   ]
  },
  {
   "cell_type": "markdown",
   "id": "e4d0e135-52fc-4fd1-acce-bf08a78a483e",
   "metadata": {},
   "source": [
    "Q4) Write another function which takes the division function as an argument and adds it with another number."
   ]
  },
  {
   "cell_type": "code",
   "execution_count": 10,
   "id": "d007dbf9-8c98-46ad-bcda-7f7c0c9b9146",
   "metadata": {},
   "outputs": [
    {
     "data": {
      "text/plain": [
       "3"
      ]
     },
     "execution_count": 10,
     "metadata": {},
     "output_type": "execute_result"
    }
   ],
   "source": [
    "# syntax for function\n",
    "def foo(x):\n",
    "    return x\n",
    "\n",
    "# calling function\n",
    "foo(3)"
   ]
  },
  {
   "cell_type": "code",
   "execution_count": 9,
   "id": "c080b130-b486-4ec4-b489-4914f54ba4bc",
   "metadata": {},
   "outputs": [
    {
     "name": "stdout",
     "output_type": "stream",
     "text": [
      "5\n"
     ]
    }
   ],
   "source": [
    "# Q1) Write a function that takes two integers as arguments and returns their sum.\n",
    "def add_two_numbers(a, b):\n",
    "    result = a + b\n",
    "    return result\n",
    "    \n",
    "add_two_numbers(2,3)"
   ]
  },
  {
   "cell_type": "code",
   "execution_count": 12,
   "id": "10350dba-8b6a-4a04-a308-41e288faa195",
   "metadata": {},
   "outputs": [
    {
     "data": {
      "text/plain": [
       "36"
      ]
     },
     "execution_count": 12,
     "metadata": {},
     "output_type": "execute_result"
    }
   ],
   "source": [
    "# Q2) Write a function that multiplies three numbers together and returns their result.\n",
    "def multiply_three_numbers(x, y, z):\n",
    "    return x * y * z\n",
    "\n",
    "multiply_three_numbers(3,4,3)"
   ]
  },
  {
   "cell_type": "code",
   "execution_count": 7,
   "id": "cd9f99bd-403c-47c0-a769-97b3f1372955",
   "metadata": {},
   "outputs": [],
   "source": [
    "# Q3) Write a function that divides two numbers.\n",
    "def div(x , y):\n",
    "    return x / y\n",
    "\n",
    "result = div(4,2)"
   ]
  },
  {
   "cell_type": "code",
   "execution_count": 8,
   "id": "5b0cd96e-ab27-41e2-8bf1-9ae02f4fa2ac",
   "metadata": {},
   "outputs": [
    {
     "data": {
      "text/plain": [
       "8.0"
      ]
     },
     "execution_count": 8,
     "metadata": {},
     "output_type": "execute_result"
    }
   ],
   "source": [
    "# Q4) Write another function which takes the division function as an argument and adds it with another number.\n",
    "def add_div(x, y):\n",
    "    return x + y\n",
    "\n",
    "add_div(result, 6)"
   ]
  },
  {
   "cell_type": "markdown",
   "id": "6c54112a-258d-49fc-bfb6-7f71494e2290",
   "metadata": {},
   "source": [
    "Q5) Write a function that substracts two numbers and then print their result.\n",
    "\n",
    "Q6) Write a function that substracts two numbers and then return their result.\n",
    "\n",
    "Q7) Write a function that multiplies two numbers and then print their sum with 10.\n",
    "\n",
    "Q8) Write a function that multiplies two numbers and then return their sum sum with 10.\n",
    "\n",
    "Q9) Write a function that takes your name as an argument and prints \"Hello\" with your name.\n",
    "\n",
    "Q10) Write a function that takes your name as an argument and then return your name."
   ]
  },
  {
   "cell_type": "code",
   "execution_count": 1,
   "id": "48351848-e660-422c-8fa4-9c139f4c86b3",
   "metadata": {},
   "outputs": [
    {
     "name": "stdout",
     "output_type": "stream",
     "text": [
      "1\n"
     ]
    }
   ],
   "source": [
    "# Q5) Write a function that substracts two numbers and then print their result.\n",
    "def sub(x,y):\n",
    "    result = x - y\n",
    "    print(result)\n",
    "\n",
    "sub(2, 1)"
   ]
  },
  {
   "cell_type": "code",
   "execution_count": 2,
   "id": "9652d886-618c-4f54-a5b9-9c59adb22cd3",
   "metadata": {},
   "outputs": [
    {
     "data": {
      "text/plain": [
       "1"
      ]
     },
     "execution_count": 2,
     "metadata": {},
     "output_type": "execute_result"
    }
   ],
   "source": [
    "# Q6) Write a function that substracts two numbers and then return their result.\n",
    "def sub(x,y):\n",
    "    result = x - y\n",
    "    return result\n",
    "\n",
    "sub(2, 1)"
   ]
  },
  {
   "cell_type": "code",
   "execution_count": 3,
   "id": "6991b82a-12b6-49e6-8bfc-d2f94012da91",
   "metadata": {},
   "outputs": [
    {
     "name": "stdout",
     "output_type": "stream",
     "text": [
      "16\n"
     ]
    }
   ],
   "source": [
    "# Q7) Write a function that multiplies two numbers and then print their sum with 10.\n",
    "\n",
    "def mul(x, y):\n",
    "    result_1 = x * y\n",
    "    result_2 = result_1 + 10\n",
    "    print(result_2)\n",
    "\n",
    "mul(2,3)"
   ]
  },
  {
   "cell_type": "code",
   "execution_count": 4,
   "id": "ee97140b-6eb9-407e-bc9f-83600502edd0",
   "metadata": {},
   "outputs": [
    {
     "data": {
      "text/plain": [
       "16"
      ]
     },
     "execution_count": 4,
     "metadata": {},
     "output_type": "execute_result"
    }
   ],
   "source": [
    "# Q8) Write a function that multiplies two numbers and then return their sum sum with 10.\n",
    "def mul(x, y):\n",
    "    result_1 = x * y\n",
    "    result_2 = result_1 + 10\n",
    "    return result_2\n",
    "\n",
    "mul(2,3)"
   ]
  },
  {
   "cell_type": "code",
   "execution_count": 7,
   "id": "ec498323-1fbf-41a3-98de-adb3b0dd68d3",
   "metadata": {},
   "outputs": [
    {
     "name": "stdout",
     "output_type": "stream",
     "text": [
      "Hello Ali\n"
     ]
    }
   ],
   "source": [
    "# Q9) Write a function that takes your name as an argument and prints \"Hello\" with your name.\n",
    "\n",
    "def greet(name):\n",
    "    message = \"Hello \" + name\n",
    "    print(message)\n",
    "\n",
    "greet(\"Ali\")"
   ]
  },
  {
   "cell_type": "code",
   "execution_count": 11,
   "id": "6d3fdfc0-1fe7-47b3-be1b-a6b6f764fd71",
   "metadata": {},
   "outputs": [
    {
     "data": {
      "text/plain": [
       "'Ali'"
      ]
     },
     "execution_count": 11,
     "metadata": {},
     "output_type": "execute_result"
    }
   ],
   "source": [
    "# Q10) Write a function that takes your name as an argument and then return your name.\n",
    "\n",
    "def greet(name):\n",
    "    return name\n",
    "\n",
    "greet(\"Ali\")"
   ]
  },
  {
   "cell_type": "markdown",
   "id": "2cc71855-9652-4281-afda-d4af1a61ae68",
   "metadata": {},
   "source": [
    "Q11) Create a function that prints the \"Hello, World!\" message.\n",
    "\n",
    "Q12) Make a function that calculates the square of a number and displays the result.\n",
    "\n",
    "Q13) Write a function that checks if a number is even and prints \"Even\" or \"Odd\" accordingly.\n",
    "\n",
    "Q14) Create a function that prints the times tables for a given number up to 10 (e.g., 5 times table: 5, 10, 15, ...)."
   ]
  },
  {
   "cell_type": "code",
   "execution_count": 9,
   "id": "59402c9a-71e3-492a-b26e-e9dfdcdde379",
   "metadata": {},
   "outputs": [
    {
     "name": "stdout",
     "output_type": "stream",
     "text": [
      "Hello, World!\n",
      "The square of 5 is: 25\n",
      "7 is Odd\n",
      "8 times 1 is: 8\n",
      "8 times 2 is: 16\n",
      "8 times 3 is: 24\n",
      "8 times 4 is: 32\n",
      "8 times 5 is: 40\n",
      "8 times 6 is: 48\n",
      "8 times 7 is: 56\n",
      "8 times 8 is: 64\n",
      "8 times 9 is: 72\n",
      "8 times 10 is: 80\n"
     ]
    }
   ],
   "source": [
    "# Q11) Create a function that prints the \"Hello, World!\" message.\n",
    "def print_hello():\n",
    "    print(\"Hello, World!\")\n",
    "\n",
    "print_hello()  # Q11\n",
    "\n",
    "\n",
    "# Q12) Make a function that calculates the square of a number and displays the result.\n",
    "def square(num):\n",
    "    result = num ** 2\n",
    "    print(f\"The square of {num} is: {result}\")\n",
    "\n",
    "square(5)      # Q12\n",
    "\n",
    "\n",
    "# Q13) Write a function that checks if a number is even and prints \"Even\" or \"Odd\" accordingly.\n",
    "def check_even_odd(num):\n",
    "    if num % 2 == 0:\n",
    "        print(f\"{num} is Even\")\n",
    "    else:\n",
    "        print(f\"{num} is Odd\")\n",
    "\n",
    "check_even_odd(7)  # Q13\n",
    "\n",
    "# Q14) Create a function that prints the times tables for a given number up to 10 (e.g., 5 times table: 5, 10, 15, ...)\n",
    "def print_times_table(num):\n",
    "    for i in range(1, 11):\n",
    "        result = num * i\n",
    "        print(f\"{num} times {i} is: {result}\")\n",
    "\n",
    "print_times_table(8)  # Q14"
   ]
  },
  {
   "cell_type": "code",
   "execution_count": null,
   "id": "afb749a7-116a-436a-918d-34dabc7454de",
   "metadata": {},
   "outputs": [],
   "source": []
  }
 ],
 "metadata": {
  "kernelspec": {
   "display_name": "Python 3 (ipykernel)",
   "language": "python",
   "name": "python3"
  },
  "language_info": {
   "codemirror_mode": {
    "name": "ipython",
    "version": 3
   },
   "file_extension": ".py",
   "mimetype": "text/x-python",
   "name": "python",
   "nbconvert_exporter": "python",
   "pygments_lexer": "ipython3",
   "version": "3.8.10"
  }
 },
 "nbformat": 4,
 "nbformat_minor": 5
}
