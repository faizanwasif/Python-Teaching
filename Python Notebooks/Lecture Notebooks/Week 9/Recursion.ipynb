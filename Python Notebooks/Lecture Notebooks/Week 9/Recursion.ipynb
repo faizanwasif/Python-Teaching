{
 "cells": [
  {
   "cell_type": "code",
   "execution_count": 4,
   "id": "3fcda578-a09e-4462-a643-b160b78211df",
   "metadata": {},
   "outputs": [
    {
     "name": "stdout",
     "output_type": "stream",
     "text": [
      "The factorial of 0 is 1\n",
      "The factorial of 1 is 1\n",
      "The factorial of 2 is 2\n",
      "The factorial of 3 is 6\n",
      "The factorial of 4 is 24\n",
      "The factorial of 5 is 120\n",
      "The factorial of 6 is 720\n",
      "The factorial of 7 is 5040\n",
      "The factorial of 8 is 40320\n",
      "The factorial of 9 is 362880\n"
     ]
    }
   ],
   "source": [
    "def factorial_with_loop(n):\n",
    "    \"\"\"\n",
    "    Calculate the factorial of a non-negative integer n using a loop.\n",
    "    \n",
    "    Parameters:\n",
    "    - n (int): Non-negative integer\n",
    "    \n",
    "    Returns:\n",
    "    - int: Factorial of n\n",
    "    \"\"\"\n",
    "    result = 1\n",
    "    \n",
    "    # Multiply result by numbers from 1 to n\n",
    "    for i in range(1, n + 1):\n",
    "        \n",
    "        result *= i\n",
    "        \"\"\"\n",
    "        4!\n",
    "        i = 1\n",
    "        r = 1 * 1 = 1\n",
    "        \n",
    "        i = 2\n",
    "        r = 1 * 2 = 2\n",
    "        \n",
    "        i = 3\n",
    "        r = 2 * 3 = 6\n",
    "        \n",
    "        i = 4\n",
    "        r = 6 * 4 = 24\n",
    "            \n",
    "        \"\"\"\n",
    "    \n",
    "    return result\n",
    "\n",
    "# Test the factorial_with_loop function\n",
    "for i in range(0, 10):\n",
    "    result = factorial_with_loop(i)\n",
    "    print(f\"The factorial of {i} is {result}\")"
   ]
  },
  {
   "cell_type": "markdown",
   "id": "5fa925c4-f44c-4509-b31a-ea456af3dfcb",
   "metadata": {},
   "source": [
    "# Title: Recursive Factorial Function\n",
    "\n",
    "## Introduction\n",
    "\n",
    "Recursion is a programming concept where a function calls itself in its definition. In this example, we'll implement the factorial function using recursion.\n",
    "\n",
    "## Recursive Factorial Function\n"
   ]
  },
  {
   "cell_type": "code",
   "execution_count": 1,
   "id": "052f4e30-96ff-4d2d-a036-249e1eb60333",
   "metadata": {},
   "outputs": [
    {
     "name": "stdout",
     "output_type": "stream",
     "text": [
      "The factorial of 0 is 1\n",
      "The factorial of 1 is 1\n",
      "The factorial of 2 is 2\n",
      "The factorial of 3 is 6\n",
      "The factorial of 4 is 24\n",
      "The factorial of 5 is 120\n"
     ]
    }
   ],
   "source": [
    "def factorial(n):\n",
    "    \"\"\"\n",
    "    Calculate the factorial of a non-negative integer n.\n",
    "    \n",
    "    Parameters:\n",
    "    - n (int): Non-negative integer\n",
    "    \n",
    "    Returns:\n",
    "    - int: Factorial of n\n",
    "    \"\"\"\n",
    "    # Base case: factorial of 0 is 1\n",
    "    if n == 0:\n",
    "        return 1\n",
    "    # Recursive case: n! = n * (n-1)!\n",
    "    else:\n",
    "        return n * factorial(n - 1)\n",
    "\n",
    "\"\"\"\n",
    "    n = 2\n",
    "    n = 2 * 1 = 2\n",
    "\"\"\"\n",
    "\n",
    "# Test the recursive factorial function\n",
    "for i in range(0, 6):\n",
    "    result = factorial(i)\n",
    "    print(f\"The factorial of {i} is {result}\")\n"
   ]
  },
  {
   "cell_type": "markdown",
   "id": "35169674-cc9c-4944-83f9-f254b4bc8542",
   "metadata": {},
   "source": [
    "## Fibonacci Sequence Using Recursion\n",
    "\n",
    "### Introduction\n",
    "\n",
    "In this example, we'll generate the Fibonacci sequence using recursion.\n",
    "\n",
    "## Fibonacci Sequence Using Recursion\n",
    "\n"
   ]
  },
  {
   "cell_type": "code",
   "execution_count": 3,
   "id": "48960085-c40c-406d-bac4-4d311a8d443b",
   "metadata": {},
   "outputs": [
    {
     "name": "stdout",
     "output_type": "stream",
     "text": [
      "Term 0: 0\n",
      "Term 1: 1\n",
      "Term 2: 1\n",
      "Term 3: 2\n",
      "Term 4: 3\n",
      "Term 5: 5\n",
      "Term 6: 8\n",
      "Term 7: 13\n",
      "Term 8: 21\n",
      "Term 9: 34\n"
     ]
    }
   ],
   "source": [
    "def fibonacci(n):\n",
    "    \"\"\"\n",
    "    Generate the Fibonacci sequence up to the nth term using recursion.\n",
    "    \n",
    "    Parameters:\n",
    "    - n (int): Non-negative integer\n",
    "    \n",
    "    Returns:\n",
    "    - int: nth term of the Fibonacci sequence\n",
    "    \"\"\"\n",
    "    # Base case: the first two terms in the Fibonacci sequence are 0 and 1\n",
    "    if n <= 1:\n",
    "        return n\n",
    "    # Recursive case: Fibonacci(n) = Fibonacci(n-1) + Fibonacci(n-2)\n",
    "    else:\n",
    "        return fibonacci(n - 1) + fibonacci(n - 2)\n",
    "\n",
    "# Generate and print the first 10 terms of the Fibonacci sequence\n",
    "for i in range(10):\n",
    "    result = fibonacci(i)\n",
    "    print(f\"Term {i}: {result}\")"
   ]
  },
  {
   "cell_type": "code",
   "execution_count": 1,
   "id": "8d22b21c-2c27-48f0-8465-918c428a3066",
   "metadata": {},
   "outputs": [
    {
     "name": "stdout",
     "output_type": "stream",
     "text": [
      "Term 0: 0\n",
      "Term 1: 1\n",
      "Term 2: 1\n",
      "Term 3: 2\n",
      "Term 4: 3\n",
      "Term 5: 5\n",
      "Term 6: 8\n",
      "Term 7: 13\n",
      "Term 8: 21\n",
      "Term 9: 34\n"
     ]
    }
   ],
   "source": [
    "def fibonacci(n):\n",
    "    if n <= 1:\n",
    "        return n\n",
    "    else:\n",
    "        return fibonacci(n - 1) + fibonacci(n - 2)\n",
    "\n",
    "for i in range(10):\n",
    "    result = fibonacci(i)\n",
    "    print(f\"Term {i}: {result}\")"
   ]
  },
  {
   "cell_type": "code",
   "execution_count": null,
   "id": "e9d2461f-6811-437e-8199-fde89e330468",
   "metadata": {},
   "outputs": [],
   "source": []
  }
 ],
 "metadata": {
  "kernelspec": {
   "display_name": "Python 3 (ipykernel)",
   "language": "python",
   "name": "python3"
  },
  "language_info": {
   "codemirror_mode": {
    "name": "ipython",
    "version": 3
   },
   "file_extension": ".py",
   "mimetype": "text/x-python",
   "name": "python",
   "nbconvert_exporter": "python",
   "pygments_lexer": "ipython3",
   "version": "3.8.10"
  }
 },
 "nbformat": 4,
 "nbformat_minor": 5
}
