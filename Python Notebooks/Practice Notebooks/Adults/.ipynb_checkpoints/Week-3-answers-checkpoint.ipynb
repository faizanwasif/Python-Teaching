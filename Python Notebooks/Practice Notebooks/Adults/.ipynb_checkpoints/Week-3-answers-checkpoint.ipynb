{
 "cells": [
  {
   "cell_type": "markdown",
   "id": "527e6bb3-4f5b-450c-9302-722b316e9190",
   "metadata": {},
   "source": [
    "# Input:\n",
    "\n",
    "    Write Python code to ask the user for their age and then print it.\n",
    "\n",
    "    Ask the user for their favorite color and store it in a variable. \n",
    "    Then, print a message using their favorite color.\n",
    "\n"
   ]
  },
  {
   "cell_type": "code",
   "execution_count": 2,
   "id": "164f1f71-f4f8-499f-9038-254d245c96b8",
   "metadata": {},
   "outputs": [
    {
     "name": "stdin",
     "output_type": "stream",
     "text": [
      "Please enter your age:  12\n"
     ]
    },
    {
     "name": "stdout",
     "output_type": "stream",
     "text": [
      "Your age is 12\n"
     ]
    }
   ],
   "source": [
    "age = input(\"Please enter your age: \")\n",
    "print(\"Your age is\", age)\n"
   ]
  },
  {
   "cell_type": "code",
   "execution_count": 3,
   "id": "eb230731-2c0d-4c9b-a335-af394016dca7",
   "metadata": {},
   "outputs": [
    {
     "name": "stdin",
     "output_type": "stream",
     "text": [
      "What is your favorite color?  red\n"
     ]
    },
    {
     "name": "stdout",
     "output_type": "stream",
     "text": [
      "Your favorite color is red\n"
     ]
    }
   ],
   "source": [
    "favorite_color = input(\"What is your favorite color? \")\n",
    "print(\"Your favorite color is\", favorite_color)\n"
   ]
  },
  {
   "cell_type": "markdown",
   "id": "e6d1b534-33ca-485b-ad61-90bd110bac9a",
   "metadata": {},
   "source": [
    "# Data Type Conversion:\n",
    "\n",
    "    Write a Python program that converts the user's \n",
    "    input (a number in string format) to an integer.\n",
    "\n",
    "    Create a Python program that converts a user's age \n",
    "    (as a number in string format) to an integer and then adds 5 to it.\n",
    "\n"
   ]
  },
  {
   "cell_type": "code",
   "execution_count": 5,
   "id": "538e8254-7545-4aca-a52a-f6a992182f8a",
   "metadata": {},
   "outputs": [
    {
     "name": "stdin",
     "output_type": "stream",
     "text": [
      "Enter your age as a number:  12\n"
     ]
    },
    {
     "name": "stdout",
     "output_type": "stream",
     "text": [
      "12\n"
     ]
    }
   ],
   "source": [
    "age_str = input(\"Enter your age as a number: \")\n",
    "age_int = int(age_str)\n",
    "\n",
    "print(age_int)"
   ]
  },
  {
   "cell_type": "code",
   "execution_count": 6,
   "id": "54b21750-42db-4a27-b235-43ed6ed40195",
   "metadata": {},
   "outputs": [
    {
     "name": "stdin",
     "output_type": "stream",
     "text": [
      "Enter your age as a number:  12\n"
     ]
    },
    {
     "name": "stdout",
     "output_type": "stream",
     "text": [
      "17\n"
     ]
    }
   ],
   "source": [
    "age_str = input(\"Enter your age as a number: \")\n",
    "age_int = int(age_str)\n",
    "new_age = age_int + 5\n",
    "\n",
    "print(new_age)"
   ]
  },
  {
   "cell_type": "markdown",
   "id": "dd8d5aa8-4d4a-4618-88a9-d379cd176d2d",
   "metadata": {},
   "source": [
    "# Error Handling:\n",
    "\n",
    "    Write Python code that asks the user to enter \n",
    "    their age but handles an error if they enter \n",
    "    their age as a word instead of a number.\n",
    "\n",
    "    Create a program that takes two numbers as input and divides them. \n",
    "    Handle any errors that may occur during division, such as dividing by zero.\n",
    "\n"
   ]
  },
  {
   "cell_type": "code",
   "execution_count": 7,
   "id": "e28dd170-f339-4261-b1d6-5f6ec7124f5e",
   "metadata": {},
   "outputs": [
    {
     "name": "stdin",
     "output_type": "stream",
     "text": [
      "Please enter your age:  as\n"
     ]
    },
    {
     "name": "stdout",
     "output_type": "stream",
     "text": [
      "Oops! That's not a valid age.\n"
     ]
    }
   ],
   "source": [
    "try:\n",
    "    age = int(input(\"Please enter your age: \"))\n",
    "except ValueError:\n",
    "    print(\"Oops! That's not a valid age.\")\n"
   ]
  },
  {
   "cell_type": "code",
   "execution_count": 8,
   "id": "fa106668-cc62-4bdd-8260-c8ea99e974b3",
   "metadata": {},
   "outputs": [
    {
     "name": "stdin",
     "output_type": "stream",
     "text": [
      "Enter the first number:  1\n",
      "Enter the second number:  0\n"
     ]
    },
    {
     "name": "stdout",
     "output_type": "stream",
     "text": [
      "Error: Division by zero is not allowed.\n"
     ]
    }
   ],
   "source": [
    "try:\n",
    "    num1 = int(input(\"Enter the first number: \"))\n",
    "    num2 = int(input(\"Enter the second number: \"))\n",
    "    result = num1 / num2\n",
    "except ZeroDivisionError:\n",
    "    print(\"Error: Division by zero is not allowed.\")\n"
   ]
  },
  {
   "cell_type": "markdown",
   "id": "d1df54ad-24a7-4bcc-a711-3b4971ef4565",
   "metadata": {},
   "source": [
    "# Conditional Statements:\n",
    "\n",
    "    Write a Python program that asks the user for \n",
    "    their age and tells them if they are a child, \n",
    "    a teenager, or an adult based on their age.\n",
    "\n",
    "    Create a program that checks if a number is positive, \n",
    "    negative, or zero, and then prints the result.\n",
    "\n"
   ]
  },
  {
   "cell_type": "code",
   "execution_count": 9,
   "id": "0511460d-4049-419a-8429-71f7ba55590a",
   "metadata": {},
   "outputs": [
    {
     "name": "stdin",
     "output_type": "stream",
     "text": [
      "Please enter your age:  12\n"
     ]
    },
    {
     "name": "stdout",
     "output_type": "stream",
     "text": [
      "You are a child.\n"
     ]
    }
   ],
   "source": [
    "age = int(input(\"Please enter your age: \"))\n",
    "if age < 13:\n",
    "    print(\"You are a child.\")\n",
    "elif age < 20:\n",
    "    print(\"You are a teenager.\")\n",
    "else:\n",
    "    print(\"You are an adult.\")\n"
   ]
  },
  {
   "cell_type": "code",
   "execution_count": 10,
   "id": "6590471d-13c4-4bf8-8a9b-9e2fadc0fd00",
   "metadata": {},
   "outputs": [
    {
     "name": "stdin",
     "output_type": "stream",
     "text": [
      "Enter a number:  1\n"
     ]
    },
    {
     "name": "stdout",
     "output_type": "stream",
     "text": [
      "It's a positive number.\n"
     ]
    }
   ],
   "source": [
    "number = int(input(\"Enter a number: \"))\n",
    "if number > 0:\n",
    "    print(\"It's a positive number.\")\n",
    "elif number < 0:\n",
    "    print(\"It's a negative number.\")\n",
    "else:\n",
    "    print(\"It's zero.\")\n"
   ]
  },
  {
   "cell_type": "markdown",
   "id": "93ed3538-dd2a-481c-9607-d368607815aa",
   "metadata": {},
   "source": [
    "# Logical Operators:\n",
    "\n",
    "    Write a Python program that checks if a user's \n",
    "    age is between 18 and 60 (inclusive) using logical operators. \n",
    "    Print a message accordingly.\n",
    "\n",
    "    Create a program that checks if a user's password is secure. \n",
    "    It should have at least one uppercase letter and one special character.\n",
    "\n"
   ]
  },
  {
   "cell_type": "code",
   "execution_count": 11,
   "id": "6ebdd899-24e7-4d51-8359-af847fa3e309",
   "metadata": {},
   "outputs": [
    {
     "name": "stdin",
     "output_type": "stream",
     "text": [
      "Please enter your age:  20\n"
     ]
    },
    {
     "name": "stdout",
     "output_type": "stream",
     "text": [
      "You are between 18 and 60 years old.\n"
     ]
    }
   ],
   "source": [
    "age = int(input(\"Please enter your age: \"))\n",
    "if age >= 18 and age <= 60:\n",
    "    print(\"You are between 18 and 60 years old.\")\n",
    "else:\n",
    "    print(\"You are not in the age range of 18 to 60.\")\n"
   ]
  },
  {
   "cell_type": "code",
   "execution_count": 12,
   "id": "cea66fac-24f4-4177-9b14-a18a6d46cf11",
   "metadata": {},
   "outputs": [
    {
     "name": "stdin",
     "output_type": "stream",
     "text": [
      "Enter your password:  32432hjjkk\n"
     ]
    },
    {
     "name": "stdout",
     "output_type": "stream",
     "text": [
      "Your password is not secure.\n"
     ]
    }
   ],
   "source": [
    "password = input(\"Enter your password: \")\n",
    "has_uppercase = any(char.isupper() for char in password)\n",
    "has_special_char = any(char in '!@#$%^&*()_-+=~`' for char in password)\n",
    "\n",
    "if has_uppercase and has_special_char:\n",
    "    print(\"Your password is secure.\")\n",
    "else:\n",
    "    print(\"Your password is not secure.\")\n"
   ]
  },
  {
   "cell_type": "markdown",
   "id": "2a0b5b6f-5829-4610-bbdc-6aea69a025e8",
   "metadata": {},
   "source": [
    "# Loops:\n",
    "\n",
    "    Write a Python program that prints the numbers from 1 to 10 using a for loop.\n",
    "\n",
    "    Create a program that asks the user for a number and \n",
    "    then prints all the even numbers from 1 to that number using a while loop.\n",
    "\n"
   ]
  },
  {
   "cell_type": "code",
   "execution_count": 13,
   "id": "0305ae10-ddf6-43ed-af3e-8a5bfb8ccad5",
   "metadata": {},
   "outputs": [
    {
     "name": "stdout",
     "output_type": "stream",
     "text": [
      "1\n",
      "2\n",
      "3\n",
      "4\n",
      "5\n",
      "6\n",
      "7\n",
      "8\n",
      "9\n",
      "10\n"
     ]
    }
   ],
   "source": [
    "for number in range(1, 11):\n",
    "    print(number)\n"
   ]
  },
  {
   "cell_type": "code",
   "execution_count": 14,
   "id": "397f342e-0b3a-4340-91a9-4d27e53caaed",
   "metadata": {},
   "outputs": [
    {
     "name": "stdin",
     "output_type": "stream",
     "text": [
      "Enter a number:  12\n"
     ]
    },
    {
     "name": "stdout",
     "output_type": "stream",
     "text": [
      "2\n",
      "4\n",
      "6\n",
      "8\n",
      "10\n",
      "12\n"
     ]
    }
   ],
   "source": [
    "n = int(input(\"Enter a number: \"))\n",
    "i = 2\n",
    "while i <= n:\n",
    "    print(i)\n",
    "    i += 2\n"
   ]
  },
  {
   "cell_type": "markdown",
   "id": "4cecc0bf-7821-4683-a89e-3c8c41156ecc",
   "metadata": {},
   "source": [
    "# String Manipulation:\n",
    "\n",
    "    Write Python code to ask the user for their full name and print it using split function\n",
    "    \n"
   ]
  },
  {
   "cell_type": "code",
   "execution_count": 17,
   "id": "8fdb311c-bafb-4fc4-b0ff-14e7f5ad88c7",
   "metadata": {},
   "outputs": [
    {
     "name": "stdin",
     "output_type": "stream",
     "text": [
      "Enter your full name:  ali ahmed\n"
     ]
    },
    {
     "name": "stdout",
     "output_type": "stream",
     "text": [
      "Your name is: ['ali', 'ahmed']\n"
     ]
    }
   ],
   "source": [
    "full_name = input(\"Enter your full name: \")\n",
    "full_name = full_name.split()\n",
    "print(\"Your name is:\", full_name)\n"
   ]
  },
  {
   "cell_type": "markdown",
   "id": "1600d46a-7bf5-4a2b-8415-234f0311c58a",
   "metadata": {},
   "source": [
    "# String Searching and Validation:\n",
    "\n",
    "    Write a Python program that asks the user for their \n",
    "    email address and checks if it contains the \"@\" symbol.\n",
    "\n",
    "    Create a program that checks if a \n",
    "    specific word (e.g., \"apple\") is present in a \n",
    "    user's input sentence."
   ]
  },
  {
   "cell_type": "code",
   "execution_count": 18,
   "id": "68cfa3d6-712f-433f-b271-7411de4f513b",
   "metadata": {},
   "outputs": [
    {
     "name": "stdin",
     "output_type": "stream",
     "text": [
      "Enter your email address:  faizan@bubble.com\n"
     ]
    },
    {
     "name": "stdout",
     "output_type": "stream",
     "text": [
      "Email address is valid.\n"
     ]
    }
   ],
   "source": [
    "email = input(\"Enter your email address: \")\n",
    "if \"@\" in email:\n",
    "    print(\"Email address is valid.\")\n",
    "else:\n",
    "    print(\"Email address is not valid.\")\n"
   ]
  },
  {
   "cell_type": "code",
   "execution_count": 19,
   "id": "b07def91-12ab-4fd0-b647-99453917f72f",
   "metadata": {},
   "outputs": [
    {
     "name": "stdin",
     "output_type": "stream",
     "text": [
      "Enter a sentence:  an apple a day keeps the doctor away\n"
     ]
    },
    {
     "name": "stdout",
     "output_type": "stream",
     "text": [
      "The word 'apple' is in the sentence.\n"
     ]
    }
   ],
   "source": [
    "sentence = input(\"Enter a sentence: \")\n",
    "if \"apple\" in sentence:\n",
    "    print(\"The word 'apple' is in the sentence.\")\n",
    "else:\n",
    "    print(\"The word 'apple' is not in the sentence.\")\n"
   ]
  },
  {
   "cell_type": "code",
   "execution_count": null,
   "id": "5f8acc62-b08f-4610-a01a-3da2563883ce",
   "metadata": {},
   "outputs": [],
   "source": []
  }
 ],
 "metadata": {
  "kernelspec": {
   "display_name": "Python 3 (ipykernel)",
   "language": "python",
   "name": "python3"
  },
  "language_info": {
   "codemirror_mode": {
    "name": "ipython",
    "version": 3
   },
   "file_extension": ".py",
   "mimetype": "text/x-python",
   "name": "python",
   "nbconvert_exporter": "python",
   "pygments_lexer": "ipython3",
   "version": "3.8.10"
  }
 },
 "nbformat": 4,
 "nbformat_minor": 5
}
