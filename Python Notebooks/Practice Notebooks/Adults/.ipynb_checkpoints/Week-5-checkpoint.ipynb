{
 "cells": [
  {
   "cell_type": "code",
   "execution_count": null,
   "id": "a158f887-b322-4a7a-81df-87ac265046ed",
   "metadata": {},
   "outputs": [],
   "source": [
    "def add(a, b=0):\n",
    "    return a + b\n",
    "\n",
    "result = add(3)\n",
    "print(result)"
   ]
  },
  {
   "cell_type": "code",
   "execution_count": null,
   "id": "242f247e-8f46-4b9c-9133-2f52a89ce266",
   "metadata": {},
   "outputs": [],
   "source": [
    "def greet(name=\"Guest\"):\n",
    "    return \"Hello, \" + name\n",
    "\n",
    "message = greet()\n",
    "print(message)"
   ]
  },
  {
   "cell_type": "code",
   "execution_count": null,
   "id": "b54202d6-a9a6-4741-884f-1270d8be7550",
   "metadata": {},
   "outputs": [],
   "source": [
    "def square(n):\n",
    "    result = n * n\n",
    "\n",
    "result = square(4)\n",
    "print(result)"
   ]
  },
  {
   "cell_type": "code",
   "execution_count": null,
   "id": "7e64ea12-3de9-4c60-a53a-c0dbfa1b060f",
   "metadata": {},
   "outputs": [],
   "source": [
    "def greet(name):\n",
    "    return \"Hello, \" + name\n",
    "\n",
    "message = greet(\"Alice\")\n",
    "print(message)\n"
   ]
  },
  {
   "cell_type": "code",
   "execution_count": null,
   "id": "a2939bb2-7b71-4d17-8349-ab46439c2cc4",
   "metadata": {},
   "outputs": [],
   "source": [
    "def add(a, b):\n",
    "    return a + b\n",
    "\n",
    "result = add(3, 4)\n",
    "print(result)\n"
   ]
  },
  {
   "cell_type": "code",
   "execution_count": null,
   "id": "54af191e-5874-4bcd-8016-df6577bdddf1",
   "metadata": {},
   "outputs": [],
   "source": [
    "x = 10\n",
    "\n",
    "def modify_x():\n",
    "    x = 5\n",
    "\n",
    "modify_x()\n",
    "print(x)\n"
   ]
  },
  {
   "cell_type": "code",
   "execution_count": null,
   "id": "4af383b0-2376-4c10-82b8-008b7697b9e5",
   "metadata": {},
   "outputs": [],
   "source": [
    "x = 10\n",
    "\n",
    "def modify_x():\n",
    "    global x\n",
    "    x = x + 5\n",
    "\n",
    "modify_x()\n",
    "print(x)\n"
   ]
  },
  {
   "cell_type": "code",
   "execution_count": null,
   "id": "04e0251c-1c6b-46ea-bd7e-e79aa6111d38",
   "metadata": {},
   "outputs": [],
   "source": [
    "def power(base, exponent):\n",
    "    result = 1\n",
    "    for _ in range(exponent):\n",
    "        result *= base\n",
    "    return result\n",
    "\n",
    "value = power(2, 3)\n",
    "print(value)\n"
   ]
  },
  {
   "cell_type": "code",
   "execution_count": null,
   "id": "1f9f0dda-a968-44e0-8a06-cab4e984f151",
   "metadata": {},
   "outputs": [],
   "source": [
    "def my_function(x):\n",
    "    return x * 2\n",
    "\n",
    "result = my_function(5)\n",
    "result = my_function(result)\n",
    "result = my_function(result)\n",
    "print(result)\n"
   ]
  },
  {
   "cell_type": "code",
   "execution_count": null,
   "id": "6b2b29b2-aa5c-4c8e-8edd-28a9671b25ef",
   "metadata": {},
   "outputs": [],
   "source": [
    "x = 10\n",
    "\n",
    "def modify_x():\n",
    "    x = 5\n",
    "    return x\n",
    "\n",
    "result = modify_x()\n",
    "print(x, result)\n"
   ]
  },
  {
   "cell_type": "markdown",
   "id": "5c4b7d91-1ada-4489-b143-6f360feb007d",
   "metadata": {},
   "source": [
    "# Lists"
   ]
  },
  {
   "cell_type": "code",
   "execution_count": null,
   "id": "96a8f55e-1a58-4552-a317-151a03fae563",
   "metadata": {},
   "outputs": [],
   "source": [
    "# Create a list of fruits\n",
    "fruits = [\"apple\", \"banana\", \"cherry\", \"date\"]\n"
   ]
  },
  {
   "cell_type": "code",
   "execution_count": null,
   "id": "708dab92-1178-4c31-b4f5-94719ba6464a",
   "metadata": {},
   "outputs": [],
   "source": [
    "# Access the second element in the list\n",
    "second_fruit = fruits[1]\n",
    "print(second_fruit)\n"
   ]
  },
  {
   "cell_type": "code",
   "execution_count": null,
   "id": "4c28f710-16af-4537-aef3-b5fad0e2e445",
   "metadata": {},
   "outputs": [],
   "source": [
    "# Change the third fruit in the list\n",
    "fruits[2] = \"grape\"\n"
   ]
  },
  {
   "cell_type": "code",
   "execution_count": null,
   "id": "9fe3dccf-063c-4b73-b55a-a585e42a7ba7",
   "metadata": {},
   "outputs": [],
   "source": [
    "# Add a new fruit to the end of the list\n",
    "fruits.append(\"kiwi\")\n"
   ]
  },
  {
   "cell_type": "code",
   "execution_count": null,
   "id": "993392e9-145a-4ae4-924f-a48d17db0b49",
   "metadata": {},
   "outputs": [],
   "source": [
    "# Insert a fruit at a specific position in the list\n",
    "fruits.insert(2, \"orange\")\n"
   ]
  },
  {
   "cell_type": "code",
   "execution_count": null,
   "id": "d68edd1f-21a4-46f2-b0e2-0653e0fa7153",
   "metadata": {},
   "outputs": [],
   "source": [
    "# Remove a specific fruit from the list\n",
    "fruits.remove(\"banana\")\n"
   ]
  },
  {
   "cell_type": "code",
   "execution_count": null,
   "id": "39831d98-7f12-435a-89ae-cf418caf1c46",
   "metadata": {},
   "outputs": [],
   "source": [
    "# Create a new list containing a slice of the original list\n",
    "selected_fruits = fruits[1:4]\n"
   ]
  },
  {
   "cell_type": "code",
   "execution_count": null,
   "id": "53f2a983-c7ec-4a3b-bd9a-41ee80ab12e0",
   "metadata": {},
   "outputs": [],
   "source": [
    "# Create a new list with every second fruit from the original list\n",
    "alternate_fruits = fruits[::2]\n"
   ]
  },
  {
   "cell_type": "code",
   "execution_count": null,
   "id": "ca19d187-38ed-4dcc-914b-abdbdf4beb62",
   "metadata": {},
   "outputs": [],
   "source": [
    "# Create a new list containing the last two fruits from the original list\n",
    "last_two_fruits = fruits[-2:]\n"
   ]
  },
  {
   "cell_type": "code",
   "execution_count": null,
   "id": "dca80f73-136c-4904-8b07-442b7b9c0bf4",
   "metadata": {},
   "outputs": [],
   "source": [
    "# Calculate the length of the list\n",
    "num_fruits = len(fruits)\n"
   ]
  },
  {
   "cell_type": "code",
   "execution_count": null,
   "id": "30c4181a-0c95-466e-9e52-6c7484103a9c",
   "metadata": {},
   "outputs": [],
   "source": [
    "# Create a nested list of lists\n",
    "matrix = [[1, 2, 3], [4, 5, 6], [7, 8, 9]]\n"
   ]
  },
  {
   "cell_type": "code",
   "execution_count": null,
   "id": "cec9f596-788f-40cf-9571-3bee61c925bf",
   "metadata": {},
   "outputs": [],
   "source": [
    "# Remove and return the last element from the list\n",
    "last_fruit = fruits.pop()\n"
   ]
  },
  {
   "cell_type": "code",
   "execution_count": null,
   "id": "389fe61f-6e0a-4438-b6c8-73de3a19a6b4",
   "metadata": {},
   "outputs": [],
   "source": [
    "# Extend the list with additional fruits\n",
    "more_fruits = [\"pineapple\", \"blueberry\"]\n",
    "fruits.extend(more_fruits)\n"
   ]
  },
  {
   "cell_type": "code",
   "execution_count": null,
   "id": "2446cf56-1baa-4e3e-9e95-eb5fcd30df36",
   "metadata": {},
   "outputs": [],
   "source": [
    "# Create a new list with the fruits in reverse order\n",
    "reversed_fruits = fruits[::-1]\n"
   ]
  },
  {
   "cell_type": "code",
   "execution_count": null,
   "id": "1f4fc55d-24a2-46a7-b50c-dc2d57194208",
   "metadata": {},
   "outputs": [],
   "source": [
    "# Create a new list containing fruits from index 1 to 3\n",
    "selected_fruits = fruits[1:4]\n"
   ]
  }
 ],
 "metadata": {
  "kernelspec": {
   "display_name": "Python 3 (ipykernel)",
   "language": "python",
   "name": "python3"
  },
  "language_info": {
   "codemirror_mode": {
    "name": "ipython",
    "version": 3
   },
   "file_extension": ".py",
   "mimetype": "text/x-python",
   "name": "python",
   "nbconvert_exporter": "python",
   "pygments_lexer": "ipython3",
   "version": "3.8.10"
  }
 },
 "nbformat": 4,
 "nbformat_minor": 5
}
