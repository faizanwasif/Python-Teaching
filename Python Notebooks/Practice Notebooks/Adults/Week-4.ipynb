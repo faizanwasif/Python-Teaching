{
 "cells": [
  {
   "cell_type": "markdown",
   "id": "9fd6d586-6f92-4f0b-a534-31b1d2094613",
   "metadata": {},
   "source": [
    "# Defining Functions:\n",
    "\n",
    "    Define a Python function called \"say_hello\" that prints \"Hello, world!\" when called.\n",
    "\n",
    "    Create a function named \"print_numbers\" that prints the numbers from 1 to 5 when called.\n",
    "\n",
    "    Write a function \"greet_user\" that prints a welcoming message like \"Welcome to Python!\" \n",
    "    when called.\n",
    "\n",
    "    Define a function \"print_hello_twice\" that prints \"Hello\" two times when called.\n",
    "\n",
    "    Create a function called \"print_greeting\" that prints \"Hi there!\" when called.\n",
    "\n"
   ]
  },
  {
   "cell_type": "code",
   "execution_count": null,
   "id": "4a80a500-d871-496e-850a-0f0f6177c8ce",
   "metadata": {},
   "outputs": [],
   "source": []
  },
  {
   "cell_type": "code",
   "execution_count": null,
   "id": "b2dc09c9-3797-491a-9213-716476aa869e",
   "metadata": {},
   "outputs": [],
   "source": []
  },
  {
   "cell_type": "code",
   "execution_count": null,
   "id": "5aa044e9-5216-4f37-9e2f-6ada57b0559d",
   "metadata": {},
   "outputs": [],
   "source": []
  },
  {
   "cell_type": "code",
   "execution_count": null,
   "id": "375f4080-f8f4-4644-b66a-875a35b548ae",
   "metadata": {},
   "outputs": [],
   "source": []
  },
  {
   "cell_type": "markdown",
   "id": "79bb9376-563b-410c-ad1a-ce462910a13e",
   "metadata": {},
   "source": [
    "# Multiple Parameters:\n",
    "\n",
    "    Define a Python function called \"calculate_rectangle_area\" that takes two parameters, \n",
    "    length and width, and returns the area of a rectangle.\n",
    "\n",
    "    Create a function \"calculate_product\" that takes two parameters, num1 and num2, \n",
    "    and returns the product of these two numbers.\n",
    "\n",
    "    Write a function \"create_full_name\" that takes two parameters, first_name and last_name, \n",
    "    and returns the full name as a string.\n",
    "\n"
   ]
  },
  {
   "cell_type": "code",
   "execution_count": null,
   "id": "4b831e72-8569-41a8-b750-47244e46be22",
   "metadata": {},
   "outputs": [],
   "source": []
  },
  {
   "cell_type": "code",
   "execution_count": null,
   "id": "69678dee-d59f-418c-8d2d-8cb5ccf586ca",
   "metadata": {},
   "outputs": [],
   "source": []
  },
  {
   "cell_type": "code",
   "execution_count": null,
   "id": "37752922-d628-486b-a508-ee4198156350",
   "metadata": {},
   "outputs": [],
   "source": []
  },
  {
   "cell_type": "markdown",
   "id": "e40cd3b1-9116-49bf-aa66-31ce4be54128",
   "metadata": {},
   "source": [
    "# Multiple Arguments:\n",
    "\n",
    "    Define a function named \"calculate_sum\" that takes multiple arguments \n",
    "    and returns the sum of all the arguments provided.\n",
    "\n",
    "    Create a function \"find_largest\" that takes multiple arguments (numbers) \n",
    "    and returns the largest number among them.\n",
    "\n",
    "\n",
    "\n"
   ]
  },
  {
   "cell_type": "code",
   "execution_count": null,
   "id": "ef92385a-4997-4528-a9ea-40b613f78f2d",
   "metadata": {},
   "outputs": [],
   "source": []
  },
  {
   "cell_type": "code",
   "execution_count": null,
   "id": "8315bfa6-c2be-4083-838b-f5b17c0ba20a",
   "metadata": {},
   "outputs": [],
   "source": []
  },
  {
   "cell_type": "markdown",
   "id": "9f635288-0a8b-434e-b67a-4c4a93350a2a",
   "metadata": {},
   "source": [
    "# Return Statements:\n",
    "\n",
    "    Define a Python function named \"multiply\" that takes two numbers as arguments and \n",
    "    returns their product.\n",
    "\n",
    "    Write a function called \"get_average\" that takes three numbers as arguments and \n",
    "    returns their average.\n",
    "\n"
   ]
  },
  {
   "cell_type": "code",
   "execution_count": null,
   "id": "af555ff4-8c93-4942-aa15-b653b24fdbf0",
   "metadata": {},
   "outputs": [],
   "source": []
  },
  {
   "cell_type": "code",
   "execution_count": null,
   "id": "83e82b1e-b0f4-4bd3-90c2-99c029f7cb16",
   "metadata": {},
   "outputs": [],
   "source": []
  },
  {
   "cell_type": "markdown",
   "id": "c13292af-b573-4520-ae1f-5ae5b92454ba",
   "metadata": {},
   "source": [
    "# Scope of Variables in Functions:\n",
    "\n",
    "## Local Variables:\n",
    "\n",
    "    Define a Python function called \"calculate_area\" that takes the base \n",
    "    and height as parameters and calculates the area of a triangle using \n",
    "    the formula area = 0.5 * base * height. Ensure that \"area\" is a local \n",
    "    variable within the function.\n",
    "\n",
    "    Create a function \"count_vowels\" that takes a string as a parameter \n",
    "    and counts the number of vowels (a, e, i, o, u) in the input string. \n",
    "    Use a local variable \"vowel_count\" to store the count.\n",
    "\n",
    "    Write a function \"calculate_discounted_price\" that takes the original price \n",
    "    and a discount rate as parameters. Calculate the final price after applying \n",
    "    the discount and store it in a local variable \"discounted_price.\"\n",
    "\n"
   ]
  },
  {
   "cell_type": "code",
   "execution_count": null,
   "id": "a3959e24-1114-4093-b882-4b686c4ed614",
   "metadata": {},
   "outputs": [],
   "source": []
  },
  {
   "cell_type": "code",
   "execution_count": null,
   "id": "05b1c6a8-8619-485b-a52b-7864100bbc11",
   "metadata": {},
   "outputs": [],
   "source": []
  },
  {
   "cell_type": "code",
   "execution_count": null,
   "id": "fffa35e6-1f0c-4427-9ae6-6547b5eb87d1",
   "metadata": {},
   "outputs": [],
   "source": []
  },
  {
   "cell_type": "markdown",
   "id": "6599db54-da99-485a-937e-8188aa2c11e0",
   "metadata": {},
   "source": [
    "## Global Variables:\n",
    "\n",
    "    Create a Python program with a global variable \"total_sales\" set to 0. \n",
    "    Define a function \"update_sales\" that takes a sale amount as a parameter \n",
    "    and adds it to the global \"total_sales.\" Call this function multiple \n",
    "    times with different sale amounts and print the final \"total_sales\" value.\n",
    "\n",
    "    Define a global variable \"current_user\" with an initial value of \"Guest.\" \n",
    "    Write a function \"set_user\" that takes a username as a parameter \n",
    "    and sets the global variable \"current_user\" to the provided username. \n",
    "    Call the function with different usernames to change the current user.\n",
    "\n",
    "    Create a Python program with a global variable \"counter\" set to 0. \n",
    "    Define a function \"increment_counter\" that increments the global \"counter\" by 1. \n",
    "    Call this function multiple times and print the final \"counter\" value.\n",
    "\n"
   ]
  },
  {
   "cell_type": "code",
   "execution_count": null,
   "id": "d59b196b-8b2b-48e6-88cc-58eaf10ff2be",
   "metadata": {},
   "outputs": [],
   "source": []
  },
  {
   "cell_type": "code",
   "execution_count": null,
   "id": "58034a8a-7a34-4ff0-b1d9-790cb9465d1c",
   "metadata": {},
   "outputs": [],
   "source": []
  },
  {
   "cell_type": "code",
   "execution_count": null,
   "id": "12c0fa65-24e6-40d3-9c0d-7c649a62e956",
   "metadata": {},
   "outputs": [],
   "source": []
  },
  {
   "cell_type": "markdown",
   "id": "8d1f6908-1f2c-430e-8f5c-46b3cac209b4",
   "metadata": {},
   "source": [
    "# Reusing Code with Functions:\n",
    "\n",
    "    Write a Python function called \"find_minimum\" that \n",
    "    takes a list of numbers as an argument and returns the minimum value in the list.\n",
    "\n",
    "    Create a function \"is_even\" that takes a number as an \n",
    "    argument and returns True if the number is even and False if it's not."
   ]
  },
  {
   "cell_type": "code",
   "execution_count": null,
   "id": "ba8ddcb1-1c5c-47af-822c-d236b975a30a",
   "metadata": {},
   "outputs": [],
   "source": []
  },
  {
   "cell_type": "code",
   "execution_count": null,
   "id": "ce0de4e7-b0c1-4830-b5d2-1647ad96b5b4",
   "metadata": {},
   "outputs": [],
   "source": []
  }
 ],
 "metadata": {
  "kernelspec": {
   "display_name": "Python 3 (ipykernel)",
   "language": "python",
   "name": "python3"
  },
  "language_info": {
   "codemirror_mode": {
    "name": "ipython",
    "version": 3
   },
   "file_extension": ".py",
   "mimetype": "text/x-python",
   "name": "python",
   "nbconvert_exporter": "python",
   "pygments_lexer": "ipython3",
   "version": "3.8.10"
  }
 },
 "nbformat": 4,
 "nbformat_minor": 5
}
