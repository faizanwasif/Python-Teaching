{
 "cells": [
  {
   "cell_type": "markdown",
   "id": "fd3c3dd1-6f23-486b-9630-3be25baf82fe",
   "metadata": {},
   "source": [
    "## Variable Naming:\n",
    "    What is a variable in Python? Can you give an example of a variable name?\n",
    "\n"
   ]
  },
  {
   "cell_type": "markdown",
   "id": "8960c833-5185-4dc8-8f0d-acd79db06550",
   "metadata": {},
   "source": [
    "    A variable in Python is like a container that can hold different kinds of information, like numbers or words. For example, a variable name can be \"my_age.\"\n",
    "\n"
   ]
  },
  {
   "cell_type": "markdown",
   "id": "4656ca52-a971-42cb-ab62-4450682c7cd2",
   "metadata": {},
   "source": [
    "##    Setting a Variable:\n",
    "    Write Python code to create a variable called \"favorite_color\" and set it to your favorite color.\n",
    "\n"
   ]
  },
  {
   "cell_type": "code",
   "execution_count": 1,
   "id": "42b9bb3b-a10f-4e9b-b56e-ed2c089b4acd",
   "metadata": {},
   "outputs": [],
   "source": [
    "favorite_color = \"blue\"\n"
   ]
  },
  {
   "cell_type": "markdown",
   "id": "7823d54b-7734-4d1e-a34c-e45ff3b37687",
   "metadata": {},
   "source": [
    "##    Changing a Variable:\n",
    "    Can you change the value of a variable after it's set? Try changing the \"favorite_color\" variable to a different color.\n",
    "\n"
   ]
  },
  {
   "cell_type": "code",
   "execution_count": 2,
   "id": "ef526e8e-8564-4ccc-b8d5-8348e79ba0ed",
   "metadata": {},
   "outputs": [],
   "source": [
    "favorite_color = \"red\"\n",
    "\n"
   ]
  },
  {
   "cell_type": "markdown",
   "id": "aa497370-6704-4e25-a66d-bebfd06d18f7",
   "metadata": {},
   "source": [
    "##    Math with Variables:\n",
    "    Create a variable for the number of candies you have and another for the number of candies your friend has. Write Python code to add these two variables to find the total number of candies.\n",
    "\n"
   ]
  },
  {
   "cell_type": "code",
   "execution_count": 3,
   "id": "ad7014aa-d40f-4cd4-be49-f9942052437d",
   "metadata": {},
   "outputs": [
    {
     "name": "stdout",
     "output_type": "stream",
     "text": [
      "8\n"
     ]
    }
   ],
   "source": [
    "my_candies = 5\n",
    "friend_candies = 3\n",
    "total_candies = my_candies + friend_candies\n",
    "\n",
    "print(total_candies)"
   ]
  },
  {
   "cell_type": "markdown",
   "id": "8bebf75f-1b19-44e4-b91f-215a58ccc733",
   "metadata": {},
   "source": [
    "##    String Variables:\n",
    "    What can you store in a variable besides numbers? Write a variable called \"favorite_animal\" and set it to your favorite animal.\n",
    "\n"
   ]
  },
  {
   "cell_type": "code",
   "execution_count": null,
   "id": "9ecb317d-f175-4f95-a36b-2b36b7fad7e3",
   "metadata": {},
   "outputs": [],
   "source": [
    "# Besides numbers, you can store words in a variable. For example:\n",
    "favorite_animal = \"dog\""
   ]
  },
  {
   "cell_type": "markdown",
   "id": "3a9c30d5-1e10-4469-a7a8-4479836a3f3e",
   "metadata": {},
   "source": [
    "##    Variable Printing:\n",
    "    How do you print the value of a variable in Python? Use the \"favorite_animal\" variable you created and print your favorite animal's name.\n",
    "\n"
   ]
  },
  {
   "cell_type": "code",
   "execution_count": null,
   "id": "6692f36b-ea91-4b4f-b4ec-5bd177c2d4d1",
   "metadata": {},
   "outputs": [],
   "source": [
    "print(favorite_animal)\n"
   ]
  },
  {
   "cell_type": "markdown",
   "id": "b8273c41-073c-4244-932c-63077fa7710e",
   "metadata": {},
   "source": [
    "##    Changing Variables:\n",
    "    Create a variable called \"apples\" and set it to 3. Then, change the value to 5. Can you do that?\n",
    "\n"
   ]
  },
  {
   "cell_type": "code",
   "execution_count": null,
   "id": "96d3ad20-250b-4cd3-a71e-25bbac2279c6",
   "metadata": {},
   "outputs": [],
   "source": [
    "apples = 3\n",
    "apples = 5\n"
   ]
  },
  {
   "cell_type": "markdown",
   "id": "88acde41-2bfa-4f02-bd0e-ed80edbd5437",
   "metadata": {},
   "source": [
    "##    Combining Text:\n",
    "    Write Python code to create a variable for your first name and another for your last name. Combine them to print your full name.\n"
   ]
  },
  {
   "cell_type": "code",
   "execution_count": null,
   "id": "a8c508f2-3d85-49e6-ade0-7a1c26a7900c",
   "metadata": {},
   "outputs": [],
   "source": [
    "first_name = \"John\"\n",
    "last_name = \"Doe\"\n",
    "full_name = first_name + \" \" + last_name\n",
    "print(full_name)\n"
   ]
  },
  {
   "cell_type": "markdown",
   "id": "7def878d-413e-4d46-9518-883fd36aa660",
   "metadata": {},
   "source": [
    "##    Simple Calculations:\n",
    "    Create a variable for the number of fingers on one hand and another for the number of fingers on the other hand. Add them together to find the total number of fingers.\n",
    "\n"
   ]
  },
  {
   "cell_type": "code",
   "execution_count": null,
   "id": "13fe2423-5e63-4842-ac0e-82735b6d6e13",
   "metadata": {},
   "outputs": [],
   "source": [
    "fingers_on_one_hand = 5\n",
    "fingers_on_other_hand = 5\n",
    "total_fingers = fingers_on_one_hand + fingers_on_other_hand\n"
   ]
  },
  {
   "cell_type": "markdown",
   "id": "f794f02a-6aee-41b3-89bd-96148f28f1c2",
   "metadata": {},
   "source": [
    "##    Variable Overwriting:\n",
    "    What happens if you use the same variable name for two different things? Create a variable \"fruit\" and set it to \"apple.\" Then, change the \"fruit\" variable to \"banana.\" What is the value of \"fruit\" now?"
   ]
  },
  {
   "cell_type": "code",
   "execution_count": null,
   "id": "5feb88ab-3132-4b4f-91c4-86a37fa8ba00",
   "metadata": {},
   "outputs": [],
   "source": [
    "fruit = \"apple\"\n",
    "print(fruit)\n"
   ]
  },
  {
   "cell_type": "code",
   "execution_count": null,
   "id": "fc5dd1f2-6f43-4b91-935e-14d9f7e6bfd8",
   "metadata": {},
   "outputs": [],
   "source": [
    "fruit = \"banana\"\n",
    "print(fruit)"
   ]
  }
 ],
 "metadata": {
  "kernelspec": {
   "display_name": "Python 3 (ipykernel)",
   "language": "python",
   "name": "python3"
  },
  "language_info": {
   "codemirror_mode": {
    "name": "ipython",
    "version": 3
   },
   "file_extension": ".py",
   "mimetype": "text/x-python",
   "name": "python",
   "nbconvert_exporter": "python",
   "pygments_lexer": "ipython3",
   "version": "3.8.10"
  }
 },
 "nbformat": 4,
 "nbformat_minor": 5
}
