{
 "cells": [
  {
   "cell_type": "markdown",
   "id": "72130c59-417f-40ce-a10c-66ce8a2c7a60",
   "metadata": {},
   "source": [
    "# Practice for Constants"
   ]
  },
  {
   "cell_type": "markdown",
   "id": "d15e6a78-6c10-483e-9798-4c822455ca1d",
   "metadata": {},
   "source": [
    "## Basic Constants:\n",
    "Write Python code to assign the constant value of 10 to a variable named \"my_const.\" Then, print the value of \"my_const.\""
   ]
  },
  {
   "cell_type": "code",
   "execution_count": null,
   "id": "a9649a6e-ab74-48da-b0ac-dc4398cf750c",
   "metadata": {},
   "outputs": [],
   "source": [
    "my_const = 10\n",
    "print(my_const)"
   ]
  },
  {
   "cell_type": "markdown",
   "id": "e96c2390-78bb-41ea-a399-000a6deb4781",
   "metadata": {},
   "source": [
    "## Math with Constants:\n",
    "Create a Python program that adds two numbers. Use constant variables to store the values of num1 and num2, and then add them."
   ]
  },
  {
   "cell_type": "code",
   "execution_count": null,
   "id": "611e198b-7d30-4312-8f1d-745c4afb41ce",
   "metadata": {},
   "outputs": [],
   "source": [
    "num1 = 10\n",
    "num2 = 15\n",
    "\n",
    "# Calculate the area of the square\n",
    "result = num1 + num2\n",
    "print(\"The result is:\", result)"
   ]
  },
  {
   "cell_type": "markdown",
   "id": "cbaab39e-d63a-416f-8e16-ae39b48e7f0c",
   "metadata": {},
   "source": [
    "## Constants in Expressions:\n",
    "Write Python code to add your age and your friend's age. You are \"my_age\" and your friend is \"friend_age.\" "
   ]
  },
  {
   "cell_type": "code",
   "execution_count": 1,
   "id": "713268ff-33a9-4051-8ef4-cfe2a31e6aaa",
   "metadata": {},
   "outputs": [
    {
     "name": "stdout",
     "output_type": "stream",
     "text": [
      "Your total age with your friend is: 17\n"
     ]
    }
   ],
   "source": [
    "# Get your age\n",
    "my_age = 7  # Replace with your age\n",
    "\n",
    "friend_age = 10\n",
    "\n",
    "# Calculate the total age\n",
    "total_age = my_age + friend_age\n",
    "\n",
    "# Print the total age\n",
    "print(\"My total age with your friend is:\", total_age)"
   ]
  },
  {
   "cell_type": "markdown",
   "id": "aece662c-976e-43ef-a72c-f67f58189f16",
   "metadata": {},
   "source": [
    "## String Constants:\n",
    "Assign a constant string to a variable named \"greeting\" with the value \"Hello, World!\" Then, print the \"greeting\" variable."
   ]
  },
  {
   "cell_type": "code",
   "execution_count": null,
   "id": "17a3312b-b995-4033-96cc-56d458fbb9e8",
   "metadata": {},
   "outputs": [],
   "source": [
    "# Define a constant string\n",
    "greeting = \"Hello, World!\"\n",
    "\n",
    "# Print the greeting\n",
    "print(greeting)"
   ]
  }
 ],
 "metadata": {
  "kernelspec": {
   "display_name": "Python 3 (ipykernel)",
   "language": "python",
   "name": "python3"
  },
  "language_info": {
   "codemirror_mode": {
    "name": "ipython",
    "version": 3
   },
   "file_extension": ".py",
   "mimetype": "text/x-python",
   "name": "python",
   "nbconvert_exporter": "python",
   "pygments_lexer": "ipython3",
   "version": "3.8.10"
  }
 },
 "nbformat": 4,
 "nbformat_minor": 5
}
