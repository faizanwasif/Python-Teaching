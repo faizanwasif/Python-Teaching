{
 "cells": [
  {
   "cell_type": "markdown",
   "id": "155c04f1-c422-4c6b-8ab0-97c0e71189f5",
   "metadata": {},
   "source": [
    "# Code snippet for Expressions and Statements\n",
    "\n",
    "x = 5\n",
    "y = 3\n",
    "\n",
    "result = x + y # this is an Expression/Statement\n",
    "\n",
    "print(\"The result is:\", result)\n"
   ]
  },
  {
   "cell_type": "code",
   "execution_count": 2,
   "id": "2072c290-5d83-41c7-b83c-1ca454870325",
   "metadata": {},
   "outputs": [
    {
     "name": "stdout",
     "output_type": "stream",
     "text": [
      "Result 1: 11\n",
      "Result 2: 16\n"
     ]
    }
   ],
   "source": [
    "# Code snippet for Operator Precedence\n",
    "\n",
    "# Recall the B O D M A S rule\n",
    "\n",
    "result1 = 5 + 3 * 2\n",
    "result2 = (5 + 3) * 2\n",
    "\n",
    "\n",
    "print(\"Result 1:\", result1)\n",
    "\n",
    "print(\"Result 2:\", result2)"
   ]
  },
  {
   "cell_type": "code",
   "execution_count": 3,
   "id": "576383de-9e17-40e1-ba6f-b51bc9216862",
   "metadata": {},
   "outputs": [
    {
     "name": "stdout",
     "output_type": "stream",
     "text": [
      "My name is Alice and I am 10 years old.\n"
     ]
    }
   ],
   "source": [
    "# Code snippet for Assignment Statements\n",
    "age = 10\n",
    "name = \"Alice\"\n",
    "\n",
    "# here as you can see the name has value of Alice and Age has value of 10\n",
    "\n",
    "print(\"My name is\", name, \"and I am\", age, \"years old.\")\n"
   ]
  },
  {
   "cell_type": "code",
   "execution_count": 4,
   "id": "8b51e33c-7b8f-4a29-b1aa-606d5f3136a1",
   "metadata": {},
   "outputs": [
    {
     "name": "stdout",
     "output_type": "stream",
     "text": [
      "Are you a good person?  True\n",
      "Are you a bad person?  False\n"
     ]
    }
   ],
   "source": [
    "# Code snippet for Booleans\n",
    "good = True\n",
    "\n",
    "bad = False\n",
    "\n",
    "print(\"Are you a good person? \", good)\n",
    "print(\"Are you a bad person? \", bad)\n",
    "\n",
    "# Remember True is same as Yes, and False is same as No"
   ]
  },
  {
   "cell_type": "code",
   "execution_count": 5,
   "id": "35c5afc4-25ea-4855-8c4a-b3fd4857d4c4",
   "metadata": {},
   "outputs": [
    {
     "name": "stdout",
     "output_type": "stream",
     "text": [
      "Is the value of x is 10?  True\n"
     ]
    }
   ],
   "source": [
    "# Code snippet for Equivalence Operator\n",
    "x = 10\n",
    "\n",
    "# Equivalence or Equality operator\n",
    "\n",
    "print(\"Is the value of x is 10? \", x == 10)\n"
   ]
  },
  {
   "cell_type": "code",
   "execution_count": 6,
   "id": "7ac481c2-0447-4dde-932b-feffbec27cb2",
   "metadata": {},
   "outputs": [
    {
     "name": "stdout",
     "output_type": "stream",
     "text": [
      "Is the value of x is 10?  False\n"
     ]
    }
   ],
   "source": [
    "# Code snippet for Inquality Operator\n",
    "x = 10\n",
    "\n",
    "# Equivalence or Equality operator\n",
    "\n",
    "print(\"Is the value of x is 10? \", x != 10)\n"
   ]
  },
  {
   "cell_type": "code",
   "execution_count": 7,
   "id": "9b249219-2186-433b-ae32-e0b6b9dc7192",
   "metadata": {},
   "outputs": [
    {
     "name": "stdout",
     "output_type": "stream",
     "text": [
      "Integer: 5\n",
      "Float: 3.14\n",
      "String: Hello, Python!\n"
     ]
    }
   ],
   "source": [
    "# Code snippet for Data Types\n",
    "integer_variable = 5\n",
    "\n",
    "float_variable = 3.14\n",
    "\n",
    "string_variable = \"Hello, Python!\"\n",
    "\n",
    "print(\"Integer:\", integer_variable)\n",
    "\n",
    "print(\"Float:\", float_variable)\n",
    "\n",
    "print(\"String:\", string_variable)\n"
   ]
  },
  {
   "cell_type": "code",
   "execution_count": null,
   "id": "34eaf012-1551-49ca-a44d-b6f820eb96ad",
   "metadata": {},
   "outputs": [],
   "source": []
  }
 ],
 "metadata": {
  "kernelspec": {
   "display_name": "Python 3 (ipykernel)",
   "language": "python",
   "name": "python3"
  },
  "language_info": {
   "codemirror_mode": {
    "name": "ipython",
    "version": 3
   },
   "file_extension": ".py",
   "mimetype": "text/x-python",
   "name": "python",
   "nbconvert_exporter": "python",
   "pygments_lexer": "ipython3",
   "version": "3.8.10"
  }
 },
 "nbformat": 4,
 "nbformat_minor": 5
}
