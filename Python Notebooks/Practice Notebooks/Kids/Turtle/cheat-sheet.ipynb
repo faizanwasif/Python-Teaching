{
 "cells": [
  {
   "cell_type": "raw",
   "id": "4c5ed11f-222f-464c-b296-f7435f80d9fe",
   "metadata": {},
   "source": [
    "# Basic commands\n",
    "turtle.forward(distance)        # Move forward by 'distance' units\n",
    "turtle.backward(distance)       # Move backward by 'distance' units\n",
    "turtle.right(angle)            # Turn right by 'angle' degrees\n",
    "turtle.left(angle)             # Turn left by 'angle' degrees\n",
    "turtle.penup()                 # Lift the pen off the screen (no drawing)\n",
    "turtle.pendown()               # Put the pen back on the screen (drawing)\n",
    "turtle.goto(x, y)              # Move to the point (x, y) without drawing\n",
    "turtle.setx(x)                # Set the x-coordinate of the turtle\n",
    "turtle.sety(y)                # Set the y-coordinate of the turtle\n",
    "turtle.setheading(angle)       # Set the turtle's heading to 'angle' degrees\n",
    "turtle.clear()                 # Clear the screen and reset the turtle\n",
    "\n",
    "# Drawing commands\n",
    "turtle.pencolor(\"color\")       # Set the pen color (e.g., \"red\", \"blue\")\n",
    "turtle.pensize(width)          # Set the pen thickness\n",
    "turtle.fillcolor(\"color\")      # Set the fill color for shapes\n",
    "turtle.begin_fill()            # Start filling a shape\n",
    "turtle.end_fill()              # End filling a shape\n",
    "turtle.circle(radius)          # Draw a circle with the given 'radius'\n",
    "turtle.dot(size, color)       # Draw a dot with 'size' and 'color'\n",
    "turtle.write(text, align, font)  # Write 'text' on the screen\n",
    "\n",
    "# Control commands\n",
    "turtle.speed(speed)            # Set the drawing speed (0-10, 0 is fastest)\n",
    "turtle.hideturtle()            # Hide the turtle cursor\n",
    "turtle.showturtle()            # Show the turtle cursor\n",
    "turtle.done()                  # Finish drawing and close the window\n",
    "\n",
    "# Additional commands\n",
    "turtle.bgcolor(\"color\")        # Set the background color\n",
    "turtle.title(\"title\")          # Set the window title\n",
    "\n",
    "# Event handling\n",
    "turtle.onclick(function)        # Execute 'function' when you click the screen\n",
    "\n",
    "# Loops and conditionals can be used for more complex drawings and patterns.\n"
   ]
  },
  {
   "cell_type": "code",
   "execution_count": null,
   "id": "d373c102-fd94-4d91-9d4f-c173b754f8f0",
   "metadata": {},
   "outputs": [],
   "source": []
  }
 ],
 "metadata": {
  "kernelspec": {
   "display_name": "Python 3 (ipykernel)",
   "language": "python",
   "name": "python3"
  },
  "language_info": {
   "codemirror_mode": {
    "name": "ipython",
    "version": 3
   },
   "file_extension": ".py",
   "mimetype": "text/x-python",
   "name": "python",
   "nbconvert_exporter": "python",
   "pygments_lexer": "ipython3",
   "version": "3.8.10"
  }
 },
 "nbformat": 4,
 "nbformat_minor": 5
}
