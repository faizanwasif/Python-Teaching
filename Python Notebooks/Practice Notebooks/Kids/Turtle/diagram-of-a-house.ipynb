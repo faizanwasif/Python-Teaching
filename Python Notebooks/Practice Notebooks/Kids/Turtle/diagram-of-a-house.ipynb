{
 "cells": [
  {
   "cell_type": "code",
   "execution_count": 5,
   "id": "fc20b41d-fea8-4cd1-9afd-4f78a3b66551",
   "metadata": {},
   "outputs": [],
   "source": [
    "from turtle import *"
   ]
  },
  {
   "cell_type": "code",
   "execution_count": 1,
   "id": "ed89929c-d3de-416e-8653-239f83b6f16b",
   "metadata": {},
   "outputs": [],
   "source": [
    "import turtle\n",
    "\n",
    "# Set up the screen\n",
    "window = turtle.Screen()\n",
    "window.bgcolor(\"lightblue\")\n",
    "\n",
    "# Create a turtle object\n",
    "pen = turtle.Turtle()\n",
    "pen.speed(1)  # Set the drawing speed\n",
    "\n",
    "# Draw the house\n",
    "pen.penup()\n",
    "pen.goto(-100, -100)\n",
    "pen.pendown()\n",
    "pen.color(\"red\")\n",
    "pen.begin_fill()\n",
    "\n",
    "# Draw the base of the house\n",
    "for _ in range(4):\n",
    "    pen.forward(200)\n",
    "    pen.left(90)\n",
    "\n",
    "pen.end_fill()\n",
    "\n",
    "# Draw the roof\n",
    "pen.penup()\n",
    "pen.goto(-120, 0)\n",
    "pen.pendown()\n",
    "pen.color(\"brown\")\n",
    "pen.begin_fill()\n",
    "\n",
    "for _ in range(3):\n",
    "    pen.forward(240)\n",
    "    pen.left(120)\n",
    "\n",
    "pen.end_fill()\n",
    "\n",
    "# Draw the door\n",
    "pen.penup()\n",
    "pen.goto(0, -100)\n",
    "pen.pendown()\n",
    "pen.color(\"blue\")\n",
    "pen.begin_fill()\n",
    "pen.goto(0, 0)\n",
    "pen.goto(-20, 0)\n",
    "pen.goto(-20, -100)\n",
    "pen.goto(20, -100)\n",
    "pen.goto(20, 0)\n",
    "pen.goto(0, 0)\n",
    "pen.end_fill()\n",
    "\n",
    "# Close the drawing window on click\n",
    "window.exitonclick()\n"
   ]
  },
  {
   "cell_type": "code",
   "execution_count": null,
   "id": "2f5c066f-415e-4567-9e3c-d1d9ecb25c8b",
   "metadata": {},
   "outputs": [],
   "source": []
  }
 ],
 "metadata": {
  "kernelspec": {
   "display_name": "Python 3 (ipykernel)",
   "language": "python",
   "name": "python3"
  },
  "language_info": {
   "codemirror_mode": {
    "name": "ipython",
    "version": 3
   },
   "file_extension": ".py",
   "mimetype": "text/x-python",
   "name": "python",
   "nbconvert_exporter": "python",
   "pygments_lexer": "ipython3",
   "version": "3.8.10"
  }
 },
 "nbformat": 4,
 "nbformat_minor": 5
}
