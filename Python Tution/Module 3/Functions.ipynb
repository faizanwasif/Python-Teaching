{
 "cells": [
  {
   "cell_type": "markdown",
   "id": "9c82982f-bd65-4d35-8f9b-55d6343fe341",
   "metadata": {},
   "source": [
    "# Defining Functions\n",
    "\n",
    "## What is a Function?\n",
    "\n",
    "    A function is a reusable block of code that performs a specific task.\n",
    "    Functions help in organizing and modularizing your code.\n",
    "\n",
    "### Syntax of Defining a Function\n",
    "\n",
    "To define a function, use the **def** keyword followed by the function name and parentheses. Optionally, you can specify parameters inside the parentheses."
   ]
  },
  {
   "cell_type": "code",
   "execution_count": 1,
   "id": "a3bfeea5-8aaa-4e45-bf08-daaf54cbc6b5",
   "metadata": {},
   "outputs": [
    {
     "name": "stdout",
     "output_type": "stream",
     "text": [
      "Hello, world!\n"
     ]
    }
   ],
   "source": [
    "def greet(): \n",
    "    print(\"Hello, world!\")\n",
    "\n",
    "greet()"
   ]
  },
  {
   "cell_type": "code",
   "execution_count": 2,
   "id": "09391cae-a7e7-48ed-b23e-b30867953367",
   "metadata": {},
   "outputs": [
    {
     "name": "stdout",
     "output_type": "stream",
     "text": [
      "Hello, world!\n"
     ]
    }
   ],
   "source": [
    "greet()"
   ]
  },
  {
   "cell_type": "code",
   "execution_count": 6,
   "id": "a87a1095-d0c2-4353-af78-b81d8a05c549",
   "metadata": {},
   "outputs": [
    {
     "name": "stdout",
     "output_type": "stream",
     "text": [
      "12\n"
     ]
    }
   ],
   "source": [
    "def multiplies(h, w):\n",
    "    area = h * w\n",
    "    print(area)\n",
    "\n",
    "# function calling\n",
    "multiplies(3,4)"
   ]
  },
  {
   "cell_type": "code",
   "execution_count": 8,
   "id": "918d2746-e420-467c-9601-31a0bfd93588",
   "metadata": {},
   "outputs": [
    {
     "name": "stdout",
     "output_type": "stream",
     "text": [
      "25\n",
      "9\n",
      "8\n"
     ]
    }
   ],
   "source": [
    "multiplies(5,5)\n",
    "multiplies(3,3)\n",
    "multiplies(2,4)"
   ]
  },
  {
   "cell_type": "markdown",
   "id": "708d3f73-3b2f-4c87-ad6c-fa70db4da554",
   "metadata": {},
   "source": [
    "### Example 1: Simple Greeting Function"
   ]
  },
  {
   "cell_type": "code",
   "execution_count": 4,
   "id": "632bc5e3-2259-4e33-a15a-60a0efd01767",
   "metadata": {},
   "outputs": [
    {
     "name": "stdout",
     "output_type": "stream",
     "text": [
      "Hello, world!\n"
     ]
    }
   ],
   "source": [
    "def greet():\n",
    "    print(\"Hello, world!\")\n",
    "\n",
    "# Calling the function\n",
    "greet()"
   ]
  },
  {
   "cell_type": "markdown",
   "id": "7c0dbaa7-0c70-43c6-88f8-4bb2b71c0ca5",
   "metadata": {},
   "source": [
    "### Example 2: Function with Parameters and Argument"
   ]
  },
  {
   "cell_type": "code",
   "execution_count": 2,
   "id": "b14b76eb-0f3b-4526-8d89-b9475dab0530",
   "metadata": {},
   "outputs": [
    {
     "name": "stdout",
     "output_type": "stream",
     "text": [
      "Hello, abdulrehman!\n"
     ]
    }
   ],
   "source": [
    "def greet(name):\n",
    "    print(\"Hello, \" + name + \"!\")\n",
    "\n",
    "# Calling the function with an argument\n",
    "greet(\"abdulrehman\")"
   ]
  },
  {
   "cell_type": "markdown",
   "id": "13e9a188-4615-4664-b61c-37c0dbb78043",
   "metadata": {},
   "source": [
    "### Example 3: Function with Multiple Parameters"
   ]
  },
  {
   "cell_type": "code",
   "execution_count": 3,
   "id": "b410f7b7-27c5-4f6e-9804-3a499e4f40de",
   "metadata": {},
   "outputs": [
    {
     "name": "stdout",
     "output_type": "stream",
     "text": [
      "8\n"
     ]
    }
   ],
   "source": [
    "def add(x, y):\n",
    "    result = x + y\n",
    "    print(result)\n",
    "    \n",
    "# Calling the function and storing the result\n",
    "add(5, 3)"
   ]
  },
  {
   "cell_type": "code",
   "execution_count": 10,
   "id": "8f3aa5df-2ffc-425a-920b-1987a795c5d5",
   "metadata": {},
   "outputs": [
    {
     "name": "stdout",
     "output_type": "stream",
     "text": [
      "400\n"
     ]
    }
   ],
   "source": [
    "add(100, 300)"
   ]
  },
  {
   "cell_type": "code",
   "execution_count": 11,
   "id": "bd703f4b-2e09-4451-8925-c223665cf229",
   "metadata": {},
   "outputs": [
    {
     "name": "stdout",
     "output_type": "stream",
     "text": [
      "43\n"
     ]
    }
   ],
   "source": [
    "add(3, 40)"
   ]
  },
  {
   "cell_type": "code",
   "execution_count": null,
   "id": "52f1f13e-4790-4ba5-8d46-0d77a60997e2",
   "metadata": {},
   "outputs": [],
   "source": []
  }
 ],
 "metadata": {
  "kernelspec": {
   "display_name": "Python 3 (ipykernel)",
   "language": "python",
   "name": "python3"
  },
  "language_info": {
   "codemirror_mode": {
    "name": "ipython",
    "version": 3
   },
   "file_extension": ".py",
   "mimetype": "text/x-python",
   "name": "python",
   "nbconvert_exporter": "python",
   "pygments_lexer": "ipython3",
   "version": "3.8.10"
  }
 },
 "nbformat": 4,
 "nbformat_minor": 5
}
