{
 "cells": [
  {
   "cell_type": "markdown",
   "id": "2e53cdb5-94ba-492a-a18e-ce024ef6fb7c",
   "metadata": {},
   "source": [
    "# Reusing Code with Functions\n",
    "\n",
    "## The Importance of Code Reusability\n",
    "\n",
    "    Code reusability is a fundamental concept in programming, allowing you to avoid duplication and improve maintainability.\n",
    "    Functions are a key tool for reusing code because you can define a task once and use it in multiple places.\n",
    "\n",
    "### Example 1: Creating a Reusable Function"
   ]
  },
  {
   "cell_type": "code",
   "execution_count": null,
   "id": "33a81f37-48b6-46b1-9513-eaca987fbdee",
   "metadata": {},
   "outputs": [],
   "source": [
    "def calculate_area(length, width):\n",
    "    return length * width"
   ]
  },
  {
   "cell_type": "markdown",
   "id": "c4f6c970-940e-43f2-a256-6751c5788626",
   "metadata": {},
   "source": [
    "    In this example, we define a calculate_area function that calculates the area of a rectangular room.\n",
    "\n",
    "    By using this function, we can easily calculate the area of different rooms by providing their dimensions as arguments.\n",
    "\n",
    "### Example 2: Reusing Functions for Different Inputs\n",
    "\n"
   ]
  },
  {
   "cell_type": "code",
   "execution_count": 1,
   "id": "0a689179-fa75-4bb3-a753-e3f81ee1b60d",
   "metadata": {},
   "outputs": [
    {
     "name": "stdout",
     "output_type": "stream",
     "text": [
      "Hello, Alice!\n",
      "Hello, Bob!\n",
      "Hello, Charlie!\n"
     ]
    }
   ],
   "source": [
    "def greet(name):\n",
    "    print(\"Hello, \" + name + \"!\")\n",
    "\n",
    "greet(\"Alice\")\n",
    "greet(\"Bob\")\n",
    "greet(\"Charlie\")"
   ]
  },
  {
   "cell_type": "markdown",
   "id": "4c4f3994-669f-4747-8e1b-4e751a89e313",
   "metadata": {},
   "source": [
    "    The greet function is reused multiple times with different names as input.\n",
    "    This demonstrates how functions enable code reuse for similar tasks.\n",
    "\n",
    "### Example 3: Modular Code Reuse"
   ]
  },
  {
   "cell_type": "code",
   "execution_count": null,
   "id": "5846e0e8-f39e-4804-a32d-12e256f06ec9",
   "metadata": {},
   "outputs": [],
   "source": [
    "def calculate_area(length, width):\n",
    "    return length * width\n",
    "\n",
    "def calculate_volume(length, width, height):\n",
    "    return length * width * height\n",
    "\n",
    "room_area = calculate_area(5, 3)\n",
    "room_volume = calculate_volume(5, 3, 2)\n",
    "print(room_area, room_volume)"
   ]
  },
  {
   "cell_type": "code",
   "execution_count": null,
   "id": "f34ce640-10a9-4971-8d44-0f1ab1f691ef",
   "metadata": {},
   "outputs": [],
   "source": [
    "# Different Fucntion Combined togther = a module"
   ]
  }
 ],
 "metadata": {
  "kernelspec": {
   "display_name": "Python 3 (ipykernel)",
   "language": "python",
   "name": "python3"
  },
  "language_info": {
   "codemirror_mode": {
    "name": "ipython",
    "version": 3
   },
   "file_extension": ".py",
   "mimetype": "text/x-python",
   "name": "python",
   "nbconvert_exporter": "python",
   "pygments_lexer": "ipython3",
   "version": "3.8.10"
  }
 },
 "nbformat": 4,
 "nbformat_minor": 5
}
