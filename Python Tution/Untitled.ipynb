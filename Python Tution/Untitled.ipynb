{
 "cells": [
  {
   "cell_type": "code",
   "execution_count": 1,
   "id": "cf268f11-43e4-454b-b8fa-72b5c3c6ef64",
   "metadata": {},
   "outputs": [
    {
     "name": "stdout",
     "output_type": "stream",
     "text": [
      "4\n"
     ]
    }
   ],
   "source": [
    "print(2**2)"
   ]
  },
  {
   "cell_type": "code",
   "execution_count": 3,
   "id": "5d97e031-e5b4-427b-ade7-fd97b03ff291",
   "metadata": {},
   "outputs": [
    {
     "name": "stdout",
     "output_type": "stream",
     "text": [
      "<class 'float'>\n"
     ]
    }
   ],
   "source": [
    "val = 9340942039483529584890542.9472890905902459270594279054720507470294975\n",
    "print(type(val))"
   ]
  },
  {
   "cell_type": "code",
   "execution_count": null,
   "id": "5f8d0a3e-5794-41a9-bdd3-55dfc0d0e0af",
   "metadata": {},
   "outputs": [],
   "source": []
  }
 ],
 "metadata": {
  "kernelspec": {
   "display_name": "Python 3 (ipykernel)",
   "language": "python",
   "name": "python3"
  },
  "language_info": {
   "codemirror_mode": {
    "name": "ipython",
    "version": 3
   },
   "file_extension": ".py",
   "mimetype": "text/x-python",
   "name": "python",
   "nbconvert_exporter": "python",
   "pygments_lexer": "ipython3",
   "version": "3.8.10"
  }
 },
 "nbformat": 4,
 "nbformat_minor": 5
}
