{
 "cells": [
  {
   "cell_type": "markdown",
   "id": "88bcd4cf-4a56-480b-b8da-a469422fcb7a",
   "metadata": {},
   "source": [
    "# Loops in Python: for and while"
   ]
  },
  {
   "cell_type": "markdown",
   "id": "1c988a00-785d-4427-9cb9-d12aff9fdb84",
   "metadata": {},
   "source": [
    "### Introduction\n",
    "\n",
    "Loops are essential in programming for executing a block of code repeatedly. Python provides two primary types of loops: for loops and while loops. In this notebook, we will explore how to use these loops effectively, their syntax, and common use cases."
   ]
  },
  {
   "cell_type": "markdown",
   "id": "45636165-1169-459a-878c-efaa4f871fb4",
   "metadata": {},
   "source": [
    "### for Loops\n",
    "\n",
    "A for loop is used to iterate over a sequence (such as a list, tuple, string, or range) and execute a block of code for each item in the sequence. The basic structure of a for loop is as follows:\n",
    "\n",
    "for item in sequence:\n",
    "<br>    # Code to execute for each item\n"
   ]
  },
  {
   "cell_type": "markdown",
   "id": "c2ccc3da-1a9c-4612-8e11-0cb48fa6bc11",
   "metadata": {},
   "source": [
    "### Example 1: Iterating through a List"
   ]
  },
  {
   "cell_type": "code",
   "execution_count": 2,
   "id": "7af9df1f-9c5d-427d-82e6-2f905ad5ae2e",
   "metadata": {},
   "outputs": [
    {
     "name": "stdout",
     "output_type": "stream",
     "text": [
      "apple\n",
      "banana\n",
      "cherry\n"
     ]
    }
   ],
   "source": [
    "fruits = [\"apple\", \"banana\", \"cherry\"]\n",
    "\n",
    "for x in fruits:\n",
    "    print(x)\n",
    "\n",
    "\n",
    "# go to   https://pythontutor.com/visualize.html#mode=edit   for better understaning"
   ]
  },
  {
   "cell_type": "markdown",
   "id": "ae17c05a-fc1a-4c4c-819d-5a334bfade3a",
   "metadata": {},
   "source": [
    "### Example 2: Using range()"
   ]
  },
  {
   "cell_type": "code",
   "execution_count": 3,
   "id": "7e5b0ceb-41b5-41b6-a504-9f7c4eecf9b9",
   "metadata": {},
   "outputs": [
    {
     "name": "stdout",
     "output_type": "stream",
     "text": [
      "1\n",
      "2\n",
      "3\n",
      "4\n",
      "5\n",
      "6\n",
      "7\n",
      "8\n",
      "9\n"
     ]
    }
   ],
   "source": [
    "for number in range(1, 10):\n",
    "    print(number)\n",
    "\n",
    "# This for loop uses the range() function to generate a sequence of numbers from 1 to 4 and prints them."
   ]
  },
  {
   "cell_type": "markdown",
   "id": "0050bfc5-709f-47da-a981-1298a68f1a1a",
   "metadata": {},
   "source": [
    "# while Loops\n",
    "\n",
    "A while loop repeatedly executes a block of code as long as a specified condition is True. The basic structure of a while loop is as follows:\n",
    "\n",
    "while condition:\n",
    "<br>    # Code to execute while the condition is True\n"
   ]
  },
  {
   "cell_type": "markdown",
   "id": "850c34cb-0309-44f1-95b5-5335f61d2812",
   "metadata": {},
   "source": [
    "### Example 3: Basic while Loop"
   ]
  },
  {
   "cell_type": "code",
   "execution_count": 3,
   "id": "409f0753-c7df-4636-bbfb-4c212fce74cd",
   "metadata": {},
   "outputs": [
    {
     "name": "stdout",
     "output_type": "stream",
     "text": [
      "0\n",
      "1\n",
      "2\n",
      "3\n",
      "4\n"
     ]
    }
   ],
   "source": [
    "count = 0\n",
    "\n",
    "while count < 5:\n",
    "    print(count)\n",
    "    count += 1\n"
   ]
  },
  {
   "cell_type": "markdown",
   "id": "514ab59e-bba7-4a27-a1e8-22f5ecbafce2",
   "metadata": {},
   "source": [
    "# Loop Control Statements\n",
    "\n",
    "Python provides loop control statements to control the flow of loops. Common control statements include **break** and **continue**. We'll briefly cover them in this notebook."
   ]
  },
  {
   "cell_type": "markdown",
   "id": "b5077211-efdd-4757-88ab-9cb862cd5317",
   "metadata": {},
   "source": [
    "### Example 4: Using break"
   ]
  },
  {
   "cell_type": "code",
   "execution_count": 4,
   "id": "523cf6e8-5840-44c8-83a2-85dbf3f8b202",
   "metadata": {},
   "outputs": [
    {
     "name": "stdout",
     "output_type": "stream",
     "text": [
      "apple\n"
     ]
    }
   ],
   "source": [
    "fruits = [\"apple\", \"banana\",\"cherry\"]\n",
    "\n",
    "for fruit in fruits:\n",
    "    \n",
    "    if fruit == \"banana\":\n",
    "        break\n",
    "        \n",
    "    print(fruit)\n",
    "\n",
    "# This for loop uses break to exit the loop when it encounters the \"banana\" element."
   ]
  },
  {
   "cell_type": "markdown",
   "id": "407b88a2-ee60-4d02-b97a-fe88d64fc3db",
   "metadata": {},
   "source": [
    "### Example 5: Using continue"
   ]
  },
  {
   "cell_type": "code",
   "execution_count": 3,
   "id": "79d8e4ba-b4b1-421c-9324-6cb0b60f0e05",
   "metadata": {},
   "outputs": [
    {
     "name": "stdout",
     "output_type": "stream",
     "text": [
      "apple\n",
      "cherry\n"
     ]
    }
   ],
   "source": [
    "fruits = [\"apple\", \"banana\", \"cherry\"]\n",
    "\n",
    "for fruit in fruits:\n",
    "    if fruit == \"banana\":\n",
    "        continue\n",
    "    print(fruit)\n",
    "\n",
    "# This for loop uses continue to skip the \"banana\" element and continue with the next iteration."
   ]
  },
  {
   "cell_type": "markdown",
   "id": "8b6f77e4-e857-4065-ba95-08aeea389754",
   "metadata": {},
   "source": [
    "## Conclusion\n",
    "\n",
    "Loops are powerful tools for automating repetitive tasks and iterating through data. In this notebook, we've covered the basics of for and while loops in Python, along with some control statements. As you become more comfortable with loops, you can use them to solve a wide range of programming problems.\n",
    "\n",
    "Feel free to experiment with different sequences and conditions to practice your loop skills."
   ]
  }
 ],
 "metadata": {
  "kernelspec": {
   "display_name": "Python 3 (ipykernel)",
   "language": "python",
   "name": "python3"
  },
  "language_info": {
   "codemirror_mode": {
    "name": "ipython",
    "version": 3
   },
   "file_extension": ".py",
   "mimetype": "text/x-python",
   "name": "python",
   "nbconvert_exporter": "python",
   "pygments_lexer": "ipython3",
   "version": "3.8.10"
  }
 },
 "nbformat": 4,
 "nbformat_minor": 5
}
