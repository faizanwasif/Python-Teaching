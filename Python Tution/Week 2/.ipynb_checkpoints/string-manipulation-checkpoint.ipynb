{
 "cells": [
  {
   "cell_type": "markdown",
   "id": "8b593b48-fb26-4a5f-8e0e-023d2924a7da",
   "metadata": {},
   "source": [
    "# Strings Manipulation"
   ]
  },
  {
   "cell_type": "markdown",
   "id": "23c458c7-dbcd-4ce0-8bcd-1f77e7daaa33",
   "metadata": {},
   "source": [
    "### Concatenation: Combining strings using the + operator."
   ]
  },
  {
   "cell_type": "code",
   "execution_count": 2,
   "id": "e4b28454-ff2b-480c-b7f7-d5c325598c80",
   "metadata": {},
   "outputs": [
    {
     "name": "stdout",
     "output_type": "stream",
     "text": [
      "Hello World\n"
     ]
    }
   ],
   "source": [
    "str1 = \"Hello\"\n",
    "str2 = \"World\"\n",
    "\n",
    "result = str1 + \" \" + str2\n",
    "\n",
    "print(result)"
   ]
  },
  {
   "cell_type": "markdown",
   "id": "6a1bd813-e62f-4e64-b440-2f416a7bbf94",
   "metadata": {},
   "source": [
    "### String Interpolation: Embedding variables or expressions within strings.\n",
    "\n",
    "###### *Interpolation = To inject, or the insertion of something of a different nature into something else."
   ]
  },
  {
   "cell_type": "code",
   "execution_count": 5,
   "id": "850c87bc-5141-4695-88f7-08e4444891e9",
   "metadata": {},
   "outputs": [
    {
     "name": "stdout",
     "output_type": "stream",
     "text": [
      "My name is {name} and I am {age} years old.\n"
     ]
    }
   ],
   "source": [
    "name = \"Hashir\"\n",
    "age = 30\n",
    "\n",
    "message = f\"My name is {name} and I am {age} years old.\"\n",
    "\n",
    "print(message)"
   ]
  },
  {
   "cell_type": "markdown",
   "id": "7419f0e2-f9b0-474d-a465-b75dab86639f",
   "metadata": {},
   "source": [
    "### String Slicing: Extracting substrings from a string using index slicing."
   ]
  },
  {
   "cell_type": "code",
   "execution_count": 3,
   "id": "3ab3b839-73df-4877-bdf8-42df43a4b3bc",
   "metadata": {},
   "outputs": [
    {
     "name": "stdout",
     "output_type": "stream",
     "text": [
      "is \n"
     ]
    }
   ],
   "source": [
    "text = \"Python is awesome\"\n",
    "\n",
    "sub = text[7:10]  \n",
    "\n",
    "print(sub)"
   ]
  },
  {
   "cell_type": "markdown",
   "id": "aa53c294-239e-472b-b0f7-0a42c6b25b5a",
   "metadata": {},
   "source": [
    "### String Methods:\n",
    "\n",
    "#####    str.upper(): Converts the string to uppercase.\n",
    "#####    str.lower(): Converts the string to lowercase.\n",
    "#####    str.strip(): Removes leading and trailing whitespace.\n",
    "#####    str.replace(old, new): Replaces occurrences of old with new.\n",
    "#####    str.split(delimiter): Splits the string into a list of substrings based on the delimiter.\n",
    "#####    str.join(iterable): Joins a list of strings using the original string as a separator."
   ]
  },
  {
   "cell_type": "code",
   "execution_count": 1,
   "id": "675eb58b-e1de-43f6-b11d-79d66556e153",
   "metadata": {},
   "outputs": [],
   "source": [
    "text = \"   Python is easy to learn.   \""
   ]
  },
  {
   "cell_type": "code",
   "execution_count": 2,
   "id": "1e740d55-9094-44d3-93b0-77e58044a18b",
   "metadata": {},
   "outputs": [
    {
     "name": "stdout",
     "output_type": "stream",
     "text": [
      "   PYTHON IS EASY TO LEARN.   \n"
     ]
    }
   ],
   "source": [
    "text_upper = text.upper()\n",
    "print(text_upper)"
   ]
  },
  {
   "cell_type": "code",
   "execution_count": 3,
   "id": "a80153ad-73a5-4acd-857f-0a62ddf97d26",
   "metadata": {},
   "outputs": [
    {
     "name": "stdout",
     "output_type": "stream",
     "text": [
      "   python is easy to learn.   \n"
     ]
    }
   ],
   "source": [
    "text_lower = text.lower()\n",
    "print(text_lower)"
   ]
  },
  {
   "cell_type": "code",
   "execution_count": 4,
   "id": "dd95cfd2-bbd1-4104-ae47-8809e0c189e1",
   "metadata": {},
   "outputs": [
    {
     "name": "stdout",
     "output_type": "stream",
     "text": [
      "Python is easy to learn.\n"
     ]
    }
   ],
   "source": [
    "# removes leading and trailing spaces\n",
    "stripped_text = text.strip()\n",
    "print(stripped_text)"
   ]
  },
  {
   "cell_type": "code",
   "execution_count": 5,
   "id": "2d8968d6-d21c-42f0-890f-4c60ebeffc96",
   "metadata": {},
   "outputs": [
    {
     "name": "stdout",
     "output_type": "stream",
     "text": [
      "   Python is powerful to learn.   \n"
     ]
    }
   ],
   "source": [
    "replaced_text = text.replace(\"easy\", \"powerful\")\n",
    "print(replaced_text)"
   ]
  },
  {
   "cell_type": "code",
   "execution_count": 8,
   "id": "6f6ab0ec-1754-46c2-855b-75455a88f404",
   "metadata": {},
   "outputs": [
    {
     "name": "stdout",
     "output_type": "stream",
     "text": [
      "['Python', 'is', 'easy', 'to', 'learn.']\n"
     ]
    }
   ],
   "source": [
    "words = text.split()\n",
    "print(words)"
   ]
  },
  {
   "cell_type": "code",
   "execution_count": 9,
   "id": "54b59363-3e84-4247-ba02-bd09c0bc5037",
   "metadata": {},
   "outputs": [
    {
     "name": "stdout",
     "output_type": "stream",
     "text": [
      "Python is easy to learn.\n"
     ]
    }
   ],
   "source": [
    "new_text = \" \".join(words)\n",
    "print(new_text)"
   ]
  },
  {
   "cell_type": "code",
   "execution_count": 10,
   "id": "a5384b38-9730-4f26-b860-987e72a1d8fd",
   "metadata": {},
   "outputs": [],
   "source": [
    "message = [\"hello\", \"dear\", \"students\"]"
   ]
  },
  {
   "cell_type": "code",
   "execution_count": 13,
   "id": "e848b4ae-5c2c-4d7d-aa99-3d0f90d4e11b",
   "metadata": {},
   "outputs": [
    {
     "name": "stdout",
     "output_type": "stream",
     "text": [
      "hello dear students\n"
     ]
    }
   ],
   "source": [
    "new_message = \" \".join(message)\n",
    "print(new_message)"
   ]
  },
  {
   "cell_type": "code",
   "execution_count": null,
   "id": "a1a9260a-e1c4-40f1-80b9-490159bcc65c",
   "metadata": {},
   "outputs": [],
   "source": []
  }
 ],
 "metadata": {
  "kernelspec": {
   "display_name": "Python 3 (ipykernel)",
   "language": "python",
   "name": "python3"
  },
  "language_info": {
   "codemirror_mode": {
    "name": "ipython",
    "version": 3
   },
   "file_extension": ".py",
   "mimetype": "text/x-python",
   "name": "python",
   "nbconvert_exporter": "python",
   "pygments_lexer": "ipython3",
   "version": "3.8.10"
  }
 },
 "nbformat": 4,
 "nbformat_minor": 5
}
