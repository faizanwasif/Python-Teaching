{
 "cells": [
  {
   "cell_type": "markdown",
   "id": "18592cdd-ee56-468a-bf7f-b97e9665588b",
   "metadata": {},
   "source": [
    "# Assignment, Equality, and Inequality Operators in Python\n",
    "\n",
    "## Introduction\n",
    "\n",
    "In Python, the assignment operator (=) is used to assign a value to a variable. The equality operator (==) is used to compare whether two values are equal, and the inequality operator (!=) is used to check if two values are not equal. In this notebook, we'll explore how these operators work.\n",
    "Assignment Operator (=)\n",
    "\n",
    "The assignment operator (=) is used to assign a value to a variable.\n",
    "\n",
    "### Example"
   ]
  },
  {
   "cell_type": "code",
   "execution_count": 1,
   "id": "ca98de92-e91f-4c58-9a2d-3f17c3f520ba",
   "metadata": {},
   "outputs": [],
   "source": [
    "age = 42"
   ]
  },
  {
   "cell_type": "markdown",
   "id": "472944f4-b3c8-4960-a88b-40a18d640db5",
   "metadata": {},
   "source": [
    "## Equality Operator (==)\n",
    "\n",
    "The equality operator (==) is used to check if two values are equal. It returns True if the values are equal and False otherwise.\n",
    "\n",
    "### Example:"
   ]
  },
  {
   "cell_type": "code",
   "execution_count": 3,
   "id": "421faf58-039f-49cd-9fd0-d0c48ee0d1a9",
   "metadata": {},
   "outputs": [
    {
     "name": "stdout",
     "output_type": "stream",
     "text": [
      "False\n"
     ]
    }
   ],
   "source": [
    "print( 5 == '5')"
   ]
  },
  {
   "cell_type": "markdown",
   "id": "d2603eff-1d78-488b-b0cd-aa3e3b2ecc85",
   "metadata": {},
   "source": [
    "## Inequality Operator (!=)\n",
    "\n",
    "The inequality operator (!=) is used to check if two values are not equal. It returns True if the values are not equal and False otherwise.\n",
    "\n",
    "### Example:"
   ]
  },
  {
   "cell_type": "code",
   "execution_count": 4,
   "id": "fe4f6725-3b03-49bf-873a-4bcd16d04aa4",
   "metadata": {},
   "outputs": [
    {
     "name": "stdout",
     "output_type": "stream",
     "text": [
      "True\n"
     ]
    }
   ],
   "source": [
    "print( 5 != '5')"
   ]
  },
  {
   "cell_type": "markdown",
   "id": "9b5905e6-d819-4b99-9e5f-5d28df865274",
   "metadata": {},
   "source": [
    "## Conclusion\n",
    "\n",
    "Understanding the assignment operator (=) is fundamental for assigning values to variables, while the equality (==) and inequality (!=) operators are essential for making comparisons in Python. These operators play a crucial role in decision-making within your programs.\n",
    "\n",
    "Feel free to experiment with different assignments and comparisons to practice and solidify your understanding."
   ]
  },
  {
   "cell_type": "code",
   "execution_count": null,
   "id": "ce080e7a-3d32-4c81-9bd5-f2680acc3e65",
   "metadata": {},
   "outputs": [],
   "source": []
  }
 ],
 "metadata": {
  "kernelspec": {
   "display_name": "Python 3 (ipykernel)",
   "language": "python",
   "name": "python3"
  },
  "language_info": {
   "codemirror_mode": {
    "name": "ipython",
    "version": 3
   },
   "file_extension": ".py",
   "mimetype": "text/x-python",
   "name": "python",
   "nbconvert_exporter": "python",
   "pygments_lexer": "ipython3",
   "version": "3.8.10"
  }
 },
 "nbformat": 4,
 "nbformat_minor": 5
}
