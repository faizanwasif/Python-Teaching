{
 "cells": [
  {
   "cell_type": "markdown",
   "id": "877386c8-abb4-4853-8819-b6aab66b6e78",
   "metadata": {},
   "source": [
    "# Python Conditional Statements: if, elif, and else"
   ]
  },
  {
   "cell_type": "markdown",
   "id": "a8b5c209-8ff6-4680-9c98-40463ccdc86b",
   "metadata": {},
   "source": [
    "### Introduction\n",
    "\n",
    "Conditional statements are fundamental in programming. They allow you to control the flow of your code based on certain conditions. Python provides three primary conditional statements: if, elif (short for \"else if\"), and else. In this notebook, we will explore how these statements work and how to use them effectively."
   ]
  },
  {
   "cell_type": "markdown",
   "id": "1b506497-bc30-47da-8e26-5d5356b8d50f",
   "metadata": {},
   "source": [
    "### if Statement\n",
    "\n",
    "The if statement is used to execute a block of code only if a specified condition is **True**. It has the following structure:\n",
    "\n",
    "if **condition**:\n",
    "    <br>#      Code to execute if the condition is True\n"
   ]
  },
  {
   "cell_type": "code",
   "execution_count": 3,
   "id": "c2de89e2-b52e-491f-9a83-b6267ffaa559",
   "metadata": {},
   "outputs": [],
   "source": [
    "x = 6\n",
    "\n",
    "if x == 5:\n",
    "    print(\"x is equal to 5\")\n"
   ]
  },
  {
   "cell_type": "markdown",
   "id": "909c6504-33b5-435e-b550-c65fe80b2521",
   "metadata": {},
   "source": [
    "### if with else\n",
    "\n",
    "You can also include an else block to specify what should happen when the condition is **False**:"
   ]
  },
  {
   "cell_type": "code",
   "execution_count": 4,
   "id": "9cc13c94-c904-4a44-b07f-974a0934b892",
   "metadata": {},
   "outputs": [
    {
     "name": "stdout",
     "output_type": "stream",
     "text": [
      "x is not greater than 5\n"
     ]
    }
   ],
   "source": [
    "x = 3\n",
    "\n",
    "if x > 5:\n",
    "    print(\"x is greater than 5\")\n",
    "    \n",
    "else:\n",
    "    print(\"x is not greater than 5\")"
   ]
  },
  {
   "cell_type": "markdown",
   "id": "6f76babe-3b0c-49bc-a8b3-bdac934e148c",
   "metadata": {},
   "source": [
    "### elif Statement\n",
    "\n",
    "The elif statement allows you to check additional conditions if the initial if condition is False. It is used when you have multiple conditions to test. The structure looks like this:\n",
    "\n",
    "if condition1:\n",
    "<br>    # Code to execute if condition1 is True <br>\n",
    "elif condition2:\n",
    "<br>    # Code to execute if condition2 is True <br>\n",
    "else:\n",
    "<br>    # Code to execute if no conditions are True\n"
   ]
  },
  {
   "cell_type": "code",
   "execution_count": 5,
   "id": "f82c3aa0-ab5b-4f5a-adfe-bec4fc152aaf",
   "metadata": {},
   "outputs": [
    {
     "name": "stdout",
     "output_type": "stream",
     "text": [
      "x is equal to 5\n"
     ]
    }
   ],
   "source": [
    "x = 5\n",
    "if x > 5:\n",
    "    print(\"x is greater than 5\")\n",
    "\n",
    "elif x < 5:\n",
    "    print(\"x is less than 5\")\n",
    "    \n",
    "else:\n",
    "    print(\"x is equal to 5\")\n"
   ]
  },
  {
   "cell_type": "markdown",
   "id": "b2ffb3ed-a76b-441e-96e1-db2725440b3e",
   "metadata": {},
   "source": [
    "### Conclusion\n",
    "\n",
    "Conditional statements are crucial for adding logic and decision-making to your Python programs. They allow your code to respond dynamically to different situations and inputs.\n",
    "\n",
    "In this notebook, we've covered the basic usage of if, elif, and else statements. As you become more comfortable with these statements, you can use them to create complex logic and control the flow of your programs effectively.\n",
    "\n",
    "Feel free to experiment with different conditions and statements to further solidify your understanding."
   ]
  },
  {
   "cell_type": "code",
   "execution_count": 3,
   "id": "e1414d74-59cb-4390-81d3-f3778fdb88c5",
   "metadata": {},
   "outputs": [
    {
     "ename": "SyntaxError",
     "evalue": "invalid syntax (3206125945.py, line 1)",
     "output_type": "error",
     "traceback": [
      "\u001b[0;36m  Cell \u001b[0;32mIn[3], line 1\u001b[0;36m\u001b[0m\n\u001b[0;31m    < smaller than\u001b[0m\n\u001b[0m    ^\u001b[0m\n\u001b[0;31mSyntaxError\u001b[0m\u001b[0;31m:\u001b[0m invalid syntax\n"
     ]
    }
   ],
   "source": [
    "< smaller than\n",
    "> greater than\n",
    "<= smaller than and eqaul to\n",
    ">= greater than and equal to"
   ]
  },
  {
   "cell_type": "code",
   "execution_count": null,
   "id": "71d764eb-fbeb-40f0-bed8-7ed87734082f",
   "metadata": {},
   "outputs": [],
   "source": []
  }
 ],
 "metadata": {
  "kernelspec": {
   "display_name": "Python 3 (ipykernel)",
   "language": "python",
   "name": "python3"
  },
  "language_info": {
   "codemirror_mode": {
    "name": "ipython",
    "version": 3
   },
   "file_extension": ".py",
   "mimetype": "text/x-python",
   "name": "python",
   "nbconvert_exporter": "python",
   "pygments_lexer": "ipython3",
   "version": "3.8.10"
  }
 },
 "nbformat": 4,
 "nbformat_minor": 5
}
