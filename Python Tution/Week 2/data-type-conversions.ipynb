{
 "cells": [
  {
   "cell_type": "markdown",
   "id": "fa357d7b-7b60-4173-a4fe-acfe91ac9a47",
   "metadata": {},
   "source": [
    "# Data Type Conversions in Python\n",
    "## Introduction\n",
    "\n",
    "Data type conversions, also known as type casting, allow you to change the data type of a variable from one type to another. Python provides various functions and methods to perform these conversions. In this notebook, we'll explore different types of data type conversions in Python.\n",
    "\n",
    "## Implicit vs. Explicit Conversions\n",
    "\n",
    "### Implicit Conversions\n",
    "\n",
    "Implicit conversions, also known as automatic type conversions, occur automatically when Python converts one data type to another without explicit user intervention. These conversions are typically safe and do not result in data loss.\n",
    "\n",
    "### Explicit Conversions\n",
    "\n",
    "Explicit conversions, also known as type casting, require the user to specify the desired data type. These conversions may result in data loss if not done carefully.\n",
    "Common Data Type Conversions\n",
    "Integer to Float\n",
    "\n",
    "You can convert an integer to a float using explicit conversion."
   ]
  },
  {
   "cell_type": "code",
   "execution_count": 1,
   "id": "bf5f79f8-21c6-4071-83a0-2f2e070c4617",
   "metadata": {},
   "outputs": [],
   "source": [
    "int_num = 42\n",
    "float_num = float(int_num)"
   ]
  },
  {
   "cell_type": "markdown",
   "id": "ec7edf19-48db-4e6c-9381-12e494658fdb",
   "metadata": {},
   "source": [
    "### Float to Integer\n",
    "\n",
    "You can convert a float to an integer using explicit conversion. Be aware that the decimal part will be truncated."
   ]
  },
  {
   "cell_type": "code",
   "execution_count": 2,
   "id": "81325e46-702a-44d9-8c36-3abb12c11855",
   "metadata": {},
   "outputs": [
    {
     "name": "stdout",
     "output_type": "stream",
     "text": [
      "3\n"
     ]
    }
   ],
   "source": [
    "value = 3.5\n",
    "\n",
    "print(int(3.6))\n"
   ]
  },
  {
   "cell_type": "code",
   "execution_count": 4,
   "id": "f4f647f2-fa09-4b01-99eb-32abe2e64568",
   "metadata": {},
   "outputs": [
    {
     "name": "stdout",
     "output_type": "stream",
     "text": [
      "3\n"
     ]
    }
   ],
   "source": [
    "float_num = 3.2 # int = simple numbers\n",
    "\n",
    "int_num = int(float_num)\n",
    "\n",
    "print(int_num)"
   ]
  },
  {
   "cell_type": "markdown",
   "id": "566b7a27-bf98-48ed-a87b-f6d637d020cc",
   "metadata": {},
   "source": [
    "### Integer to String\n",
    "\n",
    "You can convert an integer to a string using explicit conversion."
   ]
  },
  {
   "cell_type": "code",
   "execution_count": 6,
   "id": "a9f96e4f-0c45-4949-81d2-f6eda00f1f5c",
   "metadata": {},
   "outputs": [
    {
     "name": "stdout",
     "output_type": "stream",
     "text": [
      "42\n"
     ]
    }
   ],
   "source": [
    "str_num = \"42\"\n",
    "\n",
    "int_num = int(str_num)\n",
    "\n",
    "print(int_num)"
   ]
  },
  {
   "cell_type": "code",
   "execution_count": 7,
   "id": "eefeded7-a93b-4602-9b68-1f7053817a3f",
   "metadata": {},
   "outputs": [
    {
     "ename": "ValueError",
     "evalue": "invalid literal for int() with base 10: 'a'",
     "output_type": "error",
     "traceback": [
      "\u001b[0;31m---------------------------------------------------------------------------\u001b[0m",
      "\u001b[0;31mValueError\u001b[0m                                Traceback (most recent call last)",
      "Cell \u001b[0;32mIn[7], line 2\u001b[0m\n\u001b[1;32m      1\u001b[0m num \u001b[38;5;241m=\u001b[39m \u001b[38;5;124m\"\u001b[39m\u001b[38;5;124ma\u001b[39m\u001b[38;5;124m\"\u001b[39m\n\u001b[0;32m----> 2\u001b[0m int_num \u001b[38;5;241m=\u001b[39m \u001b[38;5;28;43mint\u001b[39;49m\u001b[43m(\u001b[49m\u001b[43mnum\u001b[49m\u001b[43m)\u001b[49m\n",
      "\u001b[0;31mValueError\u001b[0m: invalid literal for int() with base 10: 'a'"
     ]
    }
   ],
   "source": [
    "num = \"a\"\n",
    "int_num = int(num)"
   ]
  },
  {
   "cell_type": "markdown",
   "id": "72667aa0-e448-48ca-917b-300cd70b6d2f",
   "metadata": {},
   "source": [
    "### Float to String\n",
    "\n",
    "You can convert a float to a string using explicit conversion.\n"
   ]
  },
  {
   "cell_type": "code",
   "execution_count": 8,
   "id": "3db2a923-5c85-4bf4-9808-4db7cde61bd4",
   "metadata": {},
   "outputs": [],
   "source": [
    "float_num = 3.14\n",
    "\n",
    "str_num = str(float_num)\n"
   ]
  },
  {
   "cell_type": "markdown",
   "id": "1b1fda5a-6acb-4a2f-9d6d-c94337445d3f",
   "metadata": {},
   "source": [
    "### String to Float\n",
    "\n",
    "You can convert a string to a float using explicit conversion if the string contains a valid floating-point number."
   ]
  },
  {
   "cell_type": "code",
   "execution_count": 9,
   "id": "093eee25-6dda-4b8b-b225-e842492e8f68",
   "metadata": {},
   "outputs": [],
   "source": [
    "str_num = \"3.14\"\n",
    "\n",
    "float_num = float(str_num)\n"
   ]
  },
  {
   "cell_type": "markdown",
   "id": "bb1df7de-49e4-4984-a14f-16d2d4b279de",
   "metadata": {},
   "source": [
    "## Conclusion\n",
    "\n",
    "Data type conversions are essential in Python to work with different data types and perform operations effectively. Understanding when and how to use implicit and explicit conversions is crucial for writing robust and flexible Python programs.\n",
    "\n",
    "Feel free to experiment with different data type conversions to practice and solidify your understanding."
   ]
  },
  {
   "cell_type": "code",
   "execution_count": 3,
   "id": "cb86fa5a-3312-4d14-b4db-2be64f82a9bb",
   "metadata": {},
   "outputs": [
    {
     "name": "stdout",
     "output_type": "stream",
     "text": [
      "3\n"
     ]
    }
   ],
   "source": [
    "value = 3.5\n",
    "\n",
    "print(int(value))"
   ]
  },
  {
   "cell_type": "code",
   "execution_count": 7,
   "id": "84d3f788-e2dc-4546-8083-f9b7cb6b8075",
   "metadata": {},
   "outputs": [
    {
     "ename": "ValueError",
     "evalue": "invalid literal for int() with base 10: 'abc'",
     "output_type": "error",
     "traceback": [
      "\u001b[0;31m---------------------------------------------------------------------------\u001b[0m",
      "\u001b[0;31mValueError\u001b[0m                                Traceback (most recent call last)",
      "Cell \u001b[0;32mIn[7], line 3\u001b[0m\n\u001b[1;32m      1\u001b[0m value \u001b[38;5;241m=\u001b[39m \u001b[38;5;124m\"\u001b[39m\u001b[38;5;124mabc\u001b[39m\u001b[38;5;124m\"\u001b[39m\n\u001b[0;32m----> 3\u001b[0m \u001b[38;5;28mprint\u001b[39m(\u001b[38;5;28;43mint\u001b[39;49m\u001b[43m(\u001b[49m\u001b[43mvalue\u001b[49m\u001b[43m)\u001b[49m)\n",
      "\u001b[0;31mValueError\u001b[0m: invalid literal for int() with base 10: 'abc'"
     ]
    }
   ],
   "source": [
    "value = \"abc\"\n",
    "\n",
    "print(int(value))"
   ]
  },
  {
   "cell_type": "code",
   "execution_count": null,
   "id": "94b9792d-30fe-455e-8ae0-e0569df41d6e",
   "metadata": {},
   "outputs": [],
   "source": []
  }
 ],
 "metadata": {
  "kernelspec": {
   "display_name": "Python 3 (ipykernel)",
   "language": "python",
   "name": "python3"
  },
  "language_info": {
   "codemirror_mode": {
    "name": "ipython",
    "version": 3
   },
   "file_extension": ".py",
   "mimetype": "text/x-python",
   "name": "python",
   "nbconvert_exporter": "python",
   "pygments_lexer": "ipython3",
   "version": "3.8.10"
  }
 },
 "nbformat": 4,
 "nbformat_minor": 5
}
