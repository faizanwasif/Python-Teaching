{
 "cells": [
  {
   "cell_type": "markdown",
   "id": "be87442e-96f1-42ed-a7c6-0ee48c1a3570",
   "metadata": {},
   "source": [
    "# Logical Operators in Python\n",
    "\n",
    "## Introduction\n",
    "\n",
    "Logical operators are used to combine or modify the results of logical expressions. Python provides three main logical operators: and, or, and not. In this notebook, we'll explore these operators and understand how they work.\n"
   ]
  },
  {
   "cell_type": "markdown",
   "id": "71bbbf8a-ac8b-4689-8ea1-4fc4889a188c",
   "metadata": {},
   "source": [
    "## The \"and\" Operator\n",
    "\n",
    "The and operator returns True if both the left and right expressions are True. Otherwise, it returns False."
   ]
  },
  {
   "cell_type": "markdown",
   "id": "46afb771-168b-4f08-9bec-5ac7ad56d28a",
   "metadata": {},
   "source": [
    "### Example 1: Using \"and\""
   ]
  },
  {
   "cell_type": "code",
   "execution_count": 1,
   "id": "35c6215d-eede-41b9-afbc-ed2c73120d59",
   "metadata": {},
   "outputs": [
    {
     "name": "stdout",
     "output_type": "stream",
     "text": [
      "False\n"
     ]
    }
   ],
   "source": [
    "x = True\n",
    "y = False\n",
    "result = x and y\n",
    "print(result)  # Output: False\n"
   ]
  },
  {
   "cell_type": "markdown",
   "id": "22df4566-1dc9-4e2a-845b-0f108e9789de",
   "metadata": {},
   "source": [
    "## The \"or\" Operator\n",
    "\n",
    "The or operator returns True if at least one of the left or right expressions is True. It returns False only if both expressions are False."
   ]
  },
  {
   "cell_type": "code",
   "execution_count": 2,
   "id": "1625e152-01cc-442c-96b5-78b65e041554",
   "metadata": {},
   "outputs": [
    {
     "name": "stdout",
     "output_type": "stream",
     "text": [
      "True\n"
     ]
    }
   ],
   "source": [
    "a = True\n",
    "b = False\n",
    "result = a or b   \n",
    "print(result)  # Output: True\n"
   ]
  },
  {
   "cell_type": "markdown",
   "id": "a30a513a-a065-40ef-8f84-897c85dfb60c",
   "metadata": {},
   "source": [
    "## The \"not\" Operator\n",
    "\n",
    "The not operator is a unary operator that returns the opposite of the expression it precedes. If the expression is True, not makes it False, and if the expression is False, not makes it True."
   ]
  },
  {
   "cell_type": "code",
   "execution_count": 3,
   "id": "347dacf6-dc31-4a69-8e09-8ce917da0083",
   "metadata": {},
   "outputs": [
    {
     "name": "stdout",
     "output_type": "stream",
     "text": [
      "True\n"
     ]
    }
   ],
   "source": [
    "value = False\n",
    "result = not value\n",
    "print(result)  # Output: True\n"
   ]
  },
  {
   "cell_type": "markdown",
   "id": "463409ce-b57b-47d1-9cac-245d10d100d5",
   "metadata": {},
   "source": [
    "## Combining Logical Operators\n",
    "\n",
    "You can combine logical operators to create complex conditions.\n",
    "### Example 4: Combining and and or"
   ]
  },
  {
   "cell_type": "code",
   "execution_count": null,
   "id": "192719c8-b385-45fc-8003-5e2c9dd726ea",
   "metadata": {},
   "outputs": [],
   "source": [
    "x = True\n",
    "y = False\n",
    "z = True\n",
    "result = (x or y) and (not z)\n",
    "print(result)\n",
    "\n",
    "# Here, result is False because the first expression (x or y) is True, but (not z) is False."
   ]
  },
  {
   "cell_type": "markdown",
   "id": "97134986-4ec9-4673-92d3-c24b12dcf4bb",
   "metadata": {},
   "source": [
    "## Table for logical operators\n",
    "\n",
    "\n",
    "| Operator | Description                       | Example                  | Result    |\n",
    "|----------|-----------------------------------|--------------------------|-----------|\n",
    "| `and`    | Logical AND                       | `True and True`          | `True`    |\n",
    "|          |                                   | `True and False`         | `False`   |\n",
    "|          |                                   | `False and True`         | `False`   |\n",
    "|          |                                   | `False and False`        | `False`   |\n",
    "|----------|-----------------------------------|--------------------------|-----------|\n",
    "| `or`     | Logical OR                        | `True or True`           | `True`    |\n",
    "|          |                                   | `True or False`          | `True`    |\n",
    "|          |                                   | `False or True`          | `True`    |\n",
    "|          |                                   | `False or False`         | `False`   |\n",
    "|----------|-----------------------------------|--------------------------|-----------|\n",
    "| `not`    | Logical NOT (Unary)               | `not True`               | `False`   |\n",
    "|          |                                   | `not False`              | `True`    |\n",
    "|----------|-----------------------------------|--------------------------|-----------|\n"
   ]
  },
  {
   "cell_type": "markdown",
   "id": "579d8054-4fd3-4c4e-8e49-66373b8b2d26",
   "metadata": {},
   "source": [
    "## Conclusion\n",
    "\n",
    "Logical operators are powerful tools for building conditional expressions and controlling the flow of your Python programs. By understanding how and, or, and not work, you can create complex conditions that drive your program's behavior.\n",
    "\n",
    "Feel free to experiment with different combinations of logical operators to practice and solidify your understanding."
   ]
  },
  {
   "cell_type": "code",
   "execution_count": null,
   "id": "d44c8501-da25-40ab-b8a1-3b316b29356b",
   "metadata": {},
   "outputs": [],
   "source": []
  }
 ],
 "metadata": {
  "kernelspec": {
   "display_name": "Python 3 (ipykernel)",
   "language": "python",
   "name": "python3"
  },
  "language_info": {
   "codemirror_mode": {
    "name": "ipython",
    "version": 3
   },
   "file_extension": ".py",
   "mimetype": "text/x-python",
   "name": "python",
   "nbconvert_exporter": "python",
   "pygments_lexer": "ipython3",
   "version": "3.8.10"
  }
 },
 "nbformat": 4,
 "nbformat_minor": 5
}
