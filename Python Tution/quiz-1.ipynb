{
 "cells": [
  {
   "cell_type": "code",
   "execution_count": 1,
   "id": "8fc9c02b-99bf-4cbc-b236-fb8402a42930",
   "metadata": {},
   "outputs": [
    {
     "name": "stdout",
     "output_type": "stream",
     "text": [
      "Robert 123455667 Dar es salaam\n"
     ]
    }
   ],
   "source": [
    "name, phone, location = \"Robert\", 123455667, \"Dar es salaam\" \n",
    "\n",
    "print(name, phone, location)"
   ]
  },
  {
   "cell_type": "code",
   "execution_count": 2,
   "id": "1b56d84f-187a-4888-8a4e-2ad8f2a66aa8",
   "metadata": {},
   "outputs": [
    {
     "name": "stdout",
     "output_type": "stream",
     "text": [
      "25\n"
     ]
    }
   ],
   "source": [
    "area = 25.6\n",
    "area = int(area)\n",
    "print(area)"
   ]
  },
  {
   "cell_type": "code",
   "execution_count": 3,
   "id": "dfc9821e-b6eb-4d56-b574-38d90f3f13b7",
   "metadata": {},
   "outputs": [
    {
     "name": "stdin",
     "output_type": "stream",
     "text": [
      " 4\n"
     ]
    },
    {
     "ename": "TypeError",
     "evalue": "object of type 'int' has no len()",
     "output_type": "error",
     "traceback": [
      "\u001b[0;31m---------------------------------------------------------------------------\u001b[0m",
      "\u001b[0;31mTypeError\u001b[0m                                 Traceback (most recent call last)",
      "Cell \u001b[0;32mIn[3], line 2\u001b[0m\n\u001b[1;32m      1\u001b[0m val1 \u001b[38;5;241m=\u001b[39m \u001b[38;5;28mint\u001b[39m(\u001b[38;5;28minput\u001b[39m())\n\u001b[0;32m----> 2\u001b[0m \u001b[38;5;28mprint\u001b[39m(\u001b[38;5;28;43mlen\u001b[39;49m\u001b[43m(\u001b[49m\u001b[43mval1\u001b[49m\u001b[43m)\u001b[49m)\n",
      "\u001b[0;31mTypeError\u001b[0m: object of type 'int' has no len()"
     ]
    }
   ],
   "source": [
    "val1 = int(input())\n",
    "print(len(val1))"
   ]
  },
  {
   "cell_type": "code",
   "execution_count": 4,
   "id": "ed047786-3f20-43e6-89d6-d6c164579750",
   "metadata": {},
   "outputs": [
    {
     "name": "stdout",
     "output_type": "stream",
     "text": [
      "0\n"
     ]
    }
   ],
   "source": [
    "print(1 ** 4 // 2)"
   ]
  },
  {
   "cell_type": "code",
   "execution_count": 5,
   "id": "4fc740e0-3381-4256-b503-34c69e26b260",
   "metadata": {},
   "outputs": [
    {
     "name": "stdout",
     "output_type": "stream",
     "text": [
      "5\n"
     ]
    }
   ],
   "source": [
    "print(5 ** 8 ** 0 ** 7)"
   ]
  },
  {
   "cell_type": "code",
   "execution_count": 6,
   "id": "44aaae6d-89d3-4dc1-8da1-3990c2d7ed32",
   "metadata": {},
   "outputs": [
    {
     "name": "stdout",
     "output_type": "stream",
     "text": [
      "!nohtyP olleH\n"
     ]
    }
   ],
   "source": [
    "str = \"Hello Python!\" \n",
    "str = str[::-1] \n",
    "print(str)"
   ]
  },
  {
   "cell_type": "code",
   "execution_count": 7,
   "id": "05a3b453-c19c-4e8a-8e59-092049ce4329",
   "metadata": {},
   "outputs": [
    {
     "name": "stdout",
     "output_type": "stream",
     "text": [
      "Earth\n"
     ]
    }
   ],
   "source": [
    "tupl1 = (1., 2., 3.) \n",
    "tupl2 = (\"Earth\", \"Mars\", \"Jupiter\") \n",
    "x = (tupl1 + tupl2)[-3] \n",
    "print(x)"
   ]
  },
  {
   "cell_type": "code",
   "execution_count": 8,
   "id": "8f3f1724-afcc-46bb-b984-e236ac95f8af",
   "metadata": {},
   "outputs": [
    {
     "name": "stdout",
     "output_type": "stream",
     "text": [
      "12\n"
     ]
    }
   ],
   "source": [
    "def fun(x = 4, y = 5): \n",
    "    y -= 2 \n",
    "    return x * y * 1 \n",
    "    \n",
    "print(fun())"
   ]
  },
  {
   "cell_type": "code",
   "execution_count": null,
   "id": "d8661875-2781-4df7-b235-c9f08017a1ac",
   "metadata": {},
   "outputs": [],
   "source": []
  }
 ],
 "metadata": {
  "kernelspec": {
   "display_name": "Python 3 (ipykernel)",
   "language": "python",
   "name": "python3"
  },
  "language_info": {
   "codemirror_mode": {
    "name": "ipython",
    "version": 3
   },
   "file_extension": ".py",
   "mimetype": "text/x-python",
   "name": "python",
   "nbconvert_exporter": "python",
   "pygments_lexer": "ipython3",
   "version": "3.8.10"
  }
 },
 "nbformat": 4,
 "nbformat_minor": 5
}
