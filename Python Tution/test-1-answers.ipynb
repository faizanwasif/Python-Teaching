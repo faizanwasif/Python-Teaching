{
 "cells": [
  {
   "cell_type": "code",
   "execution_count": null,
   "id": "e314921d-d02f-44fd-951e-2741a73f4aab",
   "metadata": {},
   "outputs": [],
   "source": [
    "# Input from the user\n",
    "length = float(input(\"Enter the length of the rectangle: \"))\n",
    "width = float(input(\"Enter the width of the rectangle: \"))\n",
    "\n",
    "# Calculate the area\n",
    "area = length * width\n",
    "\n",
    "# Display the result\n",
    "print(\"The area of the rectangle is:\", area)\n"
   ]
  },
  {
   "cell_type": "code",
   "execution_count": null,
   "id": "5a96e600-568f-4418-b795-dbc97bb0a090",
   "metadata": {},
   "outputs": [],
   "source": [
    "# Input from the user\n",
    "fahrenheit = float(input(\"Enter temperature in Fahrenheit: \"))\n",
    "\n",
    "# Convert to Celsius\n",
    "celsius = (fahrenheit - 32) * 5/9\n",
    "\n",
    "# Display the result\n",
    "print(\"Temperature in Celsius:\", celsius)\n"
   ]
  },
  {
   "cell_type": "code",
   "execution_count": null,
   "id": "f70d17c3-7fa1-4dcd-93ad-35be2821aeb2",
   "metadata": {},
   "outputs": [],
   "source": [
    "# Function to check if a number is even\n",
    "def is_even(num):\n",
    "    return num % 2 == 0\n",
    "\n",
    "# Input from the user\n",
    "num = int(input(\"Enter an integer: \"))\n",
    "\n",
    "# Check if the number is even\n",
    "if is_even(num):\n",
    "    print(\"The number is even.\")\n",
    "else:\n",
    "    print(\"The number is odd.\")\n"
   ]
  },
  {
   "cell_type": "code",
   "execution_count": null,
   "id": "04736617-b8ae-468e-b8e2-3bc9d16f4a61",
   "metadata": {},
   "outputs": [],
   "source": [
    "# Input from the user\n",
    "num1 = float(input(\"Enter the first number: \"))\n",
    "num2 = float(input(\"Enter the second number: \"))\n",
    "num3 = float(input(\"Enter the third number: \"))\n",
    "\n",
    "# Calculate the average\n",
    "average = (num1 + num2 + num3) / 3\n",
    "\n",
    "# Display the result\n",
    "print(\"The average is:\", average)\n"
   ]
  },
  {
   "cell_type": "code",
   "execution_count": null,
   "id": "72e82f9c-456a-424a-b2ff-6cbe95f0dfe7",
   "metadata": {},
   "outputs": [],
   "source": [
    "# Input from the user\n",
    "age = int(input(\"Enter your age: \"))\n",
    "\n",
    "# Check eligibility to vote\n",
    "if age >= 18:\n",
    "    print(\"You are eligible to vote.\")\n",
    "else:\n",
    "    print(\"You are not eligible to vote.\")\n"
   ]
  },
  {
   "cell_type": "code",
   "execution_count": null,
   "id": "d7e1c37e-d82d-45c2-b348-fbea6f6648d3",
   "metadata": {},
   "outputs": [],
   "source": [
    "# Input from the user\n",
    "name = input(\"Enter your name: \")\n",
    "\n",
    "# Display the greeting message\n",
    "print(\"Hello,\", name + \"!\")\n"
   ]
  },
  {
   "cell_type": "code",
   "execution_count": null,
   "id": "4598e46a-9519-4a0b-843c-3d866e8e4c60",
   "metadata": {},
   "outputs": [],
   "source": [
    "# Input from the user\n",
    "sentence = input(\"Enter a sentence: \")\n",
    "\n",
    "# Check if \"Python\" (case-insensitive) is in the sentence\n",
    "if \"python\" in sentence.lower():\n",
    "    print(\"Python found!\")\n",
    "else:\n",
    "    print(\"Python not found!\")\n"
   ]
  },
  {
   "cell_type": "code",
   "execution_count": null,
   "id": "01539a73-0397-483c-a54c-27fdcbfe341c",
   "metadata": {},
   "outputs": [],
   "source": [
    "# Input from the user\n",
    "sentence = input(\"Enter a sentence: \")\n",
    "\n",
    "# Define a list of vowels\n",
    "vowels = \"AEIOUaeiou\"\n",
    "\n",
    "# Initialize a count\n",
    "count = 0\n",
    "\n",
    "# Iterate through the sentence and count vowels\n",
    "for char in sentence:\n",
    "    if char in vowels:\n",
    "        count += 1\n",
    "\n",
    "# Display the count\n",
    "print(\"Number of vowels:\", count)\n"
   ]
  }
 ],
 "metadata": {
  "kernelspec": {
   "display_name": "Python 3 (ipykernel)",
   "language": "python",
   "name": "python3"
  },
  "language_info": {
   "codemirror_mode": {
    "name": "ipython",
    "version": 3
   },
   "file_extension": ".py",
   "mimetype": "text/x-python",
   "name": "python",
   "nbconvert_exporter": "python",
   "pygments_lexer": "ipython3",
   "version": "3.8.10"
  }
 },
 "nbformat": 4,
 "nbformat_minor": 5
}
